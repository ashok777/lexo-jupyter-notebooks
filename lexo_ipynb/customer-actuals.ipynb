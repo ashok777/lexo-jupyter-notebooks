{
 "cells": [
  {
   "cell_type": "markdown",
   "id": "02c183cb-687a-444d-b33a-ef37cba89542",
   "metadata": {},
   "source": [
    "Customer cohorts  are tracked by start month and active month. Start month is the month during which a cohort of customers became active.  So, for every month, there is a  cohort of new customers.\n",
    "\n",
    "All cohorts are tracked during the entire year. Given any cohort, there is expected to be a drop-off of customers that belong to that cohort.\n",
    "\n",
    "The customer count of a cohort in the second and subsequent month of a cohort's existence is referred  as retention counts, while the number recorded in the first month is the initial count.\n",
    "\n",
    "Churn rate gauges the fall-off in customer retention across all cohorts. Given a 12 month calendar period, where the tracking activity is assumed to start in January, the 1st churn rate is the churn rate for February. That number is calculated by summing the customer counts across all cohorts in the\n",
    "2nd month of their existence, divided by the sum of customer counts of cohorts in the 1st month of their existence, minus 1.\n",
    "\n",
    "Similarly, the 2nd churn rate id calculated thusly:sum of customer counts for all cohorts in their 3rd month of existence/sum of customer counts for all cohorts in their 2nd month of existence -1;\n",
    "\n",
    "The 3rd and subsequent churn rates are calculated similarly.\n",
    "\n",
    "Generalizing,  the nth churn rate is: sum of customer counts for all cohorts in their n+1st month of existence/sum of customer counts for all cohorts in their nth month of existence -1;\n",
    "\n",
    "The input data needed are rows of [sorted] data with the following columns:\n",
    "start-month, active-month, customer-count\n",
    "\n",
    "A row with start-month and active-month are the same signals the start of a cohort. Once that is seen,\n",
    "the start-month identifies a cohort; the series of counts associated with the subsequent active months (for that start-month) represents the retention counts for that cohort.\n",
    "\n",
    "Other processing considerations:\n",
    "1. The cohort associated with the final period (i.e last  active month) is not considered in churn rate\n",
    "    calculations as there is no retention count data available for that cohort\n",
    "2. The life span of cohorts varies from the earliest formed cohort to the most recently formed one.\n",
    "   Therefore when processing for the nth month, a cohort may not exist and so it has to be by-passed   \n",
    "   for aggregation."
   ]
  },
  {
   "cell_type": "markdown",
   "id": "bf3956e2-cf8e-41e8-a6ed-58b1b6074930",
   "metadata": {},
   "source": [
    "Customer Cohort Monthly churn rate calculator : Calculates monthly churn rate and forecast of customer count"
   ]
  },
  {
   "cell_type": "markdown",
   "id": "7bc2f083-d8b1-4f6b-a840-3aeba52a9a9c",
   "metadata": {},
   "source": [
    "Input to this notebook operation : A csv file that captures an SQL Query resultset of normalized customer cohort data. For each period that data is the cohort start month,the active month and the associated recorded customer count"
   ]
  },
  {
   "cell_type": "code",
   "execution_count": 13,
   "id": "a5f8e3c7-06ac-4083-b5d1-d5256db16895",
   "metadata": {},
   "outputs": [],
   "source": [
    "customActualsInputFile = \"../csv/customer-actuals.csv\" # input to start notebook operations"
   ]
  },
  {
   "cell_type": "code",
   "execution_count": 14,
   "id": "e29600e4-fa95-4d97-b6a1-af8a9bfc8d82",
   "metadata": {},
   "outputs": [],
   "source": [
    "customerActualsMonthlyChurnRate = []    # output of the notebook operation; persisted into Pod#UnitCustomerLTV/VAR#monthly-churn-rate"
   ]
  },
  {
   "cell_type": "markdown",
   "id": "c9df61eb-56d5-4132-bd56-d1c999bf8451",
   "metadata": {},
   "source": [
    "Output of the notebook operation: \n",
    "   customerActualsMonthlyChurnRates array\n",
    "   The monthly churn rate (on a weighted basis across all cohorts) from the beginning \n",
    "   month to the next to last month. Persisted into Pod#UnitCustomerLTV as VAR monthly-churn-rate \n"
   ]
  },
  {
   "cell_type": "code",
   "execution_count": 15,
   "id": "0b54f119-c9da-40d0-a6b3-8c9aadc84e53",
   "metadata": {},
   "outputs": [],
   "source": [
    "normalizedCustomerActualsJsonData = [];"
   ]
  },
  {
   "cell_type": "code",
   "execution_count": 16,
   "id": "d95bd306-1090-45b1-bba8-0e77105a6363",
   "metadata": {},
   "outputs": [],
   "source": [
    "cusActualsPodName= \"CustomerActuals\"; # name of associated pod\n",
    "unitCusLTVPodName= \"UnitCustomerLTV\";  # name of related pod\n",
    "\n",
    "import sys; sys.path.insert(0, '../pythonLib')\n",
    "from customerCohortOperations import prepareDataForPopulatingActualsOrForecastPod, updatePodObj\n",
    "from LexoOperations import getBean, saveBean, getPod, savePod"
   ]
  },
  {
   "cell_type": "code",
   "execution_count": 17,
   "id": "61b4ab83-5e8d-4855-910f-6a6acee5e6e6",
   "metadata": {},
   "outputs": [],
   "source": [
    "# convert cohort csv data into a json (python Dict) object \n",
    "import csv\n",
    "import json\n",
    "\n",
    "def csv_to_json(csvFilePath):\n",
    "    \n",
    "    # read csv file and populate python object normalizedCustomerCohortJsonData\n",
    "    with open(csvFilePath, encoding='utf-8') as csvf:\n",
    "        # load csv file data using csv library's dictionary reader\n",
    "        csvReader = csv.DictReader(csvf)\n",
    "\n",
    "        # convert each csv row into python dict\n",
    "        for row in csvReader:\n",
    "            # add this python dict to json array\n",
    "            normalizedCustomerActualsJsonData.append(row)\n",
    "\n",
    "csvFilePath =customActualsInputFile\n",
    "csv_to_json(csvFilePath)\n",
    "\n",
    "#print(normalizedCustomerActualsJsonData)\n",
    "\n"
   ]
  },
  {
   "cell_type": "code",
   "execution_count": 18,
   "id": "bb9034ee-9dd3-46f4-87f9-40b1be27d2a2",
   "metadata": {},
   "outputs": [],
   "source": [
    "from IPython.display import JSON\n",
    "import requests\n",
    "import pandas as pd\n",
    "import  json\n",
    "import numpy as np\n",
    "from datetime import datetime\n",
    "from dateutil.relativedelta import relativedelta"
   ]
  },
  {
   "cell_type": "code",
   "execution_count": 19,
   "id": "b5400dfe-620b-4bae-ad7f-cba2280d5de2",
   "metadata": {},
   "outputs": [],
   "source": [
    "def numberOfMonths( dateOfFirstPeriod, dateOfLastPeriod):\n",
    "    date_format = '%Y-%m-%d';\n",
    "    end_date = datetime.strptime(dateOfLastPeriod,date_format)\n",
    "    start_date = datetime.strptime(dateOfFirstPeriod,date_format)\n",
    "\n",
    "    num_months = (end_date.year - start_date.year) * 12 + (end_date.month - start_date.month) +1;\n",
    "    return num_months;\n",
    "\n",
    "def addMonthsToGivenDate( givenDate, n):\n",
    "    date_format = '%Y-%m-%d'\n",
    "    dtObj = datetime.strptime(givenDate, date_format)\n",
    "    futureDate = dtObj + relativedelta(months=n);\n",
    "    futureDateStr = futureDate.date().strftime(date_format);\n",
    "    return futureDateStr\n"
   ]
  },
  {
   "cell_type": "code",
   "execution_count": 20,
   "id": "7530e19a-e9b5-465a-8852-19442dd5ac42",
   "metadata": {},
   "outputs": [],
   "source": [
    "def getCusCountFromDataFrameGivenActiveMonthAndStartMonth(normalizedDF, activeMonth, startMonth,):\n",
    "    df = normalizedDF;\n",
    "    cusCount = float(\"NAN\");\n",
    "    selectedRow = df.loc[(df['active-month'] == activeMonth) & (df['start-month'] == startMonth)]  # returns a dataframe with that one row\n",
    "    if selectedRow.empty :\n",
    "        pass\n",
    "    else:\n",
    "        cusCount =  selectedRow.iloc[0,2]  #1st index is row selector, 2nd index is col selector (cus-count is at index 2\n",
    "    if (isinstance(cusCount,int)):\n",
    "        return (int(cusCount))\n",
    "    else:\n",
    "        return float(cusCount)"
   ]
  },
  {
   "cell_type": "code",
   "execution_count": 21,
   "id": "f36788e8-34e6-47ea-abf8-cd30cddb3544",
   "metadata": {},
   "outputs": [],
   "source": [
    "def calcMonthlyChurnRate(  normalizedDF,  activeMonths, startMonths):\n",
    "\n",
    "    monthlyChurnRate =[];\n",
    "    firstPeriodDate = activeMonths[0];\n",
    "    lastPeriodDate = activeMonths[-1];\n",
    "    numOfMonthsInEvalPeriod = numberOfMonths(firstPeriodDate, lastPeriodDate);\n",
    "    \n",
    "    periodIndex = 0;\n",
    "    for activeMonth in activeMonths:\n",
    "        sumOfRetainedCustomersForActiveMonth= 0;\n",
    "        periodIndex = periodIndex+1;\n",
    "        #churnrate not calculated for last month in period as it  requires data for following month\n",
    "        if periodIndex >= numOfMonthsInEvalPeriod:\n",
    "            pass\n",
    "        else:\n",
    "            #print('activeMonth:', activeMonth)\n",
    "            baselineCustomersForActiveMonth = 0;\n",
    "            for startMonth in startMonths:\n",
    "                cusStartDate = startMonth;\n",
    "                trackingDate = addMonthsToGivenDate(cusStartDate, periodIndex);\n",
    "                if trackingDate > lastPeriodDate :\n",
    "                    continue\n",
    "                else:\n",
    "                    cusCount = getCusCountFromDataFrameGivenActiveMonthAndStartMonth(normalizedDF,trackingDate, cusStartDate)\n",
    "                   \n",
    "                    if  pd.isna(cusCount):\n",
    "                        continue\n",
    "                    else:\n",
    "                    \n",
    "                        sumOfRetainedCustomersForActiveMonth = sumOfRetainedCustomersForActiveMonth + cusCount;\n",
    "                        #print('sumOfRetainedCustomersForActiveMonth:', sumOfRetainedCustomersForActiveMonth);\n",
    "                    #end\n",
    "                    # sum of all baseline customer count in every cohort for every period until the next to last month\n",
    "                    baselineTrackingDate = addMonthsToGivenDate(cusStartDate, periodIndex - 1);\n",
    "                    baselineCusCount = getCusCountFromDataFrameGivenActiveMonthAndStartMonth(normalizedDF,baselineTrackingDate, cusStartDate)\n",
    "                    #print('activeMonth:', baselineTrackingDate, 'startMonth:',cusStartDate, 'baselineCusCount:', baselineCusCount);\n",
    "                    if  pd.isna(baselineCusCount):\n",
    "                        pass\n",
    "                    else:\n",
    "                        baselineCustomersForActiveMonth = baselineCustomersForActiveMonth + baselineCusCount;\n",
    "                        #print('baselineCustomersForActiveMonth:', baselineCustomersForActiveMonth);\n",
    "            if baselineCustomersForActiveMonth > 0:\n",
    "                churnRate = sumOfRetainedCustomersForActiveMonth/baselineCustomersForActiveMonth - 1;\n",
    "                #print('activeMonth:', activeMonth, 'churnRate:', churnRate);\n",
    "                monthlyChurnRate.append(churnRate);\n",
    "        #end of else\n",
    "    return monthlyChurnRate;\n"
   ]
  },
  {
   "cell_type": "code",
   "execution_count": 22,
   "id": "cd46f6ff-0f0c-41c1-96fb-241f5eec8355",
   "metadata": {},
   "outputs": [],
   "source": [
    "def extractStartMonthsAndActiveMonths(normalizedActualCustomerCountJsonData):\n",
    "    startMonths=[];\n",
    "    activeMonths=[];\n",
    "    for customerActivityRecord in normalizedActualCustomerCountJsonData:\n",
    "        startMonth = customerActivityRecord[\"start-month\"]\n",
    "        activeMonth = customerActivityRecord[\"active-month\"]\n",
    "        cusCount=customerActivityRecord[\"cus-count\"]\n",
    "        if startMonth not in startMonths:\n",
    "            startMonths.append(startMonth)\n",
    "        if activeMonth not in activeMonths:\n",
    "            activeMonths.append(activeMonth)\n",
    "                \n",
    "    retVal = { \"startMonths\":startMonths, \"activeMonths\":activeMonths}     \n",
    "    return retVal;\n"
   ]
  },
  {
   "cell_type": "code",
   "execution_count": 23,
   "id": "0983f50c-1993-4c95-9a61-72f770d31741",
   "metadata": {},
   "outputs": [],
   "source": [
    "#load the customer actuals json data into a data frame\n",
    "normalizedCustomerActualsDF = pd.DataFrame(normalizedCustomerActualsJsonData)\n",
    "#print(normalizedCustomerActualsDF)"
   ]
  },
  {
   "cell_type": "code",
   "execution_count": 24,
   "id": "69d676df-6192-4321-83d5-3d2ebbe863c5",
   "metadata": {},
   "outputs": [
    {
     "name": "stdout",
     "output_type": "stream",
     "text": [
      "start-month   2020-01-01  2020-02-01  2020-03-01  2020-04-01  2020-05-01  \\\n",
      "active-month                                                               \n",
      "2020-01-01          50.0         NaN         NaN         NaN         NaN   \n",
      "2020-02-01          35.0        55.0         NaN         NaN         NaN   \n",
      "2020-03-01          30.1        38.5        60.0         NaN         NaN   \n",
      "2020-04-01          25.0        33.1        42.0        65.0         NaN   \n",
      "2020-05-01          25.0        27.5        36.1        45.5        70.0   \n",
      "2020-06-01          25.0        27.5        30.0        39.1        49.0   \n",
      "2020-07-01          25.0        27.5        30.0        32.5        42.1   \n",
      "2020-08-01          25.0        27.5        30.0        32.5        35.0   \n",
      "2020-09-01          25.0        27.5        30.0        32.5        35.0   \n",
      "2020-10-01          25.0        27.5        30.0        32.5        35.0   \n",
      "2020-11-01          25.0        27.5        30.0        32.5        35.0   \n",
      "2020-12-01          25.0        27.5        30.0        32.5        35.0   \n",
      "\n",
      "start-month   2020-06-01  2020-07-01  2020-08-01  2020-09-01  2020-10-01  \\\n",
      "active-month                                                               \n",
      "2020-01-01           NaN         NaN         NaN         NaN         NaN   \n",
      "2020-02-01           NaN         NaN         NaN         NaN         NaN   \n",
      "2020-03-01           NaN         NaN         NaN         NaN         NaN   \n",
      "2020-04-01           NaN         NaN         NaN         NaN         NaN   \n",
      "2020-05-01           NaN         NaN         NaN         NaN         NaN   \n",
      "2020-06-01          70.0         NaN         NaN         NaN         NaN   \n",
      "2020-07-01          49.0        70.0         NaN         NaN         NaN   \n",
      "2020-08-01          42.1        49.0        70.0         NaN         NaN   \n",
      "2020-09-01          35.0        42.1        49.0        70.0         NaN   \n",
      "2020-10-01          35.0        35.0        42.1        49.0        70.0   \n",
      "2020-11-01          35.0        35.0        35.0        42.1        49.0   \n",
      "2020-12-01          35.0        35.0        35.0        35.0        42.1   \n",
      "\n",
      "start-month   2020-11-01  2020-12-01  \n",
      "active-month                          \n",
      "2020-01-01           NaN         NaN  \n",
      "2020-02-01           NaN         NaN  \n",
      "2020-03-01           NaN         NaN  \n",
      "2020-04-01           NaN         NaN  \n",
      "2020-05-01           NaN         NaN  \n",
      "2020-06-01           NaN         NaN  \n",
      "2020-07-01           NaN         NaN  \n",
      "2020-08-01           NaN         NaN  \n",
      "2020-09-01           NaN         NaN  \n",
      "2020-10-01           NaN         NaN  \n",
      "2020-11-01          70.0         NaN  \n",
      "2020-12-01          49.0        70.0  \n"
     ]
    }
   ],
   "source": [
    "#pivoted customer cohort DataFrame\n",
    "pivotedCustomerActualsDF = pd.pivot_table(normalizedCustomerActualsDF, values='cus-count', \n",
    "                                         index=['active-month'],columns=['start-month'])\n",
    "\n",
    "print(pivotedCustomerActualsDF)"
   ]
  },
  {
   "cell_type": "code",
   "execution_count": 25,
   "id": "22a4739f-7243-4b62-a899-e3b7c56ad0b2",
   "metadata": {},
   "outputs": [],
   "source": [
    "retVal = extractStartMonthsAndActiveMonths(normalizedCustomerActualsJsonData)\n",
    "startMonths =retVal[\"startMonths\"]\n",
    "activeMonths = retVal[\"activeMonths\"]\n"
   ]
  },
  {
   "cell_type": "code",
   "execution_count": 26,
   "id": "a3ff1580-f65b-472c-baea-102babecbddc",
   "metadata": {},
   "outputs": [],
   "source": [
    "customerActualsMonthlyChurnRate = calcMonthlyChurnRate(normalizedCustomerActualsDF,startMonths,activeMonths)\n",
    "#print(customerActualsMonthlyChurnRate)"
   ]
  },
  {
   "cell_type": "code",
   "execution_count": 27,
   "id": "c2deb792-4bfb-4212-a19a-796575e1169c",
   "metadata": {},
   "outputs": [
    {
     "name": "stdout",
     "output_type": "stream",
     "text": [
      "['-0.30', '-0.14', '-0.17', '0.00', '0.00', '0.00', '0.00', '0.00', '0.00', '0.00', '0.00']\n"
     ]
    }
   ],
   "source": [
    "\n",
    "# set number of decimal places and make it string; \n",
    "# it turns out that floats are not retaining 2 decimals if value is 0; better consistency if string\n",
    "\n",
    "mcr = []\n",
    "for item in customerActualsMonthlyChurnRate:\n",
    "    #set number of decimal points to 2 and make it a float from string\n",
    "    if (isinstance(item,str)) :\n",
    "        item = '%.2f'%float(item) #use the string format operator %; \n",
    "        mcr.append(item) \n",
    "    elif (isinstance(item,float)):\n",
    "        item = '%.2f'%item #will trim to 2 decimals and make it str\n",
    "        mcr.append(item)\n",
    "    else:   \n",
    "        mcr.append(item)\n",
    "customerActualsMonthlyChurnRate = mcr\n",
    "print(customerActualsMonthlyChurnRate)"
   ]
  },
  {
   "cell_type": "code",
   "execution_count": 28,
   "id": "f5c03881-6574-4eb3-9b88-bd8f415c131e",
   "metadata": {},
   "outputs": [
    {
     "name": "stdout",
     "output_type": "stream",
     "text": [
      "Stored 'customerActualsMonthlyChurnRate' (list)\n"
     ]
    }
   ],
   "source": [
    "%store customerActualsMonthlyChurnRate"
   ]
  },
  {
   "cell_type": "markdown",
   "id": "282a90a1-0228-44b2-9b9d-7e2fafeaa4d5",
   "metadata": {},
   "source": [
    "At this point the churn rates have been calculated from the normalized cohort data input;\n",
    "The CustomerActuals Pod needs to be updated ( it represents a pivoted view of the normalized structure). It is assumed that the Pod has already been set up( with the appropriate column and row headers). Data to be populated is prepared ; the pod is fetched, updated with the prepared data and then saved"
   ]
  },
  {
   "cell_type": "code",
   "execution_count": 107,
   "id": "fc1c49bb-dbfe-428f-92d9-cbbf404c5940",
   "metadata": {},
   "outputs": [],
   "source": [
    "podDataForCusActuals = prepareDataForPopulatingActualsOrForecastPod(normalizedCustomerActualsDF);\n",
    "\n",
    "#For debugging, uncomment\n",
    "#for item in podDataForCusActuals:\n",
    "#    print(item)"
   ]
  },
  {
   "cell_type": "code",
   "execution_count": 108,
   "id": "eb0c33fb-8334-4cf7-9674-eebde7824f4f",
   "metadata": {},
   "outputs": [],
   "source": [
    "cusActualsPod = getPod(cusActualsPodName)\n",
    "#JSON(cusActualsPod)"
   ]
  },
  {
   "cell_type": "code",
   "execution_count": 109,
   "id": "bb804cad-9cf0-40e6-8ad8-1f464e785cad",
   "metadata": {},
   "outputs": [],
   "source": [
    "#update CustomerActuals data \n",
    "updatePodObj(cusActualsPod, podDataForCusActuals) # uncomment to execute"
   ]
  },
  {
   "cell_type": "code",
   "execution_count": 110,
   "id": "08329f10-fff8-4864-b1ff-c757c7ed9f2f",
   "metadata": {},
   "outputs": [],
   "source": [
    "savedPod= savePod(cusActualsPod)  #uncomment to execute"
   ]
  },
  {
   "cell_type": "code",
   "execution_count": 111,
   "id": "ab64ce5d-f26a-4e24-bdd7-989ba7935c42",
   "metadata": {},
   "outputs": [
    {
     "data": {
      "application/json": {
       "__v": 0,
       "_id": 2,
       "cells": [
        {
         "address": "B3",
         "cellDataType": "INPUT",
         "cellType": "ROW_IND",
         "colId": 0,
         "contributingBeanIds": [
          405
         ],
         "data": "1",
         "format": {
          "autoIndent": false,
          "columnWidth": 48,
          "fill": {
           "color": "#000000",
           "pattern": null,
           "patternColor": null,
           "patternTintAndShade": null,
           "tintAndShade": 0
          },
          "font": {
           "bold": false,
           "color": "#FFFFFF",
           "italic": false,
           "name": "Calibri",
           "size": 11,
           "strikethrough": false,
           "subscript": false,
           "superscript": false,
           "tintAndShade": 0,
           "underline": "None"
          },
          "horizontalAlignment": "Center",
          "indentLevel": 0,
          "readingOrder": "Context",
          "rowHeight": 14.5,
          "shrinkToFit": false,
          "textOrientation": 0,
          "useStandardHeight": true,
          "useStandardWidth": true,
          "verticalAlignment": "Bottom",
          "wrapText": false
         },
         "formula": "",
         "id": 1,
         "oriFormula": "",
         "rowId": 0,
         "symRefAddress": ""
        },
        {
         "address": "C3",
         "cellDataType": "INPUT",
         "cellType": "COL_IND",
         "colId": 1,
         "contributingBeanIds": [
          405
         ],
         "data": "Unit Customer LTV",
         "format": {
          "autoIndent": false,
          "columnWidth": 107.5,
          "fill": {
           "color": "#000000",
           "pattern": null,
           "patternColor": null,
           "patternTintAndShade": null,
           "tintAndShade": 0
          },
          "font": {
           "bold": true,
           "color": "#FFFFFF",
           "italic": false,
           "name": "Calibri",
           "size": 11,
           "strikethrough": false,
           "subscript": false,
           "superscript": false,
           "tintAndShade": 0,
           "underline": "None"
          },
          "horizontalAlignment": "General",
          "indentLevel": 0,
          "readingOrder": "Context",
          "rowHeight": 14.5,
          "shrinkToFit": false,
          "textOrientation": 0,
          "useStandardHeight": true,
          "useStandardWidth": false,
          "verticalAlignment": "Bottom",
          "wrapText": false
         },
         "formula": "",
         "id": 2,
         "oriFormula": "",
         "rowId": 0,
         "symRefAddress": ""
        },
        {
         "address": "D3",
         "cellDataType": "INPUT",
         "cellType": "COL_IND",
         "colId": 2,
         "contributingBeanIds": [
          405
         ],
         "data": "",
         "format": {
          "autoIndent": false,
          "columnWidth": 58,
          "fill": {
           "color": "#000000",
           "pattern": null,
           "patternColor": null,
           "patternTintAndShade": null,
           "tintAndShade": 0
          },
          "font": {
           "bold": false,
           "color": "#FFFFFF",
           "italic": false,
           "name": "Calibri",
           "size": 11,
           "strikethrough": false,
           "subscript": false,
           "superscript": false,
           "tintAndShade": 0,
           "underline": "None"
          },
          "horizontalAlignment": "General",
          "indentLevel": 0,
          "readingOrder": "Context",
          "rowHeight": 14.5,
          "shrinkToFit": false,
          "textOrientation": 0,
          "useStandardHeight": true,
          "useStandardWidth": false,
          "verticalAlignment": "Bottom",
          "wrapText": false
         },
         "formula": "",
         "id": 3,
         "oriFormula": "",
         "rowId": 0,
         "symRefAddress": "m+0.new"
        },
        {
         "address": "E3",
         "cellDataType": "INPUT",
         "cellType": "COL_IND",
         "colId": 3,
         "contributingBeanIds": [
          405
         ],
         "data": "",
         "format": {
          "autoIndent": false,
          "columnWidth": 58,
          "fill": {
           "color": "#000000",
           "pattern": null,
           "patternColor": null,
           "patternTintAndShade": null,
           "tintAndShade": 0
          },
          "font": {
           "bold": false,
           "color": "#FFFFFF",
           "italic": false,
           "name": "Calibri",
           "size": 11,
           "strikethrough": false,
           "subscript": false,
           "superscript": false,
           "tintAndShade": 0,
           "underline": "None"
          },
          "horizontalAlignment": "General",
          "indentLevel": 0,
          "readingOrder": "Context",
          "rowHeight": 14.5,
          "shrinkToFit": false,
          "textOrientation": 0,
          "useStandardHeight": true,
          "useStandardWidth": false,
          "verticalAlignment": "Bottom",
          "wrapText": false
         },
         "formula": "",
         "id": 4,
         "oriFormula": "",
         "rowId": 0,
         "symRefAddress": "m+1.trial"
        },
        {
         "address": "F3",
         "cellDataType": "INPUT",
         "cellType": "COL_IND",
         "colId": 4,
         "contributingBeanIds": [
          405
         ],
         "data": "",
         "format": {
          "autoIndent": false,
          "columnWidth": 48,
          "fill": {
           "color": "#000000",
           "pattern": null,
           "patternColor": null,
           "patternTintAndShade": null,
           "tintAndShade": 0
          },
          "font": {
           "bold": false,
           "color": "#000000",
           "italic": false,
           "name": "Calibri",
           "size": 11,
           "strikethrough": false,
           "subscript": false,
           "superscript": false,
           "tintAndShade": 0,
           "underline": "None"
          },
          "horizontalAlignment": "General",
          "indentLevel": 0,
          "readingOrder": "Context",
          "rowHeight": 14.5,
          "shrinkToFit": false,
          "textOrientation": 0,
          "useStandardHeight": true,
          "useStandardWidth": true,
          "verticalAlignment": "Bottom",
          "wrapText": false
         },
         "formula": "",
         "id": 5,
         "oriFormula": "",
         "rowId": 0,
         "symRefAddress": "m+2.trial"
        },
        {
         "address": "G3",
         "cellDataType": "INPUT",
         "cellType": "COL_IND",
         "colId": 5,
         "contributingBeanIds": [
          405
         ],
         "data": "",
         "format": {
          "autoIndent": false,
          "columnWidth": 48,
          "fill": {
           "color": "#000000",
           "pattern": null,
           "patternColor": null,
           "patternTintAndShade": null,
           "tintAndShade": 0
          },
          "font": {
           "bold": false,
           "color": "#000000",
           "italic": false,
           "name": "Calibri",
           "size": 11,
           "strikethrough": false,
           "subscript": false,
           "superscript": false,
           "tintAndShade": 0,
           "underline": "None"
          },
          "horizontalAlignment": "General",
          "indentLevel": 0,
          "readingOrder": "Context",
          "rowHeight": 14.5,
          "shrinkToFit": false,
          "textOrientation": 0,
          "useStandardHeight": true,
          "useStandardWidth": true,
          "verticalAlignment": "Bottom",
          "wrapText": false
         },
         "formula": "",
         "id": 6,
         "oriFormula": "",
         "rowId": 0,
         "symRefAddress": "m+3.retained"
        },
        {
         "address": "H3",
         "cellDataType": "INPUT",
         "cellType": "COL_IND",
         "colId": 6,
         "contributingBeanIds": [
          405
         ],
         "data": "",
         "format": {
          "autoIndent": false,
          "columnWidth": 48,
          "fill": {
           "color": "#000000",
           "pattern": null,
           "patternColor": null,
           "patternTintAndShade": null,
           "tintAndShade": 0
          },
          "font": {
           "bold": false,
           "color": "#000000",
           "italic": false,
           "name": "Calibri",
           "size": 11,
           "strikethrough": false,
           "subscript": false,
           "superscript": false,
           "tintAndShade": 0,
           "underline": "None"
          },
          "horizontalAlignment": "General",
          "indentLevel": 0,
          "readingOrder": "Context",
          "rowHeight": 14.5,
          "shrinkToFit": false,
          "textOrientation": 0,
          "useStandardHeight": true,
          "useStandardWidth": true,
          "verticalAlignment": "Bottom",
          "wrapText": false
         },
         "formula": "",
         "id": 7,
         "oriFormula": "",
         "rowId": 0,
         "symRefAddress": "m+4.retained"
        },
        {
         "address": "I3",
         "cellDataType": "INPUT",
         "cellType": "COL_IND",
         "colId": 7,
         "contributingBeanIds": [
          405
         ],
         "data": "",
         "format": {
          "autoIndent": false,
          "columnWidth": 48,
          "fill": {
           "color": "#000000",
           "pattern": null,
           "patternColor": null,
           "patternTintAndShade": null,
           "tintAndShade": 0
          },
          "font": {
           "bold": false,
           "color": "#000000",
           "italic": false,
           "name": "Calibri",
           "size": 11,
           "strikethrough": false,
           "subscript": false,
           "superscript": false,
           "tintAndShade": 0,
           "underline": "None"
          },
          "horizontalAlignment": "General",
          "indentLevel": 0,
          "readingOrder": "Context",
          "rowHeight": 14.5,
          "shrinkToFit": false,
          "textOrientation": 0,
          "useStandardHeight": true,
          "useStandardWidth": true,
          "verticalAlignment": "Bottom",
          "wrapText": false
         },
         "formula": "",
         "id": 8,
         "oriFormula": "",
         "rowId": 0,
         "symRefAddress": "m+5.retained"
        },
        {
         "address": "J3",
         "cellDataType": "INPUT",
         "cellType": "COL_IND",
         "colId": 8,
         "contributingBeanIds": [
          405
         ],
         "data": "",
         "format": {
          "autoIndent": false,
          "columnWidth": 48,
          "fill": {
           "color": "#000000",
           "pattern": null,
           "patternColor": null,
           "patternTintAndShade": null,
           "tintAndShade": 0
          },
          "font": {
           "bold": false,
           "color": "#000000",
           "italic": false,
           "name": "Calibri",
           "size": 11,
           "strikethrough": false,
           "subscript": false,
           "superscript": false,
           "tintAndShade": 0,
           "underline": "None"
          },
          "horizontalAlignment": "General",
          "indentLevel": 0,
          "readingOrder": "Context",
          "rowHeight": 14.5,
          "shrinkToFit": false,
          "textOrientation": 0,
          "useStandardHeight": true,
          "useStandardWidth": true,
          "verticalAlignment": "Bottom",
          "wrapText": false
         },
         "formula": "",
         "id": 9,
         "oriFormula": "",
         "rowId": 0,
         "symRefAddress": "m+6.retained"
        },
        {
         "address": "K3",
         "cellDataType": "INPUT",
         "cellType": "COL_IND",
         "colId": 9,
         "contributingBeanIds": [
          405
         ],
         "data": "",
         "format": {
          "autoIndent": false,
          "columnWidth": 48,
          "fill": {
           "color": "#000000",
           "pattern": null,
           "patternColor": null,
           "patternTintAndShade": null,
           "tintAndShade": 0
          },
          "font": {
           "bold": false,
           "color": "#000000",
           "italic": false,
           "name": "Calibri",
           "size": 11,
           "strikethrough": false,
           "subscript": false,
           "superscript": false,
           "tintAndShade": 0,
           "underline": "None"
          },
          "horizontalAlignment": "General",
          "indentLevel": 0,
          "readingOrder": "Context",
          "rowHeight": 14.5,
          "shrinkToFit": false,
          "textOrientation": 0,
          "useStandardHeight": true,
          "useStandardWidth": true,
          "verticalAlignment": "Bottom",
          "wrapText": false
         },
         "formula": "",
         "id": 10,
         "oriFormula": "",
         "rowId": 0,
         "symRefAddress": "m+7.retained"
        },
        {
         "address": "L3",
         "cellDataType": "INPUT",
         "cellType": "COL_IND",
         "colId": 10,
         "contributingBeanIds": [
          405
         ],
         "data": "",
         "format": {
          "autoIndent": false,
          "columnWidth": 48,
          "fill": {
           "color": "#000000",
           "pattern": null,
           "patternColor": null,
           "patternTintAndShade": null,
           "tintAndShade": 0
          },
          "font": {
           "bold": false,
           "color": "#000000",
           "italic": false,
           "name": "Calibri",
           "size": 11,
           "strikethrough": false,
           "subscript": false,
           "superscript": false,
           "tintAndShade": 0,
           "underline": "None"
          },
          "horizontalAlignment": "General",
          "indentLevel": 0,
          "readingOrder": "Context",
          "rowHeight": 14.5,
          "shrinkToFit": false,
          "textOrientation": 0,
          "useStandardHeight": true,
          "useStandardWidth": true,
          "verticalAlignment": "Bottom",
          "wrapText": false
         },
         "formula": "",
         "id": 11,
         "oriFormula": "",
         "rowId": 0,
         "symRefAddress": "m+8.retained"
        },
        {
         "address": "M3",
         "cellDataType": "INPUT",
         "cellType": "COL_IND",
         "colId": 11,
         "contributingBeanIds": [
          405
         ],
         "data": "",
         "format": {
          "autoIndent": false,
          "columnWidth": 48,
          "fill": {
           "color": "#000000",
           "pattern": null,
           "patternColor": null,
           "patternTintAndShade": null,
           "tintAndShade": 0
          },
          "font": {
           "bold": false,
           "color": "#000000",
           "italic": false,
           "name": "Calibri",
           "size": 11,
           "strikethrough": false,
           "subscript": false,
           "superscript": false,
           "tintAndShade": 0,
           "underline": "None"
          },
          "horizontalAlignment": "General",
          "indentLevel": 0,
          "readingOrder": "Context",
          "rowHeight": 14.5,
          "shrinkToFit": false,
          "textOrientation": 0,
          "useStandardHeight": true,
          "useStandardWidth": true,
          "verticalAlignment": "Bottom",
          "wrapText": false
         },
         "formula": "",
         "id": 12,
         "oriFormula": "",
         "rowId": 0,
         "symRefAddress": "m+9.retained"
        },
        {
         "address": "N3",
         "cellDataType": "INPUT",
         "cellType": "COL_IND",
         "colId": 12,
         "contributingBeanIds": [
          405
         ],
         "data": "",
         "format": {
          "autoIndent": false,
          "columnWidth": 48,
          "fill": {
           "color": "#000000",
           "pattern": null,
           "patternColor": null,
           "patternTintAndShade": null,
           "tintAndShade": 0
          },
          "font": {
           "bold": false,
           "color": "#000000",
           "italic": false,
           "name": "Calibri",
           "size": 11,
           "strikethrough": false,
           "subscript": false,
           "superscript": false,
           "tintAndShade": 0,
           "underline": "None"
          },
          "horizontalAlignment": "General",
          "indentLevel": 0,
          "readingOrder": "Context",
          "rowHeight": 14.5,
          "shrinkToFit": false,
          "textOrientation": 0,
          "useStandardHeight": true,
          "useStandardWidth": true,
          "verticalAlignment": "Bottom",
          "wrapText": false
         },
         "formula": "",
         "id": 13,
         "oriFormula": "",
         "rowId": 0,
         "symRefAddress": "m+10.retained"
        },
        {
         "address": "O3",
         "cellDataType": "INPUT",
         "cellType": "COL_IND",
         "colId": 13,
         "contributingBeanIds": [
          405
         ],
         "data": "",
         "format": {
          "autoIndent": false,
          "columnWidth": 48,
          "fill": {
           "color": "#000000",
           "pattern": null,
           "patternColor": null,
           "patternTintAndShade": null,
           "tintAndShade": 0
          },
          "font": {
           "bold": false,
           "color": "#000000",
           "italic": false,
           "name": "Calibri",
           "size": 11,
           "strikethrough": false,
           "subscript": false,
           "superscript": false,
           "tintAndShade": 0,
           "underline": "None"
          },
          "horizontalAlignment": "General",
          "indentLevel": 0,
          "readingOrder": "Context",
          "rowHeight": 14.5,
          "shrinkToFit": false,
          "textOrientation": 0,
          "useStandardHeight": true,
          "useStandardWidth": true,
          "verticalAlignment": "Bottom",
          "wrapText": false
         },
         "formula": "",
         "id": 14,
         "oriFormula": "",
         "rowId": 0,
         "symRefAddress": "m+11.retained"
        },
        {
         "address": "B4",
         "cellDataType": "OUTPUT",
         "cellType": "ROW_IND",
         "colId": 0,
         "contributingBeanIds": [
          405
         ],
         "data": "2",
         "format": {
          "autoIndent": false,
          "columnWidth": 48,
          "fill": {
           "color": "#000000",
           "pattern": null,
           "patternColor": null,
           "patternTintAndShade": null,
           "tintAndShade": 0
          },
          "font": {
           "bold": false,
           "color": "#FFFFFF",
           "italic": false,
           "name": "Calibri",
           "size": 11,
           "strikethrough": false,
           "subscript": false,
           "superscript": false,
           "tintAndShade": 0,
           "underline": "None"
          },
          "horizontalAlignment": "Center",
          "indentLevel": 0,
          "readingOrder": "Context",
          "rowHeight": 15,
          "shrinkToFit": false,
          "textOrientation": 0,
          "useStandardHeight": false,
          "useStandardWidth": true,
          "verticalAlignment": "Bottom",
          "wrapText": false
         },
         "formula": "=B3+1",
         "id": 15,
         "oriFormula": "=B3+1",
         "rowId": 1,
         "symRefAddress": "?assumptions"
        },
        {
         "address": "C4",
         "cellDataType": "LABEL",
         "cellType": "ROW_HDR",
         "colId": 1,
         "contributingBeanIds": [
          405
         ],
         "data": "Assumptions",
         "format": {
          "autoIndent": false,
          "columnWidth": 107.5,
          "fill": {
           "color": "#FFFF00",
           "pattern": null,
           "patternColor": null,
           "patternTintAndShade": null,
           "tintAndShade": 0
          },
          "font": {
           "bold": true,
           "color": "#000000",
           "italic": false,
           "name": "Calibri",
           "size": 11,
           "strikethrough": false,
           "subscript": false,
           "superscript": false,
           "tintAndShade": 0,
           "underline": "None"
          },
          "horizontalAlignment": "General",
          "indentLevel": 0,
          "readingOrder": "Context",
          "rowHeight": 15,
          "shrinkToFit": false,
          "textOrientation": 0,
          "useStandardHeight": false,
          "useStandardWidth": false,
          "verticalAlignment": "Bottom",
          "wrapText": false
         },
         "formula": "",
         "id": 16,
         "measure": {
          "val": "assumptions",
          "var": ""
         },
         "oriFormula": "",
         "rowId": 1,
         "symRefAddress": "?assumptions"
        },
        {
         "address": "D4",
         "cellDataType": "LABEL",
         "cellType": "COL_HDR",
         "colId": 2,
         "contributingBeanIds": [
          405
         ],
         "data": "M+0",
         "dimension": {
          "val": "m+0",
          "var": ""
         },
         "format": {
          "autoIndent": false,
          "columnWidth": 58,
          "fill": {
           "color": "#F2F2F2",
           "pattern": null,
           "patternColor": null,
           "patternTintAndShade": null,
           "tintAndShade": -0.0499893185216834
          },
          "font": {
           "bold": false,
           "color": "#000000",
           "italic": false,
           "name": "Calibri",
           "size": 11,
           "strikethrough": false,
           "subscript": false,
           "superscript": false,
           "tintAndShade": 0,
           "underline": "None"
          },
          "horizontalAlignment": "General",
          "indentLevel": 0,
          "readingOrder": "Context",
          "rowHeight": 15,
          "shrinkToFit": false,
          "textOrientation": 0,
          "useStandardHeight": false,
          "useStandardWidth": false,
          "verticalAlignment": "Bottom",
          "wrapText": false
         },
         "formula": "",
         "id": 17,
         "oriFormula": "",
         "rowId": 1,
         "symRefAddress": "m+0.new?assumptions"
        },
        {
         "address": "E4",
         "cellDataType": "LABEL",
         "cellType": "COL_HDR",
         "colId": 3,
         "contributingBeanIds": [
          405
         ],
         "data": "M+1",
         "dimension": {
          "val": "m+1",
          "var": ""
         },
         "format": {
          "autoIndent": false,
          "columnWidth": 58,
          "fill": {
           "color": "#F2F2F2",
           "pattern": null,
           "patternColor": null,
           "patternTintAndShade": null,
           "tintAndShade": -0.0499893185216834
          },
          "font": {
           "bold": false,
           "color": "#000000",
           "italic": false,
           "name": "Calibri",
           "size": 11,
           "strikethrough": false,
           "subscript": false,
           "superscript": false,
           "tintAndShade": 0,
           "underline": "None"
          },
          "horizontalAlignment": "General",
          "indentLevel": 0,
          "readingOrder": "Context",
          "rowHeight": 15,
          "shrinkToFit": false,
          "textOrientation": 0,
          "useStandardHeight": false,
          "useStandardWidth": false,
          "verticalAlignment": "Bottom",
          "wrapText": false
         },
         "formula": "",
         "id": 18,
         "oriFormula": "",
         "rowId": 1,
         "symRefAddress": "m+1.trial?assumptions"
        },
        {
         "address": "F4",
         "cellDataType": "LABEL",
         "cellType": "COL_HDR",
         "colId": 4,
         "contributingBeanIds": [
          405
         ],
         "data": "M+2",
         "dimension": {
          "val": "m+2",
          "var": ""
         },
         "format": {
          "autoIndent": false,
          "columnWidth": 48,
          "fill": {
           "color": "#F2F2F2",
           "pattern": null,
           "patternColor": null,
           "patternTintAndShade": null,
           "tintAndShade": -0.0499893185216834
          },
          "font": {
           "bold": false,
           "color": "#000000",
           "italic": false,
           "name": "Calibri",
           "size": 11,
           "strikethrough": false,
           "subscript": false,
           "superscript": false,
           "tintAndShade": 0,
           "underline": "None"
          },
          "horizontalAlignment": "General",
          "indentLevel": 0,
          "readingOrder": "Context",
          "rowHeight": 15,
          "shrinkToFit": false,
          "textOrientation": 0,
          "useStandardHeight": false,
          "useStandardWidth": true,
          "verticalAlignment": "Bottom",
          "wrapText": false
         },
         "formula": "",
         "id": 19,
         "oriFormula": "",
         "rowId": 1,
         "symRefAddress": "m+2.trial?assumptions"
        },
        {
         "address": "G4",
         "cellDataType": "LABEL",
         "cellType": "COL_HDR",
         "colId": 5,
         "contributingBeanIds": [
          405
         ],
         "data": "M+3",
         "dimension": {
          "val": "m+3",
          "var": ""
         },
         "format": {
          "autoIndent": false,
          "columnWidth": 48,
          "fill": {
           "color": "#F2F2F2",
           "pattern": null,
           "patternColor": null,
           "patternTintAndShade": null,
           "tintAndShade": -0.0499893185216834
          },
          "font": {
           "bold": false,
           "color": "#000000",
           "italic": false,
           "name": "Calibri",
           "size": 11,
           "strikethrough": false,
           "subscript": false,
           "superscript": false,
           "tintAndShade": 0,
           "underline": "None"
          },
          "horizontalAlignment": "General",
          "indentLevel": 0,
          "readingOrder": "Context",
          "rowHeight": 15,
          "shrinkToFit": false,
          "textOrientation": 0,
          "useStandardHeight": false,
          "useStandardWidth": true,
          "verticalAlignment": "Bottom",
          "wrapText": false
         },
         "formula": "",
         "id": 20,
         "oriFormula": "",
         "rowId": 1,
         "symRefAddress": "m+3.retained?assumptions"
        },
        {
         "address": "H4",
         "cellDataType": "LABEL",
         "cellType": "COL_HDR",
         "colId": 6,
         "contributingBeanIds": [
          405
         ],
         "data": "M+4",
         "dimension": {
          "val": "m+4",
          "var": ""
         },
         "format": {
          "autoIndent": false,
          "columnWidth": 48,
          "fill": {
           "color": "#F2F2F2",
           "pattern": null,
           "patternColor": null,
           "patternTintAndShade": null,
           "tintAndShade": -0.0499893185216834
          },
          "font": {
           "bold": false,
           "color": "#000000",
           "italic": false,
           "name": "Calibri",
           "size": 11,
           "strikethrough": false,
           "subscript": false,
           "superscript": false,
           "tintAndShade": 0,
           "underline": "None"
          },
          "horizontalAlignment": "General",
          "indentLevel": 0,
          "readingOrder": "Context",
          "rowHeight": 15,
          "shrinkToFit": false,
          "textOrientation": 0,
          "useStandardHeight": false,
          "useStandardWidth": true,
          "verticalAlignment": "Bottom",
          "wrapText": false
         },
         "formula": "",
         "id": 21,
         "oriFormula": "",
         "rowId": 1,
         "symRefAddress": "m+4.retained?assumptions"
        },
        {
         "address": "I4",
         "cellDataType": "LABEL",
         "cellType": "COL_HDR",
         "colId": 7,
         "contributingBeanIds": [
          405
         ],
         "data": "M+5",
         "dimension": {
          "val": "m+5",
          "var": ""
         },
         "format": {
          "autoIndent": false,
          "columnWidth": 48,
          "fill": {
           "color": "#F2F2F2",
           "pattern": null,
           "patternColor": null,
           "patternTintAndShade": null,
           "tintAndShade": -0.0499893185216834
          },
          "font": {
           "bold": false,
           "color": "#000000",
           "italic": false,
           "name": "Calibri",
           "size": 11,
           "strikethrough": false,
           "subscript": false,
           "superscript": false,
           "tintAndShade": 0,
           "underline": "None"
          },
          "horizontalAlignment": "General",
          "indentLevel": 0,
          "readingOrder": "Context",
          "rowHeight": 15,
          "shrinkToFit": false,
          "textOrientation": 0,
          "useStandardHeight": false,
          "useStandardWidth": true,
          "verticalAlignment": "Bottom",
          "wrapText": false
         },
         "formula": "",
         "id": 22,
         "oriFormula": "",
         "rowId": 1,
         "symRefAddress": "m+5.retained?assumptions"
        },
        {
         "address": "J4",
         "cellDataType": "LABEL",
         "cellType": "COL_HDR",
         "colId": 8,
         "contributingBeanIds": [
          405
         ],
         "data": "M+6",
         "dimension": {
          "val": "m+6",
          "var": ""
         },
         "format": {
          "autoIndent": false,
          "columnWidth": 48,
          "fill": {
           "color": "#F2F2F2",
           "pattern": null,
           "patternColor": null,
           "patternTintAndShade": null,
           "tintAndShade": -0.0499893185216834
          },
          "font": {
           "bold": false,
           "color": "#000000",
           "italic": false,
           "name": "Calibri",
           "size": 11,
           "strikethrough": false,
           "subscript": false,
           "superscript": false,
           "tintAndShade": 0,
           "underline": "None"
          },
          "horizontalAlignment": "General",
          "indentLevel": 0,
          "readingOrder": "Context",
          "rowHeight": 15,
          "shrinkToFit": false,
          "textOrientation": 0,
          "useStandardHeight": false,
          "useStandardWidth": true,
          "verticalAlignment": "Bottom",
          "wrapText": false
         },
         "formula": "",
         "id": 23,
         "oriFormula": "",
         "rowId": 1,
         "symRefAddress": "m+6.retained?assumptions"
        },
        {
         "address": "K4",
         "cellDataType": "LABEL",
         "cellType": "COL_HDR",
         "colId": 9,
         "contributingBeanIds": [
          405
         ],
         "data": "M+7",
         "dimension": {
          "val": "m+7",
          "var": ""
         },
         "format": {
          "autoIndent": false,
          "columnWidth": 48,
          "fill": {
           "color": "#F2F2F2",
           "pattern": null,
           "patternColor": null,
           "patternTintAndShade": null,
           "tintAndShade": -0.0499893185216834
          },
          "font": {
           "bold": false,
           "color": "#000000",
           "italic": false,
           "name": "Calibri",
           "size": 11,
           "strikethrough": false,
           "subscript": false,
           "superscript": false,
           "tintAndShade": 0,
           "underline": "None"
          },
          "horizontalAlignment": "General",
          "indentLevel": 0,
          "readingOrder": "Context",
          "rowHeight": 15,
          "shrinkToFit": false,
          "textOrientation": 0,
          "useStandardHeight": false,
          "useStandardWidth": true,
          "verticalAlignment": "Bottom",
          "wrapText": false
         },
         "formula": "",
         "id": 24,
         "oriFormula": "",
         "rowId": 1,
         "symRefAddress": "m+7.retained?assumptions"
        },
        {
         "address": "L4",
         "cellDataType": "LABEL",
         "cellType": "COL_HDR",
         "colId": 10,
         "contributingBeanIds": [
          405
         ],
         "data": "M+8",
         "dimension": {
          "val": "m+8",
          "var": ""
         },
         "format": {
          "autoIndent": false,
          "columnWidth": 48,
          "fill": {
           "color": "#F2F2F2",
           "pattern": null,
           "patternColor": null,
           "patternTintAndShade": null,
           "tintAndShade": -0.0499893185216834
          },
          "font": {
           "bold": false,
           "color": "#000000",
           "italic": false,
           "name": "Calibri",
           "size": 11,
           "strikethrough": false,
           "subscript": false,
           "superscript": false,
           "tintAndShade": 0,
           "underline": "None"
          },
          "horizontalAlignment": "General",
          "indentLevel": 0,
          "readingOrder": "Context",
          "rowHeight": 15,
          "shrinkToFit": false,
          "textOrientation": 0,
          "useStandardHeight": false,
          "useStandardWidth": true,
          "verticalAlignment": "Bottom",
          "wrapText": false
         },
         "formula": "",
         "id": 25,
         "oriFormula": "",
         "rowId": 1,
         "symRefAddress": "m+8.retained?assumptions"
        },
        {
         "address": "M4",
         "cellDataType": "LABEL",
         "cellType": "COL_HDR",
         "colId": 11,
         "contributingBeanIds": [
          405
         ],
         "data": "M+9",
         "dimension": {
          "val": "m+9",
          "var": ""
         },
         "format": {
          "autoIndent": false,
          "columnWidth": 48,
          "fill": {
           "color": "#F2F2F2",
           "pattern": null,
           "patternColor": null,
           "patternTintAndShade": null,
           "tintAndShade": -0.0499893185216834
          },
          "font": {
           "bold": false,
           "color": "#000000",
           "italic": false,
           "name": "Calibri",
           "size": 11,
           "strikethrough": false,
           "subscript": false,
           "superscript": false,
           "tintAndShade": 0,
           "underline": "None"
          },
          "horizontalAlignment": "General",
          "indentLevel": 0,
          "readingOrder": "Context",
          "rowHeight": 15,
          "shrinkToFit": false,
          "textOrientation": 0,
          "useStandardHeight": false,
          "useStandardWidth": true,
          "verticalAlignment": "Bottom",
          "wrapText": false
         },
         "formula": "",
         "id": 26,
         "oriFormula": "",
         "rowId": 1,
         "symRefAddress": "m+9.retained?assumptions"
        },
        {
         "address": "N4",
         "cellDataType": "LABEL",
         "cellType": "COL_HDR",
         "colId": 12,
         "contributingBeanIds": [
          405
         ],
         "data": "M+10",
         "dimension": {
          "val": "m+10",
          "var": ""
         },
         "format": {
          "autoIndent": false,
          "columnWidth": 48,
          "fill": {
           "color": "#F2F2F2",
           "pattern": null,
           "patternColor": null,
           "patternTintAndShade": null,
           "tintAndShade": -0.0499893185216834
          },
          "font": {
           "bold": false,
           "color": "#000000",
           "italic": false,
           "name": "Calibri",
           "size": 11,
           "strikethrough": false,
           "subscript": false,
           "superscript": false,
           "tintAndShade": 0,
           "underline": "None"
          },
          "horizontalAlignment": "General",
          "indentLevel": 0,
          "readingOrder": "Context",
          "rowHeight": 15,
          "shrinkToFit": false,
          "textOrientation": 0,
          "useStandardHeight": false,
          "useStandardWidth": true,
          "verticalAlignment": "Bottom",
          "wrapText": false
         },
         "formula": "",
         "id": 27,
         "oriFormula": "",
         "rowId": 1,
         "symRefAddress": "m+10.retained?assumptions"
        },
        {
         "address": "O4",
         "cellDataType": "LABEL",
         "cellType": "COL_HDR",
         "colId": 13,
         "contributingBeanIds": [
          405
         ],
         "data": "M+11",
         "dimension": {
          "val": "m+11",
          "var": ""
         },
         "format": {
          "autoIndent": false,
          "columnWidth": 48,
          "fill": {
           "color": "#F2F2F2",
           "pattern": null,
           "patternColor": null,
           "patternTintAndShade": null,
           "tintAndShade": -0.0499893185216834
          },
          "font": {
           "bold": false,
           "color": "#000000",
           "italic": false,
           "name": "Calibri",
           "size": 11,
           "strikethrough": false,
           "subscript": false,
           "superscript": false,
           "tintAndShade": 0,
           "underline": "None"
          },
          "horizontalAlignment": "General",
          "indentLevel": 0,
          "readingOrder": "Context",
          "rowHeight": 15,
          "shrinkToFit": false,
          "textOrientation": 0,
          "useStandardHeight": false,
          "useStandardWidth": true,
          "verticalAlignment": "Bottom",
          "wrapText": false
         },
         "formula": "",
         "id": 28,
         "oriFormula": "",
         "rowId": 1,
         "symRefAddress": "m+11.retained?assumptions"
        },
        {
         "address": "B5",
         "cellDataType": "OUTPUT",
         "cellType": "ROW_IND",
         "colId": 0,
         "contributingBeanIds": [
          405
         ],
         "data": "3",
         "format": {
          "autoIndent": false,
          "columnWidth": 48,
          "fill": {
           "color": "#000000",
           "pattern": null,
           "patternColor": null,
           "patternTintAndShade": null,
           "tintAndShade": 0
          },
          "font": {
           "bold": false,
           "color": "#FFFFFF",
           "italic": false,
           "name": "Calibri",
           "size": 11,
           "strikethrough": false,
           "subscript": false,
           "superscript": false,
           "tintAndShade": 0,
           "underline": "None"
          },
          "horizontalAlignment": "Center",
          "indentLevel": 0,
          "readingOrder": "Context",
          "rowHeight": 14.5,
          "shrinkToFit": false,
          "textOrientation": 0,
          "useStandardHeight": true,
          "useStandardWidth": true,
          "verticalAlignment": "Bottom",
          "wrapText": false
         },
         "formula": "=B4+1",
         "id": 29,
         "oriFormula": "=B4+1",
         "rowId": 2,
         "symRefAddress": "?customer-stage"
        },
        {
         "address": "C5",
         "cellDataType": "LABEL",
         "cellType": "ROW_HDR",
         "colId": 1,
         "contributingBeanIds": [
          405
         ],
         "data": "Customer Stage",
         "format": {
          "autoIndent": false,
          "columnWidth": 107.5,
          "fill": {
           "color": "#FFFFFF",
           "pattern": null,
           "patternColor": null,
           "patternTintAndShade": null,
           "tintAndShade": null
          },
          "font": {
           "bold": false,
           "color": "#000000",
           "italic": false,
           "name": "Calibri",
           "size": 11,
           "strikethrough": false,
           "subscript": false,
           "superscript": false,
           "tintAndShade": 0,
           "underline": "None"
          },
          "horizontalAlignment": "General",
          "indentLevel": 0,
          "readingOrder": "Context",
          "rowHeight": 14.5,
          "shrinkToFit": false,
          "textOrientation": 0,
          "useStandardHeight": true,
          "useStandardWidth": false,
          "verticalAlignment": "Bottom",
          "wrapText": false
         },
         "formula": "",
         "id": 30,
         "measure": {
          "val": "customer-stage",
          "var": ""
         },
         "oriFormula": "",
         "rowId": 2,
         "symRefAddress": "?customer-stage"
        },
        {
         "address": "D5",
         "cellDataType": "LABEL",
         "cellType": "COL_HDR",
         "colId": 2,
         "contributingBeanIds": [
          405
         ],
         "data": "New",
         "dimension": {
          "val": "new",
          "var": ""
         },
         "format": {
          "autoIndent": false,
          "columnWidth": 58,
          "fill": {
           "color": "#FFFFFF",
           "pattern": null,
           "patternColor": null,
           "patternTintAndShade": null,
           "tintAndShade": null
          },
          "font": {
           "bold": false,
           "color": "#000000",
           "italic": false,
           "name": "Calibri",
           "size": 11,
           "strikethrough": false,
           "subscript": false,
           "superscript": false,
           "tintAndShade": 0,
           "underline": "None"
          },
          "horizontalAlignment": "General",
          "indentLevel": 0,
          "readingOrder": "Context",
          "rowHeight": 14.5,
          "shrinkToFit": false,
          "textOrientation": 0,
          "useStandardHeight": true,
          "useStandardWidth": false,
          "verticalAlignment": "Bottom",
          "wrapText": false
         },
         "formula": "",
         "id": 31,
         "oriFormula": "",
         "rowId": 2,
         "symRefAddress": "m+0.new?customer-stage"
        },
        {
         "address": "E5",
         "cellDataType": "LABEL",
         "cellType": "COL_HDR",
         "colId": 3,
         "contributingBeanIds": [
          405
         ],
         "data": "Trial",
         "dimension": {
          "val": "trial",
          "var": ""
         },
         "format": {
          "autoIndent": false,
          "columnWidth": 58,
          "fill": {
           "color": "#FFFFFF",
           "pattern": null,
           "patternColor": null,
           "patternTintAndShade": null,
           "tintAndShade": null
          },
          "font": {
           "bold": false,
           "color": "#000000",
           "italic": false,
           "name": "Calibri",
           "size": 11,
           "strikethrough": false,
           "subscript": false,
           "superscript": false,
           "tintAndShade": 0,
           "underline": "None"
          },
          "horizontalAlignment": "General",
          "indentLevel": 0,
          "readingOrder": "Context",
          "rowHeight": 14.5,
          "shrinkToFit": false,
          "textOrientation": 0,
          "useStandardHeight": true,
          "useStandardWidth": false,
          "verticalAlignment": "Bottom",
          "wrapText": false
         },
         "formula": "",
         "id": 32,
         "oriFormula": "",
         "rowId": 2,
         "symRefAddress": "m+1.trial?customer-stage"
        },
        {
         "address": "F5",
         "cellDataType": "LABEL",
         "cellType": "COL_HDR",
         "colId": 4,
         "contributingBeanIds": [
          405
         ],
         "data": "Trial",
         "dimension": {
          "val": "trial",
          "var": ""
         },
         "format": {
          "autoIndent": false,
          "columnWidth": 48,
          "fill": {
           "color": "#FFFFFF",
           "pattern": null,
           "patternColor": null,
           "patternTintAndShade": null,
           "tintAndShade": null
          },
          "font": {
           "bold": false,
           "color": "#000000",
           "italic": false,
           "name": "Calibri",
           "size": 11,
           "strikethrough": false,
           "subscript": false,
           "superscript": false,
           "tintAndShade": 0,
           "underline": "None"
          },
          "horizontalAlignment": "General",
          "indentLevel": 0,
          "readingOrder": "Context",
          "rowHeight": 14.5,
          "shrinkToFit": false,
          "textOrientation": 0,
          "useStandardHeight": true,
          "useStandardWidth": true,
          "verticalAlignment": "Bottom",
          "wrapText": false
         },
         "formula": "",
         "id": 33,
         "oriFormula": "",
         "rowId": 2,
         "symRefAddress": "m+2.trial?customer-stage"
        },
        {
         "address": "G5",
         "cellDataType": "LABEL",
         "cellType": "COL_HDR",
         "colId": 5,
         "contributingBeanIds": [
          405
         ],
         "data": "Retained",
         "dimension": {
          "val": "retained",
          "var": ""
         },
         "format": {
          "autoIndent": false,
          "columnWidth": 48,
          "fill": {
           "color": "#FFFFFF",
           "pattern": null,
           "patternColor": null,
           "patternTintAndShade": null,
           "tintAndShade": null
          },
          "font": {
           "bold": false,
           "color": "#000000",
           "italic": false,
           "name": "Calibri",
           "size": 11,
           "strikethrough": false,
           "subscript": false,
           "superscript": false,
           "tintAndShade": 0,
           "underline": "None"
          },
          "horizontalAlignment": "General",
          "indentLevel": 0,
          "readingOrder": "Context",
          "rowHeight": 14.5,
          "shrinkToFit": false,
          "textOrientation": 0,
          "useStandardHeight": true,
          "useStandardWidth": true,
          "verticalAlignment": "Bottom",
          "wrapText": false
         },
         "formula": "",
         "id": 34,
         "oriFormula": "",
         "rowId": 2,
         "symRefAddress": "m+3.retained?customer-stage"
        },
        {
         "address": "H5",
         "cellDataType": "LABEL",
         "cellType": "COL_HDR",
         "colId": 6,
         "contributingBeanIds": [
          405
         ],
         "data": "Retained",
         "dimension": {
          "val": "retained",
          "var": ""
         },
         "format": {
          "autoIndent": false,
          "columnWidth": 48,
          "fill": {
           "color": "#FFFFFF",
           "pattern": null,
           "patternColor": null,
           "patternTintAndShade": null,
           "tintAndShade": null
          },
          "font": {
           "bold": false,
           "color": "#000000",
           "italic": false,
           "name": "Calibri",
           "size": 11,
           "strikethrough": false,
           "subscript": false,
           "superscript": false,
           "tintAndShade": 0,
           "underline": "None"
          },
          "horizontalAlignment": "General",
          "indentLevel": 0,
          "readingOrder": "Context",
          "rowHeight": 14.5,
          "shrinkToFit": false,
          "textOrientation": 0,
          "useStandardHeight": true,
          "useStandardWidth": true,
          "verticalAlignment": "Bottom",
          "wrapText": false
         },
         "formula": "",
         "id": 35,
         "oriFormula": "",
         "rowId": 2,
         "symRefAddress": "m+4.retained?customer-stage"
        },
        {
         "address": "I5",
         "cellDataType": "LABEL",
         "cellType": "COL_HDR",
         "colId": 7,
         "contributingBeanIds": [
          405
         ],
         "data": "Retained",
         "dimension": {
          "val": "retained",
          "var": ""
         },
         "format": {
          "autoIndent": false,
          "columnWidth": 48,
          "fill": {
           "color": "#FFFFFF",
           "pattern": null,
           "patternColor": null,
           "patternTintAndShade": null,
           "tintAndShade": null
          },
          "font": {
           "bold": false,
           "color": "#000000",
           "italic": false,
           "name": "Calibri",
           "size": 11,
           "strikethrough": false,
           "subscript": false,
           "superscript": false,
           "tintAndShade": 0,
           "underline": "None"
          },
          "horizontalAlignment": "General",
          "indentLevel": 0,
          "readingOrder": "Context",
          "rowHeight": 14.5,
          "shrinkToFit": false,
          "textOrientation": 0,
          "useStandardHeight": true,
          "useStandardWidth": true,
          "verticalAlignment": "Bottom",
          "wrapText": false
         },
         "formula": "",
         "id": 36,
         "oriFormula": "",
         "rowId": 2,
         "symRefAddress": "m+5.retained?customer-stage"
        },
        {
         "address": "J5",
         "cellDataType": "LABEL",
         "cellType": "COL_HDR",
         "colId": 8,
         "contributingBeanIds": [
          405
         ],
         "data": "Retained",
         "dimension": {
          "val": "retained",
          "var": ""
         },
         "format": {
          "autoIndent": false,
          "columnWidth": 48,
          "fill": {
           "color": "#FFFFFF",
           "pattern": null,
           "patternColor": null,
           "patternTintAndShade": null,
           "tintAndShade": null
          },
          "font": {
           "bold": false,
           "color": "#000000",
           "italic": false,
           "name": "Calibri",
           "size": 11,
           "strikethrough": false,
           "subscript": false,
           "superscript": false,
           "tintAndShade": 0,
           "underline": "None"
          },
          "horizontalAlignment": "General",
          "indentLevel": 0,
          "readingOrder": "Context",
          "rowHeight": 14.5,
          "shrinkToFit": false,
          "textOrientation": 0,
          "useStandardHeight": true,
          "useStandardWidth": true,
          "verticalAlignment": "Bottom",
          "wrapText": false
         },
         "formula": "",
         "id": 37,
         "oriFormula": "",
         "rowId": 2,
         "symRefAddress": "m+6.retained?customer-stage"
        },
        {
         "address": "K5",
         "cellDataType": "LABEL",
         "cellType": "COL_HDR",
         "colId": 9,
         "contributingBeanIds": [
          405
         ],
         "data": "Retained",
         "dimension": {
          "val": "retained",
          "var": ""
         },
         "format": {
          "autoIndent": false,
          "columnWidth": 48,
          "fill": {
           "color": "#FFFFFF",
           "pattern": null,
           "patternColor": null,
           "patternTintAndShade": null,
           "tintAndShade": null
          },
          "font": {
           "bold": false,
           "color": "#000000",
           "italic": false,
           "name": "Calibri",
           "size": 11,
           "strikethrough": false,
           "subscript": false,
           "superscript": false,
           "tintAndShade": 0,
           "underline": "None"
          },
          "horizontalAlignment": "General",
          "indentLevel": 0,
          "readingOrder": "Context",
          "rowHeight": 14.5,
          "shrinkToFit": false,
          "textOrientation": 0,
          "useStandardHeight": true,
          "useStandardWidth": true,
          "verticalAlignment": "Bottom",
          "wrapText": false
         },
         "formula": "",
         "id": 38,
         "oriFormula": "",
         "rowId": 2,
         "symRefAddress": "m+7.retained?customer-stage"
        },
        {
         "address": "L5",
         "cellDataType": "LABEL",
         "cellType": "COL_HDR",
         "colId": 10,
         "contributingBeanIds": [
          405
         ],
         "data": "Retained",
         "dimension": {
          "val": "retained",
          "var": ""
         },
         "format": {
          "autoIndent": false,
          "columnWidth": 48,
          "fill": {
           "color": "#FFFFFF",
           "pattern": null,
           "patternColor": null,
           "patternTintAndShade": null,
           "tintAndShade": null
          },
          "font": {
           "bold": false,
           "color": "#000000",
           "italic": false,
           "name": "Calibri",
           "size": 11,
           "strikethrough": false,
           "subscript": false,
           "superscript": false,
           "tintAndShade": 0,
           "underline": "None"
          },
          "horizontalAlignment": "General",
          "indentLevel": 0,
          "readingOrder": "Context",
          "rowHeight": 14.5,
          "shrinkToFit": false,
          "textOrientation": 0,
          "useStandardHeight": true,
          "useStandardWidth": true,
          "verticalAlignment": "Bottom",
          "wrapText": false
         },
         "formula": "",
         "id": 39,
         "oriFormula": "",
         "rowId": 2,
         "symRefAddress": "m+8.retained?customer-stage"
        },
        {
         "address": "M5",
         "cellDataType": "LABEL",
         "cellType": "COL_HDR",
         "colId": 11,
         "contributingBeanIds": [
          405
         ],
         "data": "Retained",
         "dimension": {
          "val": "retained",
          "var": ""
         },
         "format": {
          "autoIndent": false,
          "columnWidth": 48,
          "fill": {
           "color": "#FFFFFF",
           "pattern": null,
           "patternColor": null,
           "patternTintAndShade": null,
           "tintAndShade": null
          },
          "font": {
           "bold": false,
           "color": "#000000",
           "italic": false,
           "name": "Calibri",
           "size": 11,
           "strikethrough": false,
           "subscript": false,
           "superscript": false,
           "tintAndShade": 0,
           "underline": "None"
          },
          "horizontalAlignment": "General",
          "indentLevel": 0,
          "readingOrder": "Context",
          "rowHeight": 14.5,
          "shrinkToFit": false,
          "textOrientation": 0,
          "useStandardHeight": true,
          "useStandardWidth": true,
          "verticalAlignment": "Bottom",
          "wrapText": false
         },
         "formula": "",
         "id": 40,
         "oriFormula": "",
         "rowId": 2,
         "symRefAddress": "m+9.retained?customer-stage"
        },
        {
         "address": "N5",
         "cellDataType": "LABEL",
         "cellType": "COL_HDR",
         "colId": 12,
         "contributingBeanIds": [
          405
         ],
         "data": "Retained",
         "dimension": {
          "val": "retained",
          "var": ""
         },
         "format": {
          "autoIndent": false,
          "columnWidth": 48,
          "fill": {
           "color": "#FFFFFF",
           "pattern": null,
           "patternColor": null,
           "patternTintAndShade": null,
           "tintAndShade": null
          },
          "font": {
           "bold": false,
           "color": "#000000",
           "italic": false,
           "name": "Calibri",
           "size": 11,
           "strikethrough": false,
           "subscript": false,
           "superscript": false,
           "tintAndShade": 0,
           "underline": "None"
          },
          "horizontalAlignment": "General",
          "indentLevel": 0,
          "readingOrder": "Context",
          "rowHeight": 14.5,
          "shrinkToFit": false,
          "textOrientation": 0,
          "useStandardHeight": true,
          "useStandardWidth": true,
          "verticalAlignment": "Bottom",
          "wrapText": false
         },
         "formula": "",
         "id": 41,
         "oriFormula": "",
         "rowId": 2,
         "symRefAddress": "m+10.retained?customer-stage"
        },
        {
         "address": "O5",
         "cellDataType": "LABEL",
         "cellType": "COL_HDR",
         "colId": 13,
         "contributingBeanIds": [
          405
         ],
         "data": "Retained",
         "dimension": {
          "val": "retained",
          "var": ""
         },
         "format": {
          "autoIndent": false,
          "columnWidth": 48,
          "fill": {
           "color": "#FFFFFF",
           "pattern": null,
           "patternColor": null,
           "patternTintAndShade": null,
           "tintAndShade": null
          },
          "font": {
           "bold": false,
           "color": "#000000",
           "italic": false,
           "name": "Calibri",
           "size": 11,
           "strikethrough": false,
           "subscript": false,
           "superscript": false,
           "tintAndShade": 0,
           "underline": "None"
          },
          "horizontalAlignment": "General",
          "indentLevel": 0,
          "readingOrder": "Context",
          "rowHeight": 14.5,
          "shrinkToFit": false,
          "textOrientation": 0,
          "useStandardHeight": true,
          "useStandardWidth": true,
          "verticalAlignment": "Bottom",
          "wrapText": false
         },
         "formula": "",
         "id": 42,
         "oriFormula": "",
         "rowId": 2,
         "symRefAddress": "m+11.retained?customer-stage"
        },
        {
         "address": "B6",
         "cellDataType": "OUTPUT",
         "cellType": "ROW_IND",
         "colId": 0,
         "contributingBeanIds": [
          405
         ],
         "data": "4",
         "format": {
          "autoIndent": false,
          "columnWidth": 48,
          "fill": {
           "color": "#000000",
           "pattern": null,
           "patternColor": null,
           "patternTintAndShade": null,
           "tintAndShade": 0
          },
          "font": {
           "bold": false,
           "color": "#FFFFFF",
           "italic": false,
           "name": "Calibri",
           "size": 11,
           "strikethrough": false,
           "subscript": false,
           "superscript": false,
           "tintAndShade": 0,
           "underline": "None"
          },
          "horizontalAlignment": "Center",
          "indentLevel": 0,
          "readingOrder": "Context",
          "rowHeight": 14.5,
          "shrinkToFit": false,
          "textOrientation": 0,
          "useStandardHeight": true,
          "useStandardWidth": true,
          "verticalAlignment": "Bottom",
          "wrapText": false
         },
         "formula": "=B5+1",
         "id": 43,
         "oriFormula": "=B5+1",
         "rowId": 3,
         "symRefAddress": "?retention"
        },
        {
         "address": "C6",
         "cellDataType": "LABEL",
         "cellType": "ROW_HDR",
         "colId": 1,
         "contributingBeanIds": [
          405
         ],
         "data": "Retention",
         "format": {
          "autoIndent": false,
          "columnWidth": 107.5,
          "fill": {
           "color": "#FFFFFF",
           "pattern": null,
           "patternColor": null,
           "patternTintAndShade": null,
           "tintAndShade": null
          },
          "font": {
           "bold": true,
           "color": "#000000",
           "italic": false,
           "name": "Calibri",
           "size": 11,
           "strikethrough": false,
           "subscript": false,
           "superscript": false,
           "tintAndShade": 0,
           "underline": "None"
          },
          "horizontalAlignment": "General",
          "indentLevel": 0,
          "readingOrder": "Context",
          "rowHeight": 14.5,
          "shrinkToFit": false,
          "textOrientation": 0,
          "useStandardHeight": true,
          "useStandardWidth": false,
          "verticalAlignment": "Bottom",
          "wrapText": false
         },
         "formula": "",
         "id": 44,
         "measure": {
          "val": "retention",
          "var": ""
         },
         "oriFormula": "",
         "rowId": 3,
         "symRefAddress": "?retention"
        },
        {
         "address": "D6",
         "cellDataType": "INPUT",
         "cellType": "DATA",
         "colId": 2,
         "contributingBeanIds": [
          405
         ],
         "data": "1",
         "format": {
          "autoIndent": false,
          "columnWidth": 58,
          "fill": {
           "color": "#FFFFFF",
           "pattern": null,
           "patternColor": null,
           "patternTintAndShade": null,
           "tintAndShade": null
          },
          "font": {
           "bold": true,
           "color": "#000000",
           "italic": false,
           "name": "Calibri",
           "size": 11,
           "strikethrough": false,
           "subscript": false,
           "superscript": false,
           "tintAndShade": 0,
           "underline": "None"
          },
          "horizontalAlignment": "General",
          "indentLevel": 0,
          "numberFormat": "#,##0.0",
          "numberFormatCategories": "Number",
          "readingOrder": "Context",
          "rowHeight": 14.5,
          "shrinkToFit": false,
          "textOrientation": 0,
          "useStandardHeight": true,
          "useStandardWidth": false,
          "verticalAlignment": "Bottom",
          "wrapText": false
         },
         "formula": "",
         "id": 45,
         "oriFormula": "",
         "rowId": 3,
         "symRefAddress": "m+0.new?retention"
        },
        {
         "address": "E6",
         "cellDataType": "OUTPUT",
         "cellType": "DATA",
         "colId": 3,
         "contributingBeanIds": [
          405
         ],
         "data": "0.7",
         "format": {
          "autoIndent": false,
          "columnWidth": 58,
          "fill": {
           "color": "#FFFFFF",
           "pattern": null,
           "patternColor": null,
           "patternTintAndShade": null,
           "tintAndShade": null
          },
          "font": {
           "bold": true,
           "color": "#000000",
           "italic": false,
           "name": "Calibri",
           "size": 11,
           "strikethrough": false,
           "subscript": false,
           "superscript": false,
           "tintAndShade": 0,
           "underline": "None"
          },
          "horizontalAlignment": "General",
          "indentLevel": 0,
          "numberFormat": "#,##0.0",
          "numberFormatCategories": "Number",
          "readingOrder": "Context",
          "rowHeight": 14.5,
          "shrinkToFit": false,
          "textOrientation": 0,
          "useStandardHeight": true,
          "useStandardWidth": false,
          "verticalAlignment": "Bottom",
          "wrapText": false
         },
         "formula": "='m+0.new?retention'*(1+'m+1.trial?churn-rate')",
         "id": 46,
         "oriFormula": "=D6*(1+E7)",
         "rowId": 3,
         "symRefAddress": "m+1.trial?retention"
        },
        {
         "address": "F6",
         "cellDataType": "OUTPUT",
         "cellType": "DATA",
         "colId": 4,
         "contributingBeanIds": [
          405
         ],
         "data": "0.602",
         "format": {
          "autoIndent": false,
          "columnWidth": 48,
          "fill": {
           "color": "#FFFFFF",
           "pattern": null,
           "patternColor": null,
           "patternTintAndShade": null,
           "tintAndShade": null
          },
          "font": {
           "bold": true,
           "color": "#000000",
           "italic": false,
           "name": "Calibri",
           "size": 11,
           "strikethrough": false,
           "subscript": false,
           "superscript": false,
           "tintAndShade": 0,
           "underline": "None"
          },
          "horizontalAlignment": "General",
          "indentLevel": 0,
          "numberFormat": "#,##0.0",
          "numberFormatCategories": "Number",
          "readingOrder": "Context",
          "rowHeight": 14.5,
          "shrinkToFit": false,
          "textOrientation": 0,
          "useStandardHeight": true,
          "useStandardWidth": true,
          "verticalAlignment": "Bottom",
          "wrapText": false
         },
         "formula": "='m+1.trial?retention'*(1+'m+2.trial?churn-rate')",
         "id": 47,
         "oriFormula": "=E6*(1+F7)",
         "rowId": 3,
         "symRefAddress": "m+2.trial?retention"
        },
        {
         "address": "G6",
         "cellDataType": "OUTPUT",
         "cellType": "DATA",
         "colId": 5,
         "contributingBeanIds": [
          405
         ],
         "data": "0.49966",
         "format": {
          "autoIndent": false,
          "columnWidth": 48,
          "fill": {
           "color": "#FFFFFF",
           "pattern": null,
           "patternColor": null,
           "patternTintAndShade": null,
           "tintAndShade": null
          },
          "font": {
           "bold": true,
           "color": "#000000",
           "italic": false,
           "name": "Calibri",
           "size": 11,
           "strikethrough": false,
           "subscript": false,
           "superscript": false,
           "tintAndShade": 0,
           "underline": "None"
          },
          "horizontalAlignment": "General",
          "indentLevel": 0,
          "numberFormat": "#,##0.0",
          "numberFormatCategories": "Number",
          "readingOrder": "Context",
          "rowHeight": 14.5,
          "shrinkToFit": false,
          "textOrientation": 0,
          "useStandardHeight": true,
          "useStandardWidth": true,
          "verticalAlignment": "Bottom",
          "wrapText": false
         },
         "formula": "='m+2.trial?retention'*(1+'m+3.retained?churn-rate')",
         "id": 48,
         "oriFormula": "=F6*(1+G7)",
         "rowId": 3,
         "symRefAddress": "m+3.retained?retention"
        },
        {
         "address": "H6",
         "cellDataType": "OUTPUT",
         "cellType": "DATA",
         "colId": 6,
         "contributingBeanIds": [
          405
         ],
         "data": "0.49966",
         "format": {
          "autoIndent": false,
          "columnWidth": 48,
          "fill": {
           "color": "#FFFFFF",
           "pattern": null,
           "patternColor": null,
           "patternTintAndShade": null,
           "tintAndShade": null
          },
          "font": {
           "bold": true,
           "color": "#000000",
           "italic": false,
           "name": "Calibri",
           "size": 11,
           "strikethrough": false,
           "subscript": false,
           "superscript": false,
           "tintAndShade": 0,
           "underline": "None"
          },
          "horizontalAlignment": "General",
          "indentLevel": 0,
          "numberFormat": "#,##0.0",
          "numberFormatCategories": "Number",
          "readingOrder": "Context",
          "rowHeight": 14.5,
          "shrinkToFit": false,
          "textOrientation": 0,
          "useStandardHeight": true,
          "useStandardWidth": true,
          "verticalAlignment": "Bottom",
          "wrapText": false
         },
         "formula": "='m+3.retained?retention'*(1+'m+4.retained?churn-rate')",
         "id": 49,
         "oriFormula": "=G6*(1+H7)",
         "rowId": 3,
         "symRefAddress": "m+4.retained?retention"
        },
        {
         "address": "I6",
         "cellDataType": "OUTPUT",
         "cellType": "DATA",
         "colId": 7,
         "contributingBeanIds": [
          405
         ],
         "data": "0.49966",
         "format": {
          "autoIndent": false,
          "columnWidth": 48,
          "fill": {
           "color": "#FFFFFF",
           "pattern": null,
           "patternColor": null,
           "patternTintAndShade": null,
           "tintAndShade": null
          },
          "font": {
           "bold": true,
           "color": "#000000",
           "italic": false,
           "name": "Calibri",
           "size": 11,
           "strikethrough": false,
           "subscript": false,
           "superscript": false,
           "tintAndShade": 0,
           "underline": "None"
          },
          "horizontalAlignment": "General",
          "indentLevel": 0,
          "numberFormat": "#,##0.0",
          "numberFormatCategories": "Number",
          "readingOrder": "Context",
          "rowHeight": 14.5,
          "shrinkToFit": false,
          "textOrientation": 0,
          "useStandardHeight": true,
          "useStandardWidth": true,
          "verticalAlignment": "Bottom",
          "wrapText": false
         },
         "formula": "='m+4.retained?retention'*(1+'m+5.retained?churn-rate')",
         "id": 50,
         "oriFormula": "=H6*(1+I7)",
         "rowId": 3,
         "symRefAddress": "m+5.retained?retention"
        },
        {
         "address": "J6",
         "cellDataType": "OUTPUT",
         "cellType": "DATA",
         "colId": 8,
         "contributingBeanIds": [
          405
         ],
         "data": "0.49966",
         "format": {
          "autoIndent": false,
          "columnWidth": 48,
          "fill": {
           "color": "#FFFFFF",
           "pattern": null,
           "patternColor": null,
           "patternTintAndShade": null,
           "tintAndShade": null
          },
          "font": {
           "bold": true,
           "color": "#000000",
           "italic": false,
           "name": "Calibri",
           "size": 11,
           "strikethrough": false,
           "subscript": false,
           "superscript": false,
           "tintAndShade": 0,
           "underline": "None"
          },
          "horizontalAlignment": "General",
          "indentLevel": 0,
          "numberFormat": "#,##0.0",
          "numberFormatCategories": "Number",
          "readingOrder": "Context",
          "rowHeight": 14.5,
          "shrinkToFit": false,
          "textOrientation": 0,
          "useStandardHeight": true,
          "useStandardWidth": true,
          "verticalAlignment": "Bottom",
          "wrapText": false
         },
         "formula": "='m+5.retained?retention'*(1+'m+6.retained?churn-rate')",
         "id": 51,
         "oriFormula": "=I6*(1+J7)",
         "rowId": 3,
         "symRefAddress": "m+6.retained?retention"
        },
        {
         "address": "K6",
         "cellDataType": "OUTPUT",
         "cellType": "DATA",
         "colId": 9,
         "contributingBeanIds": [
          405
         ],
         "data": "0.49966",
         "format": {
          "autoIndent": false,
          "columnWidth": 48,
          "fill": {
           "color": "#FFFFFF",
           "pattern": null,
           "patternColor": null,
           "patternTintAndShade": null,
           "tintAndShade": null
          },
          "font": {
           "bold": true,
           "color": "#000000",
           "italic": false,
           "name": "Calibri",
           "size": 11,
           "strikethrough": false,
           "subscript": false,
           "superscript": false,
           "tintAndShade": 0,
           "underline": "None"
          },
          "horizontalAlignment": "General",
          "indentLevel": 0,
          "numberFormat": "#,##0.0",
          "numberFormatCategories": "Number",
          "readingOrder": "Context",
          "rowHeight": 14.5,
          "shrinkToFit": false,
          "textOrientation": 0,
          "useStandardHeight": true,
          "useStandardWidth": true,
          "verticalAlignment": "Bottom",
          "wrapText": false
         },
         "formula": "='m+6.retained?retention'*(1+'m+7.retained?churn-rate')",
         "id": 52,
         "oriFormula": "=J6*(1+K7)",
         "rowId": 3,
         "symRefAddress": "m+7.retained?retention"
        },
        {
         "address": "L6",
         "cellDataType": "OUTPUT",
         "cellType": "DATA",
         "colId": 10,
         "contributingBeanIds": [
          405
         ],
         "data": "0.49966",
         "format": {
          "autoIndent": false,
          "columnWidth": 48,
          "fill": {
           "color": "#FFFFFF",
           "pattern": null,
           "patternColor": null,
           "patternTintAndShade": null,
           "tintAndShade": null
          },
          "font": {
           "bold": true,
           "color": "#000000",
           "italic": false,
           "name": "Calibri",
           "size": 11,
           "strikethrough": false,
           "subscript": false,
           "superscript": false,
           "tintAndShade": 0,
           "underline": "None"
          },
          "horizontalAlignment": "General",
          "indentLevel": 0,
          "numberFormat": "#,##0.0",
          "numberFormatCategories": "Number",
          "readingOrder": "Context",
          "rowHeight": 14.5,
          "shrinkToFit": false,
          "textOrientation": 0,
          "useStandardHeight": true,
          "useStandardWidth": true,
          "verticalAlignment": "Bottom",
          "wrapText": false
         },
         "formula": "='m+7.retained?retention'*(1+'m+8.retained?churn-rate')",
         "id": 53,
         "oriFormula": "=K6*(1+L7)",
         "rowId": 3,
         "symRefAddress": "m+8.retained?retention"
        },
        {
         "address": "M6",
         "cellDataType": "OUTPUT",
         "cellType": "DATA",
         "colId": 11,
         "contributingBeanIds": [
          405
         ],
         "data": "0.49966",
         "format": {
          "autoIndent": false,
          "columnWidth": 48,
          "fill": {
           "color": "#FFFFFF",
           "pattern": null,
           "patternColor": null,
           "patternTintAndShade": null,
           "tintAndShade": null
          },
          "font": {
           "bold": true,
           "color": "#000000",
           "italic": false,
           "name": "Calibri",
           "size": 11,
           "strikethrough": false,
           "subscript": false,
           "superscript": false,
           "tintAndShade": 0,
           "underline": "None"
          },
          "horizontalAlignment": "General",
          "indentLevel": 0,
          "numberFormat": "#,##0.0",
          "numberFormatCategories": "Number",
          "readingOrder": "Context",
          "rowHeight": 14.5,
          "shrinkToFit": false,
          "textOrientation": 0,
          "useStandardHeight": true,
          "useStandardWidth": true,
          "verticalAlignment": "Bottom",
          "wrapText": false
         },
         "formula": "='m+8.retained?retention'*(1+'m+9.retained?churn-rate')",
         "id": 54,
         "oriFormula": "=L6*(1+M7)",
         "rowId": 3,
         "symRefAddress": "m+9.retained?retention"
        },
        {
         "address": "N6",
         "cellDataType": "OUTPUT",
         "cellType": "DATA",
         "colId": 12,
         "contributingBeanIds": [
          405
         ],
         "data": "0.49966",
         "format": {
          "autoIndent": false,
          "columnWidth": 48,
          "fill": {
           "color": "#FFFFFF",
           "pattern": null,
           "patternColor": null,
           "patternTintAndShade": null,
           "tintAndShade": null
          },
          "font": {
           "bold": true,
           "color": "#000000",
           "italic": false,
           "name": "Calibri",
           "size": 11,
           "strikethrough": false,
           "subscript": false,
           "superscript": false,
           "tintAndShade": 0,
           "underline": "None"
          },
          "horizontalAlignment": "General",
          "indentLevel": 0,
          "numberFormat": "#,##0.0",
          "numberFormatCategories": "Number",
          "readingOrder": "Context",
          "rowHeight": 14.5,
          "shrinkToFit": false,
          "textOrientation": 0,
          "useStandardHeight": true,
          "useStandardWidth": true,
          "verticalAlignment": "Bottom",
          "wrapText": false
         },
         "formula": "='m+9.retained?retention'*(1+'m+10.retained?churn-rate')",
         "id": 55,
         "oriFormula": "=M6*(1+N7)",
         "rowId": 3,
         "symRefAddress": "m+10.retained?retention"
        },
        {
         "address": "O6",
         "cellDataType": "OUTPUT",
         "cellType": "DATA",
         "colId": 13,
         "contributingBeanIds": [
          405
         ],
         "data": "0.49966",
         "format": {
          "autoIndent": false,
          "columnWidth": 48,
          "fill": {
           "color": "#FFFFFF",
           "pattern": null,
           "patternColor": null,
           "patternTintAndShade": null,
           "tintAndShade": null
          },
          "font": {
           "bold": true,
           "color": "#000000",
           "italic": false,
           "name": "Calibri",
           "size": 11,
           "strikethrough": false,
           "subscript": false,
           "superscript": false,
           "tintAndShade": 0,
           "underline": "None"
          },
          "horizontalAlignment": "General",
          "indentLevel": 0,
          "numberFormat": "#,##0.0",
          "numberFormatCategories": "Number",
          "readingOrder": "Context",
          "rowHeight": 14.5,
          "shrinkToFit": false,
          "textOrientation": 0,
          "useStandardHeight": true,
          "useStandardWidth": true,
          "verticalAlignment": "Bottom",
          "wrapText": false
         },
         "formula": "='m+10.retained?retention'*(1+'m+11.retained?churn-rate')",
         "id": 56,
         "oriFormula": "=N6*(1+O7)",
         "rowId": 3,
         "symRefAddress": "m+11.retained?retention"
        },
        {
         "address": "B7",
         "cellDataType": "OUTPUT",
         "cellType": "ROW_IND",
         "colId": 0,
         "contributingBeanIds": [
          405
         ],
         "data": "5",
         "format": {
          "autoIndent": false,
          "columnWidth": 48,
          "fill": {
           "color": "#000000",
           "pattern": null,
           "patternColor": null,
           "patternTintAndShade": null,
           "tintAndShade": 0
          },
          "font": {
           "bold": false,
           "color": "#FFFFFF",
           "italic": false,
           "name": "Calibri",
           "size": 11,
           "strikethrough": false,
           "subscript": false,
           "superscript": false,
           "tintAndShade": 0,
           "underline": "None"
          },
          "horizontalAlignment": "Center",
          "indentLevel": 0,
          "readingOrder": "Context",
          "rowHeight": 14.5,
          "shrinkToFit": false,
          "textOrientation": 0,
          "useStandardHeight": true,
          "useStandardWidth": true,
          "verticalAlignment": "Bottom",
          "wrapText": false
         },
         "formula": "=B6+1",
         "id": 57,
         "oriFormula": "=B6+1",
         "rowId": 4,
         "symRefAddress": "?churn-rate"
        },
        {
         "address": "C7",
         "cellDataType": "LABEL",
         "cellType": "ROW_HDR",
         "colId": 1,
         "contributingBeanIds": [
          405
         ],
         "data": "Monthly Churn Rate",
         "format": {
          "autoIndent": false,
          "columnWidth": 107.5,
          "fill": {
           "color": "#FFF2CC",
           "pattern": null,
           "patternColor": null,
           "patternTintAndShade": null,
           "tintAndShade": 0.799981688894314
          },
          "font": {
           "bold": false,
           "color": "#000000",
           "italic": false,
           "name": "Calibri",
           "size": 11,
           "strikethrough": false,
           "subscript": false,
           "superscript": false,
           "tintAndShade": 0,
           "underline": "None"
          },
          "horizontalAlignment": "General",
          "indentLevel": 0,
          "readingOrder": "Context",
          "rowHeight": 14.5,
          "shrinkToFit": false,
          "textOrientation": 0,
          "useStandardHeight": true,
          "useStandardWidth": false,
          "verticalAlignment": "Bottom",
          "wrapText": false
         },
         "formula": "",
         "id": 58,
         "measure": {
          "val": "churn-rate",
          "var": ""
         },
         "oriFormula": "",
         "rowId": 4,
         "symRefAddress": "?churn-rate"
        },
        {
         "address": "D7",
         "cellDataType": "INPUT",
         "cellType": "DATA",
         "colId": 2,
         "contributingBeanIds": [
          405
         ],
         "data": "",
         "format": {
          "autoIndent": false,
          "columnWidth": 58,
          "fill": {
           "color": "#FFF2CC",
           "pattern": null,
           "patternColor": null,
           "patternTintAndShade": null,
           "tintAndShade": 0.799981688894314
          },
          "font": {
           "bold": false,
           "color": "#000000",
           "italic": true,
           "name": "Calibri",
           "size": 11,
           "strikethrough": false,
           "subscript": false,
           "superscript": false,
           "tintAndShade": 0,
           "underline": "None"
          },
          "horizontalAlignment": "General",
          "indentLevel": 0,
          "numberFormat": "0.0%",
          "numberFormatCategories": "Percentage",
          "readingOrder": "Context",
          "rowHeight": 14.5,
          "shrinkToFit": false,
          "textOrientation": 0,
          "useStandardHeight": true,
          "useStandardWidth": false,
          "verticalAlignment": "Bottom",
          "wrapText": false
         },
         "formula": "",
         "id": 59,
         "oriFormula": "",
         "rowId": 4,
         "symRefAddress": "m+0.new?churn-rate"
        },
        {
         "address": "E7",
         "cellDataType": "OUTPUT",
         "cellType": "DATA",
         "colId": 3,
         "contributingBeanIds": [
          405
         ],
         "data": "-0.3",
         "format": {
          "autoIndent": false,
          "columnWidth": 58,
          "fill": {
           "color": "#FFF2CC",
           "pattern": null,
           "patternColor": null,
           "patternTintAndShade": null,
           "tintAndShade": 0.799981688894314
          },
          "font": {
           "bold": false,
           "color": "#000000",
           "italic": true,
           "name": "Calibri",
           "size": 11,
           "strikethrough": false,
           "subscript": false,
           "superscript": false,
           "tintAndShade": 0,
           "underline": "None"
          },
          "horizontalAlignment": "General",
          "indentLevel": 0,
          "numberFormat": "0.0%",
          "numberFormatCategories": "Percentage",
          "readingOrder": "Context",
          "rowHeight": 14.5,
          "shrinkToFit": false,
          "textOrientation": 0,
          "useStandardHeight": true,
          "useStandardWidth": false,
          "verticalAlignment": "Bottom",
          "wrapText": false
         },
         "formula": "='monthly-churn-rate[0]'",
         "id": 60,
         "oriFormula": "=T46",
         "rowId": 4,
         "symRefAddress": "m+1.trial?churn-rate"
        },
        {
         "address": "F7",
         "cellDataType": "OUTPUT",
         "cellType": "DATA",
         "colId": 4,
         "contributingBeanIds": [
          405
         ],
         "data": "-0.14",
         "format": {
          "autoIndent": false,
          "columnWidth": 48,
          "fill": {
           "color": "#FFF2CC",
           "pattern": null,
           "patternColor": null,
           "patternTintAndShade": null,
           "tintAndShade": 0.799981688894314
          },
          "font": {
           "bold": false,
           "color": "#000000",
           "italic": true,
           "name": "Calibri",
           "size": 11,
           "strikethrough": false,
           "subscript": false,
           "superscript": false,
           "tintAndShade": 0,
           "underline": "None"
          },
          "horizontalAlignment": "General",
          "indentLevel": 0,
          "numberFormat": "0.0%",
          "numberFormatCategories": "Percentage",
          "readingOrder": "Context",
          "rowHeight": 14.5,
          "shrinkToFit": false,
          "textOrientation": 0,
          "useStandardHeight": true,
          "useStandardWidth": true,
          "verticalAlignment": "Bottom",
          "wrapText": false
         },
         "formula": "='monthly-churn-rate[1]'",
         "id": 61,
         "oriFormula": "=U46",
         "rowId": 4,
         "symRefAddress": "m+2.trial?churn-rate"
        },
        {
         "address": "G7",
         "cellDataType": "OUTPUT",
         "cellType": "DATA",
         "colId": 5,
         "contributingBeanIds": [
          405
         ],
         "data": "-0.17",
         "format": {
          "autoIndent": false,
          "columnWidth": 48,
          "fill": {
           "color": "#FFF2CC",
           "pattern": null,
           "patternColor": null,
           "patternTintAndShade": null,
           "tintAndShade": 0.799981688894314
          },
          "font": {
           "bold": false,
           "color": "#000000",
           "italic": true,
           "name": "Calibri",
           "size": 11,
           "strikethrough": false,
           "subscript": false,
           "superscript": false,
           "tintAndShade": 0,
           "underline": "None"
          },
          "horizontalAlignment": "General",
          "indentLevel": 0,
          "numberFormat": "0.0%",
          "numberFormatCategories": "Percentage",
          "readingOrder": "Context",
          "rowHeight": 14.5,
          "shrinkToFit": false,
          "textOrientation": 0,
          "useStandardHeight": true,
          "useStandardWidth": true,
          "verticalAlignment": "Bottom",
          "wrapText": false
         },
         "formula": "='monthly-churn-rate[2]'",
         "id": 62,
         "oriFormula": "=V46",
         "rowId": 4,
         "symRefAddress": "m+3.retained?churn-rate"
        },
        {
         "address": "H7",
         "cellDataType": "OUTPUT",
         "cellType": "DATA",
         "colId": 6,
         "contributingBeanIds": [
          405
         ],
         "data": "0",
         "format": {
          "autoIndent": false,
          "columnWidth": 48,
          "fill": {
           "color": "#FFF2CC",
           "pattern": null,
           "patternColor": null,
           "patternTintAndShade": null,
           "tintAndShade": 0.799981688894314
          },
          "font": {
           "bold": false,
           "color": "#000000",
           "italic": true,
           "name": "Calibri",
           "size": 11,
           "strikethrough": false,
           "subscript": false,
           "superscript": false,
           "tintAndShade": 0,
           "underline": "None"
          },
          "horizontalAlignment": "General",
          "indentLevel": 0,
          "numberFormat": "0.0%",
          "numberFormatCategories": "Percentage",
          "readingOrder": "Context",
          "rowHeight": 14.5,
          "shrinkToFit": false,
          "textOrientation": 0,
          "useStandardHeight": true,
          "useStandardWidth": true,
          "verticalAlignment": "Bottom",
          "wrapText": false
         },
         "formula": "='monthly-churn-rate[3]'",
         "id": 63,
         "oriFormula": "=W46",
         "rowId": 4,
         "symRefAddress": "m+4.retained?churn-rate"
        },
        {
         "address": "I7",
         "cellDataType": "OUTPUT",
         "cellType": "DATA",
         "colId": 7,
         "contributingBeanIds": [
          405
         ],
         "data": "0",
         "format": {
          "autoIndent": false,
          "columnWidth": 48,
          "fill": {
           "color": "#FFF2CC",
           "pattern": null,
           "patternColor": null,
           "patternTintAndShade": null,
           "tintAndShade": 0.799981688894314
          },
          "font": {
           "bold": false,
           "color": "#000000",
           "italic": true,
           "name": "Calibri",
           "size": 11,
           "strikethrough": false,
           "subscript": false,
           "superscript": false,
           "tintAndShade": 0,
           "underline": "None"
          },
          "horizontalAlignment": "General",
          "indentLevel": 0,
          "numberFormat": "0.0%",
          "numberFormatCategories": "Percentage",
          "readingOrder": "Context",
          "rowHeight": 14.5,
          "shrinkToFit": false,
          "textOrientation": 0,
          "useStandardHeight": true,
          "useStandardWidth": true,
          "verticalAlignment": "Bottom",
          "wrapText": false
         },
         "formula": "='monthly-churn-rate[4]'",
         "id": 64,
         "oriFormula": "=X46",
         "rowId": 4,
         "symRefAddress": "m+5.retained?churn-rate"
        },
        {
         "address": "J7",
         "cellDataType": "OUTPUT",
         "cellType": "DATA",
         "colId": 8,
         "contributingBeanIds": [
          405
         ],
         "data": "0",
         "format": {
          "autoIndent": false,
          "columnWidth": 48,
          "fill": {
           "color": "#FFF2CC",
           "pattern": null,
           "patternColor": null,
           "patternTintAndShade": null,
           "tintAndShade": 0.799981688894314
          },
          "font": {
           "bold": false,
           "color": "#000000",
           "italic": true,
           "name": "Calibri",
           "size": 11,
           "strikethrough": false,
           "subscript": false,
           "superscript": false,
           "tintAndShade": 0,
           "underline": "None"
          },
          "horizontalAlignment": "General",
          "indentLevel": 0,
          "numberFormat": "0.0%",
          "numberFormatCategories": "Percentage",
          "readingOrder": "Context",
          "rowHeight": 14.5,
          "shrinkToFit": false,
          "textOrientation": 0,
          "useStandardHeight": true,
          "useStandardWidth": true,
          "verticalAlignment": "Bottom",
          "wrapText": false
         },
         "formula": "='monthly-churn-rate[5]'",
         "id": 65,
         "oriFormula": "=Y46",
         "rowId": 4,
         "symRefAddress": "m+6.retained?churn-rate"
        },
        {
         "address": "K7",
         "cellDataType": "OUTPUT",
         "cellType": "DATA",
         "colId": 9,
         "contributingBeanIds": [
          405
         ],
         "data": "0",
         "format": {
          "autoIndent": false,
          "columnWidth": 48,
          "fill": {
           "color": "#FFF2CC",
           "pattern": null,
           "patternColor": null,
           "patternTintAndShade": null,
           "tintAndShade": 0.799981688894314
          },
          "font": {
           "bold": false,
           "color": "#000000",
           "italic": true,
           "name": "Calibri",
           "size": 11,
           "strikethrough": false,
           "subscript": false,
           "superscript": false,
           "tintAndShade": 0,
           "underline": "None"
          },
          "horizontalAlignment": "General",
          "indentLevel": 0,
          "numberFormat": "0.0%",
          "numberFormatCategories": "Percentage",
          "readingOrder": "Context",
          "rowHeight": 14.5,
          "shrinkToFit": false,
          "textOrientation": 0,
          "useStandardHeight": true,
          "useStandardWidth": true,
          "verticalAlignment": "Bottom",
          "wrapText": false
         },
         "formula": "='monthly-churn-rate[6]'",
         "id": 66,
         "oriFormula": "=Z46",
         "rowId": 4,
         "symRefAddress": "m+7.retained?churn-rate"
        },
        {
         "address": "L7",
         "cellDataType": "OUTPUT",
         "cellType": "DATA",
         "colId": 10,
         "contributingBeanIds": [
          405
         ],
         "data": "0",
         "format": {
          "autoIndent": false,
          "columnWidth": 48,
          "fill": {
           "color": "#FFF2CC",
           "pattern": null,
           "patternColor": null,
           "patternTintAndShade": null,
           "tintAndShade": 0.799981688894314
          },
          "font": {
           "bold": false,
           "color": "#000000",
           "italic": true,
           "name": "Calibri",
           "size": 11,
           "strikethrough": false,
           "subscript": false,
           "superscript": false,
           "tintAndShade": 0,
           "underline": "None"
          },
          "horizontalAlignment": "General",
          "indentLevel": 0,
          "numberFormat": "0.0%",
          "numberFormatCategories": "Percentage",
          "readingOrder": "Context",
          "rowHeight": 14.5,
          "shrinkToFit": false,
          "textOrientation": 0,
          "useStandardHeight": true,
          "useStandardWidth": true,
          "verticalAlignment": "Bottom",
          "wrapText": false
         },
         "formula": "='monthly-churn-rate[7]'",
         "id": 67,
         "oriFormula": "=AA46",
         "rowId": 4,
         "symRefAddress": "m+8.retained?churn-rate"
        },
        {
         "address": "M7",
         "cellDataType": "OUTPUT",
         "cellType": "DATA",
         "colId": 11,
         "contributingBeanIds": [
          405
         ],
         "data": "0",
         "format": {
          "autoIndent": false,
          "columnWidth": 48,
          "fill": {
           "color": "#FFF2CC",
           "pattern": null,
           "patternColor": null,
           "patternTintAndShade": null,
           "tintAndShade": 0.799981688894314
          },
          "font": {
           "bold": false,
           "color": "#000000",
           "italic": true,
           "name": "Calibri",
           "size": 11,
           "strikethrough": false,
           "subscript": false,
           "superscript": false,
           "tintAndShade": 0,
           "underline": "None"
          },
          "horizontalAlignment": "General",
          "indentLevel": 0,
          "numberFormat": "0.0%",
          "numberFormatCategories": "Percentage",
          "readingOrder": "Context",
          "rowHeight": 14.5,
          "shrinkToFit": false,
          "textOrientation": 0,
          "useStandardHeight": true,
          "useStandardWidth": true,
          "verticalAlignment": "Bottom",
          "wrapText": false
         },
         "formula": "='monthly-churn-rate[8]'",
         "id": 68,
         "oriFormula": "=AB46",
         "rowId": 4,
         "symRefAddress": "m+9.retained?churn-rate"
        },
        {
         "address": "N7",
         "cellDataType": "OUTPUT",
         "cellType": "DATA",
         "colId": 12,
         "contributingBeanIds": [
          405
         ],
         "data": "0",
         "format": {
          "autoIndent": false,
          "columnWidth": 48,
          "fill": {
           "color": "#FFF2CC",
           "pattern": null,
           "patternColor": null,
           "patternTintAndShade": null,
           "tintAndShade": 0.799981688894314
          },
          "font": {
           "bold": false,
           "color": "#000000",
           "italic": true,
           "name": "Calibri",
           "size": 11,
           "strikethrough": false,
           "subscript": false,
           "superscript": false,
           "tintAndShade": 0,
           "underline": "None"
          },
          "horizontalAlignment": "General",
          "indentLevel": 0,
          "numberFormat": "0.0%",
          "numberFormatCategories": "Percentage",
          "readingOrder": "Context",
          "rowHeight": 14.5,
          "shrinkToFit": false,
          "textOrientation": 0,
          "useStandardHeight": true,
          "useStandardWidth": true,
          "verticalAlignment": "Bottom",
          "wrapText": false
         },
         "formula": "='monthly-churn-rate[9]'",
         "id": 69,
         "oriFormula": "=AC46",
         "rowId": 4,
         "symRefAddress": "m+10.retained?churn-rate"
        },
        {
         "address": "O7",
         "cellDataType": "OUTPUT",
         "cellType": "DATA",
         "colId": 13,
         "contributingBeanIds": [
          405
         ],
         "data": "0",
         "format": {
          "autoIndent": false,
          "columnWidth": 48,
          "fill": {
           "color": "#FFF2CC",
           "pattern": null,
           "patternColor": null,
           "patternTintAndShade": null,
           "tintAndShade": 0.799981688894314
          },
          "font": {
           "bold": false,
           "color": "#000000",
           "italic": true,
           "name": "Calibri",
           "size": 11,
           "strikethrough": false,
           "subscript": false,
           "superscript": false,
           "tintAndShade": 0,
           "underline": "None"
          },
          "horizontalAlignment": "General",
          "indentLevel": 0,
          "numberFormat": "0.0%",
          "numberFormatCategories": "Percentage",
          "readingOrder": "Context",
          "rowHeight": 14.5,
          "shrinkToFit": false,
          "textOrientation": 0,
          "useStandardHeight": true,
          "useStandardWidth": true,
          "verticalAlignment": "Bottom",
          "wrapText": false
         },
         "formula": "='monthly-churn-rate[10]'",
         "id": 70,
         "oriFormula": "=AD46",
         "rowId": 4,
         "symRefAddress": "m+11.retained?churn-rate"
        },
        {
         "address": "B8",
         "cellDataType": "OUTPUT",
         "cellType": "ROW_IND",
         "colId": 0,
         "contributingBeanIds": [
          405
         ],
         "data": "6",
         "format": {
          "autoIndent": false,
          "columnWidth": 48,
          "fill": {
           "color": "#000000",
           "pattern": null,
           "patternColor": null,
           "patternTintAndShade": null,
           "tintAndShade": 0
          },
          "font": {
           "bold": false,
           "color": "#FFFFFF",
           "italic": false,
           "name": "Calibri",
           "size": 11,
           "strikethrough": false,
           "subscript": false,
           "superscript": false,
           "tintAndShade": 0,
           "underline": "None"
          },
          "horizontalAlignment": "Center",
          "indentLevel": 0,
          "readingOrder": "Context",
          "rowHeight": 14.5,
          "shrinkToFit": false,
          "textOrientation": 0,
          "useStandardHeight": true,
          "useStandardWidth": true,
          "verticalAlignment": "Bottom",
          "wrapText": false
         },
         "formula": "=B7+1",
         "id": 71,
         "oriFormula": "=B7+1",
         "rowId": 5,
         "symRefAddress": "?revenue"
        },
        {
         "address": "C8",
         "cellDataType": "LABEL",
         "cellType": "ROW_HDR",
         "colId": 1,
         "contributingBeanIds": [
          405
         ],
         "data": "Revenue",
         "format": {
          "autoIndent": false,
          "columnWidth": 107.5,
          "fill": {
           "color": "#FFFFFF",
           "pattern": null,
           "patternColor": null,
           "patternTintAndShade": null,
           "tintAndShade": null
          },
          "font": {
           "bold": false,
           "color": "#000000",
           "italic": false,
           "name": "Calibri",
           "size": 11,
           "strikethrough": false,
           "subscript": false,
           "superscript": false,
           "tintAndShade": 0,
           "underline": "None"
          },
          "horizontalAlignment": "General",
          "indentLevel": 0,
          "readingOrder": "Context",
          "rowHeight": 14.5,
          "shrinkToFit": false,
          "textOrientation": 0,
          "useStandardHeight": true,
          "useStandardWidth": false,
          "verticalAlignment": "Bottom",
          "wrapText": false
         },
         "formula": "",
         "id": 72,
         "measure": {
          "val": "revenue",
          "var": ""
         },
         "oriFormula": "",
         "rowId": 5,
         "symRefAddress": "?revenue"
        },
        {
         "address": "D8",
         "cellDataType": "OUTPUT",
         "cellType": "DATA",
         "colId": 2,
         "contributingBeanIds": [
          405
         ],
         "data": "50",
         "format": {
          "autoIndent": false,
          "columnWidth": 58,
          "fill": {
           "color": "#FFFFFF",
           "pattern": null,
           "patternColor": null,
           "patternTintAndShade": null,
           "tintAndShade": null
          },
          "font": {
           "bold": false,
           "color": "#000000",
           "italic": false,
           "name": "Calibri",
           "size": 11,
           "strikethrough": false,
           "subscript": false,
           "superscript": false,
           "tintAndShade": 0,
           "underline": "None"
          },
          "horizontalAlignment": "General",
          "indentLevel": 0,
          "numberFormat": "#,##0.0",
          "numberFormatCategories": "Number",
          "readingOrder": "Context",
          "rowHeight": 14.5,
          "shrinkToFit": false,
          "textOrientation": 0,
          "useStandardHeight": true,
          "useStandardWidth": false,
          "verticalAlignment": "Bottom",
          "wrapText": false
         },
         "formula": "='revenue-per-user'*'m+0.new?retention'",
         "id": 73,
         "oriFormula": "=$Q$8*D6",
         "rowId": 5,
         "symRefAddress": "m+0.new?revenue"
        },
        {
         "address": "E8",
         "cellDataType": "OUTPUT",
         "cellType": "DATA",
         "colId": 3,
         "contributingBeanIds": [
          405
         ],
         "data": "35",
         "format": {
          "autoIndent": false,
          "columnWidth": 58,
          "fill": {
           "color": "#FFFFFF",
           "pattern": null,
           "patternColor": null,
           "patternTintAndShade": null,
           "tintAndShade": null
          },
          "font": {
           "bold": false,
           "color": "#000000",
           "italic": false,
           "name": "Calibri",
           "size": 11,
           "strikethrough": false,
           "subscript": false,
           "superscript": false,
           "tintAndShade": 0,
           "underline": "None"
          },
          "horizontalAlignment": "General",
          "indentLevel": 0,
          "numberFormat": "#,##0.0",
          "numberFormatCategories": "Number",
          "readingOrder": "Context",
          "rowHeight": 14.5,
          "shrinkToFit": false,
          "textOrientation": 0,
          "useStandardHeight": true,
          "useStandardWidth": false,
          "verticalAlignment": "Bottom",
          "wrapText": false
         },
         "formula": "='revenue-per-user'*'m+1.trial?retention'",
         "id": 74,
         "oriFormula": "=$Q$8*E6",
         "rowId": 5,
         "symRefAddress": "m+1.trial?revenue"
        },
        {
         "address": "F8",
         "cellDataType": "OUTPUT",
         "cellType": "DATA",
         "colId": 4,
         "contributingBeanIds": [
          405
         ],
         "data": "30.1",
         "format": {
          "autoIndent": false,
          "columnWidth": 48,
          "fill": {
           "color": "#FFFFFF",
           "pattern": null,
           "patternColor": null,
           "patternTintAndShade": null,
           "tintAndShade": null
          },
          "font": {
           "bold": false,
           "color": "#000000",
           "italic": false,
           "name": "Calibri",
           "size": 11,
           "strikethrough": false,
           "subscript": false,
           "superscript": false,
           "tintAndShade": 0,
           "underline": "None"
          },
          "horizontalAlignment": "General",
          "indentLevel": 0,
          "numberFormat": "#,##0.0",
          "numberFormatCategories": "Number",
          "readingOrder": "Context",
          "rowHeight": 14.5,
          "shrinkToFit": false,
          "textOrientation": 0,
          "useStandardHeight": true,
          "useStandardWidth": true,
          "verticalAlignment": "Bottom",
          "wrapText": false
         },
         "formula": "='revenue-per-user'*'m+2.trial?retention'",
         "id": 75,
         "oriFormula": "=$Q$8*F6",
         "rowId": 5,
         "symRefAddress": "m+2.trial?revenue"
        },
        {
         "address": "G8",
         "cellDataType": "OUTPUT",
         "cellType": "DATA",
         "colId": 5,
         "contributingBeanIds": [
          405
         ],
         "data": "24.983",
         "format": {
          "autoIndent": false,
          "columnWidth": 48,
          "fill": {
           "color": "#FFFFFF",
           "pattern": null,
           "patternColor": null,
           "patternTintAndShade": null,
           "tintAndShade": null
          },
          "font": {
           "bold": false,
           "color": "#000000",
           "italic": false,
           "name": "Calibri",
           "size": 11,
           "strikethrough": false,
           "subscript": false,
           "superscript": false,
           "tintAndShade": 0,
           "underline": "None"
          },
          "horizontalAlignment": "General",
          "indentLevel": 0,
          "numberFormat": "#,##0.0",
          "numberFormatCategories": "Number",
          "readingOrder": "Context",
          "rowHeight": 14.5,
          "shrinkToFit": false,
          "textOrientation": 0,
          "useStandardHeight": true,
          "useStandardWidth": true,
          "verticalAlignment": "Bottom",
          "wrapText": false
         },
         "formula": "='revenue-per-user'*'m+3.retained?retention'",
         "id": 76,
         "oriFormula": "=$Q$8*G6",
         "rowId": 5,
         "symRefAddress": "m+3.retained?revenue"
        },
        {
         "address": "H8",
         "cellDataType": "OUTPUT",
         "cellType": "DATA",
         "colId": 6,
         "contributingBeanIds": [
          405
         ],
         "data": "24.983",
         "format": {
          "autoIndent": false,
          "columnWidth": 48,
          "fill": {
           "color": "#FFFFFF",
           "pattern": null,
           "patternColor": null,
           "patternTintAndShade": null,
           "tintAndShade": null
          },
          "font": {
           "bold": false,
           "color": "#000000",
           "italic": false,
           "name": "Calibri",
           "size": 11,
           "strikethrough": false,
           "subscript": false,
           "superscript": false,
           "tintAndShade": 0,
           "underline": "None"
          },
          "horizontalAlignment": "General",
          "indentLevel": 0,
          "numberFormat": "#,##0.0",
          "numberFormatCategories": "Number",
          "readingOrder": "Context",
          "rowHeight": 14.5,
          "shrinkToFit": false,
          "textOrientation": 0,
          "useStandardHeight": true,
          "useStandardWidth": true,
          "verticalAlignment": "Bottom",
          "wrapText": false
         },
         "formula": "='revenue-per-user'*'m+4.retained?retention'",
         "id": 77,
         "oriFormula": "=$Q$8*H6",
         "rowId": 5,
         "symRefAddress": "m+4.retained?revenue"
        },
        {
         "address": "I8",
         "cellDataType": "OUTPUT",
         "cellType": "DATA",
         "colId": 7,
         "contributingBeanIds": [
          405
         ],
         "data": "24.983",
         "format": {
          "autoIndent": false,
          "columnWidth": 48,
          "fill": {
           "color": "#FFFFFF",
           "pattern": null,
           "patternColor": null,
           "patternTintAndShade": null,
           "tintAndShade": null
          },
          "font": {
           "bold": false,
           "color": "#000000",
           "italic": false,
           "name": "Calibri",
           "size": 11,
           "strikethrough": false,
           "subscript": false,
           "superscript": false,
           "tintAndShade": 0,
           "underline": "None"
          },
          "horizontalAlignment": "General",
          "indentLevel": 0,
          "numberFormat": "#,##0.0",
          "numberFormatCategories": "Number",
          "readingOrder": "Context",
          "rowHeight": 14.5,
          "shrinkToFit": false,
          "textOrientation": 0,
          "useStandardHeight": true,
          "useStandardWidth": true,
          "verticalAlignment": "Bottom",
          "wrapText": false
         },
         "formula": "='revenue-per-user'*'m+5.retained?retention'",
         "id": 78,
         "oriFormula": "=$Q$8*I6",
         "rowId": 5,
         "symRefAddress": "m+5.retained?revenue"
        },
        {
         "address": "J8",
         "cellDataType": "OUTPUT",
         "cellType": "DATA",
         "colId": 8,
         "contributingBeanIds": [
          405
         ],
         "data": "24.983",
         "format": {
          "autoIndent": false,
          "columnWidth": 48,
          "fill": {
           "color": "#FFFFFF",
           "pattern": null,
           "patternColor": null,
           "patternTintAndShade": null,
           "tintAndShade": null
          },
          "font": {
           "bold": false,
           "color": "#000000",
           "italic": false,
           "name": "Calibri",
           "size": 11,
           "strikethrough": false,
           "subscript": false,
           "superscript": false,
           "tintAndShade": 0,
           "underline": "None"
          },
          "horizontalAlignment": "General",
          "indentLevel": 0,
          "numberFormat": "#,##0.0",
          "numberFormatCategories": "Number",
          "readingOrder": "Context",
          "rowHeight": 14.5,
          "shrinkToFit": false,
          "textOrientation": 0,
          "useStandardHeight": true,
          "useStandardWidth": true,
          "verticalAlignment": "Bottom",
          "wrapText": false
         },
         "formula": "='revenue-per-user'*'m+6.retained?retention'",
         "id": 79,
         "oriFormula": "=$Q$8*J6",
         "rowId": 5,
         "symRefAddress": "m+6.retained?revenue"
        },
        {
         "address": "K8",
         "cellDataType": "OUTPUT",
         "cellType": "DATA",
         "colId": 9,
         "contributingBeanIds": [
          405
         ],
         "data": "24.983",
         "format": {
          "autoIndent": false,
          "columnWidth": 48,
          "fill": {
           "color": "#FFFFFF",
           "pattern": null,
           "patternColor": null,
           "patternTintAndShade": null,
           "tintAndShade": null
          },
          "font": {
           "bold": false,
           "color": "#000000",
           "italic": false,
           "name": "Calibri",
           "size": 11,
           "strikethrough": false,
           "subscript": false,
           "superscript": false,
           "tintAndShade": 0,
           "underline": "None"
          },
          "horizontalAlignment": "General",
          "indentLevel": 0,
          "numberFormat": "#,##0.0",
          "numberFormatCategories": "Number",
          "readingOrder": "Context",
          "rowHeight": 14.5,
          "shrinkToFit": false,
          "textOrientation": 0,
          "useStandardHeight": true,
          "useStandardWidth": true,
          "verticalAlignment": "Bottom",
          "wrapText": false
         },
         "formula": "='revenue-per-user'*'m+7.retained?retention'",
         "id": 80,
         "oriFormula": "=$Q$8*K6",
         "rowId": 5,
         "symRefAddress": "m+7.retained?revenue"
        },
        {
         "address": "L8",
         "cellDataType": "OUTPUT",
         "cellType": "DATA",
         "colId": 10,
         "contributingBeanIds": [
          405
         ],
         "data": "24.983",
         "format": {
          "autoIndent": false,
          "columnWidth": 48,
          "fill": {
           "color": "#FFFFFF",
           "pattern": null,
           "patternColor": null,
           "patternTintAndShade": null,
           "tintAndShade": null
          },
          "font": {
           "bold": false,
           "color": "#000000",
           "italic": false,
           "name": "Calibri",
           "size": 11,
           "strikethrough": false,
           "subscript": false,
           "superscript": false,
           "tintAndShade": 0,
           "underline": "None"
          },
          "horizontalAlignment": "General",
          "indentLevel": 0,
          "numberFormat": "#,##0.0",
          "numberFormatCategories": "Number",
          "readingOrder": "Context",
          "rowHeight": 14.5,
          "shrinkToFit": false,
          "textOrientation": 0,
          "useStandardHeight": true,
          "useStandardWidth": true,
          "verticalAlignment": "Bottom",
          "wrapText": false
         },
         "formula": "='revenue-per-user'*'m+8.retained?retention'",
         "id": 81,
         "oriFormula": "=$Q$8*L6",
         "rowId": 5,
         "symRefAddress": "m+8.retained?revenue"
        },
        {
         "address": "M8",
         "cellDataType": "OUTPUT",
         "cellType": "DATA",
         "colId": 11,
         "contributingBeanIds": [
          405
         ],
         "data": "24.983",
         "format": {
          "autoIndent": false,
          "columnWidth": 48,
          "fill": {
           "color": "#FFFFFF",
           "pattern": null,
           "patternColor": null,
           "patternTintAndShade": null,
           "tintAndShade": null
          },
          "font": {
           "bold": false,
           "color": "#000000",
           "italic": false,
           "name": "Calibri",
           "size": 11,
           "strikethrough": false,
           "subscript": false,
           "superscript": false,
           "tintAndShade": 0,
           "underline": "None"
          },
          "horizontalAlignment": "General",
          "indentLevel": 0,
          "numberFormat": "#,##0.0",
          "numberFormatCategories": "Number",
          "readingOrder": "Context",
          "rowHeight": 14.5,
          "shrinkToFit": false,
          "textOrientation": 0,
          "useStandardHeight": true,
          "useStandardWidth": true,
          "verticalAlignment": "Bottom",
          "wrapText": false
         },
         "formula": "='revenue-per-user'*'m+9.retained?retention'",
         "id": 82,
         "oriFormula": "=$Q$8*M6",
         "rowId": 5,
         "symRefAddress": "m+9.retained?revenue"
        },
        {
         "address": "N8",
         "cellDataType": "OUTPUT",
         "cellType": "DATA",
         "colId": 12,
         "contributingBeanIds": [
          405
         ],
         "data": "24.983",
         "format": {
          "autoIndent": false,
          "columnWidth": 48,
          "fill": {
           "color": "#FFFFFF",
           "pattern": null,
           "patternColor": null,
           "patternTintAndShade": null,
           "tintAndShade": null
          },
          "font": {
           "bold": false,
           "color": "#000000",
           "italic": false,
           "name": "Calibri",
           "size": 11,
           "strikethrough": false,
           "subscript": false,
           "superscript": false,
           "tintAndShade": 0,
           "underline": "None"
          },
          "horizontalAlignment": "General",
          "indentLevel": 0,
          "numberFormat": "#,##0.0",
          "numberFormatCategories": "Number",
          "readingOrder": "Context",
          "rowHeight": 14.5,
          "shrinkToFit": false,
          "textOrientation": 0,
          "useStandardHeight": true,
          "useStandardWidth": true,
          "verticalAlignment": "Bottom",
          "wrapText": false
         },
         "formula": "='revenue-per-user'*'m+10.retained?retention'",
         "id": 83,
         "oriFormula": "=$Q$8*N6",
         "rowId": 5,
         "symRefAddress": "m+10.retained?revenue"
        },
        {
         "address": "O8",
         "cellDataType": "OUTPUT",
         "cellType": "DATA",
         "colId": 13,
         "contributingBeanIds": [
          405
         ],
         "data": "24.983",
         "format": {
          "autoIndent": false,
          "columnWidth": 48,
          "fill": {
           "color": "#FFFFFF",
           "pattern": null,
           "patternColor": null,
           "patternTintAndShade": null,
           "tintAndShade": null
          },
          "font": {
           "bold": false,
           "color": "#000000",
           "italic": false,
           "name": "Calibri",
           "size": 11,
           "strikethrough": false,
           "subscript": false,
           "superscript": false,
           "tintAndShade": 0,
           "underline": "None"
          },
          "horizontalAlignment": "General",
          "indentLevel": 0,
          "numberFormat": "#,##0.0",
          "numberFormatCategories": "Number",
          "readingOrder": "Context",
          "rowHeight": 14.5,
          "shrinkToFit": false,
          "textOrientation": 0,
          "useStandardHeight": true,
          "useStandardWidth": true,
          "verticalAlignment": "Bottom",
          "wrapText": false
         },
         "formula": "='revenue-per-user'*'m+11.retained?retention'",
         "id": 84,
         "oriFormula": "=$Q$8*O6",
         "rowId": 5,
         "symRefAddress": "m+11.retained?revenue"
        },
        {
         "address": "B9",
         "cellDataType": "OUTPUT",
         "cellType": "ROW_IND",
         "colId": 0,
         "contributingBeanIds": [
          405
         ],
         "data": "7",
         "format": {
          "autoIndent": false,
          "columnWidth": 48,
          "fill": {
           "color": "#000000",
           "pattern": null,
           "patternColor": null,
           "patternTintAndShade": null,
           "tintAndShade": 0
          },
          "font": {
           "bold": false,
           "color": "#FFFFFF",
           "italic": false,
           "name": "Calibri",
           "size": 11,
           "strikethrough": false,
           "subscript": false,
           "superscript": false,
           "tintAndShade": 0,
           "underline": "None"
          },
          "horizontalAlignment": "Center",
          "indentLevel": 0,
          "readingOrder": "Context",
          "rowHeight": 14.5,
          "shrinkToFit": false,
          "textOrientation": 0,
          "useStandardHeight": true,
          "useStandardWidth": true,
          "verticalAlignment": "Bottom",
          "wrapText": false
         },
         "formula": "=B8+1",
         "id": 85,
         "oriFormula": "=B8+1",
         "rowId": 6,
         "symRefAddress": "?cogs"
        },
        {
         "address": "C9",
         "cellDataType": "LABEL",
         "cellType": "ROW_HDR",
         "colId": 1,
         "contributingBeanIds": [
          405
         ],
         "data": "COGS",
         "format": {
          "autoIndent": false,
          "columnWidth": 107.5,
          "fill": {
           "color": "#FFFFFF",
           "pattern": null,
           "patternColor": null,
           "patternTintAndShade": null,
           "tintAndShade": null
          },
          "font": {
           "bold": false,
           "color": "#000000",
           "italic": false,
           "name": "Calibri",
           "size": 11,
           "strikethrough": false,
           "subscript": false,
           "superscript": false,
           "tintAndShade": 0,
           "underline": "None"
          },
          "horizontalAlignment": "General",
          "indentLevel": 0,
          "readingOrder": "Context",
          "rowHeight": 14.5,
          "shrinkToFit": false,
          "textOrientation": 0,
          "useStandardHeight": true,
          "useStandardWidth": false,
          "verticalAlignment": "Bottom",
          "wrapText": false
         },
         "formula": "",
         "id": 86,
         "measure": {
          "val": "cogs",
          "var": ""
         },
         "oriFormula": "",
         "rowId": 6,
         "symRefAddress": "?cogs"
        },
        {
         "address": "D9",
         "cellDataType": "OUTPUT",
         "cellType": "DATA",
         "colId": 2,
         "contributingBeanIds": [
          405
         ],
         "data": "-7.5",
         "format": {
          "autoIndent": false,
          "columnWidth": 58,
          "fill": {
           "color": "#FFFFFF",
           "pattern": null,
           "patternColor": null,
           "patternTintAndShade": null,
           "tintAndShade": null
          },
          "font": {
           "bold": false,
           "color": "#000000",
           "italic": false,
           "name": "Calibri",
           "size": 11,
           "strikethrough": false,
           "subscript": false,
           "superscript": false,
           "tintAndShade": 0,
           "underline": "None"
          },
          "horizontalAlignment": "General",
          "indentLevel": 0,
          "numberFormat": "#,##0.0",
          "numberFormatCategories": "Number",
          "readingOrder": "Context",
          "rowHeight": 14.5,
          "shrinkToFit": false,
          "textOrientation": 0,
          "useStandardHeight": true,
          "useStandardWidth": false,
          "verticalAlignment": "Bottom",
          "wrapText": false
         },
         "formula": "='cogs-per-user'*'m+0.new?retention'",
         "id": 87,
         "oriFormula": "=$Q$9*D6",
         "rowId": 6,
         "symRefAddress": "m+0.new?cogs"
        },
        {
         "address": "E9",
         "cellDataType": "OUTPUT",
         "cellType": "DATA",
         "colId": 3,
         "contributingBeanIds": [
          405
         ],
         "data": "-5.25",
         "format": {
          "autoIndent": false,
          "columnWidth": 58,
          "fill": {
           "color": "#FFFFFF",
           "pattern": null,
           "patternColor": null,
           "patternTintAndShade": null,
           "tintAndShade": null
          },
          "font": {
           "bold": false,
           "color": "#000000",
           "italic": false,
           "name": "Calibri",
           "size": 11,
           "strikethrough": false,
           "subscript": false,
           "superscript": false,
           "tintAndShade": 0,
           "underline": "None"
          },
          "horizontalAlignment": "General",
          "indentLevel": 0,
          "numberFormat": "#,##0.0",
          "numberFormatCategories": "Number",
          "readingOrder": "Context",
          "rowHeight": 14.5,
          "shrinkToFit": false,
          "textOrientation": 0,
          "useStandardHeight": true,
          "useStandardWidth": false,
          "verticalAlignment": "Bottom",
          "wrapText": false
         },
         "formula": "='cogs-per-user'*'m+1.trial?retention'",
         "id": 88,
         "oriFormula": "=$Q$9*E6",
         "rowId": 6,
         "symRefAddress": "m+1.trial?cogs"
        },
        {
         "address": "F9",
         "cellDataType": "OUTPUT",
         "cellType": "DATA",
         "colId": 4,
         "contributingBeanIds": [
          405
         ],
         "data": "-4.515",
         "format": {
          "autoIndent": false,
          "columnWidth": 48,
          "fill": {
           "color": "#FFFFFF",
           "pattern": null,
           "patternColor": null,
           "patternTintAndShade": null,
           "tintAndShade": null
          },
          "font": {
           "bold": false,
           "color": "#000000",
           "italic": false,
           "name": "Calibri",
           "size": 11,
           "strikethrough": false,
           "subscript": false,
           "superscript": false,
           "tintAndShade": 0,
           "underline": "None"
          },
          "horizontalAlignment": "General",
          "indentLevel": 0,
          "numberFormat": "#,##0.0",
          "numberFormatCategories": "Number",
          "readingOrder": "Context",
          "rowHeight": 14.5,
          "shrinkToFit": false,
          "textOrientation": 0,
          "useStandardHeight": true,
          "useStandardWidth": true,
          "verticalAlignment": "Bottom",
          "wrapText": false
         },
         "formula": "='cogs-per-user'*'m+2.trial?retention'",
         "id": 89,
         "oriFormula": "=$Q$9*F6",
         "rowId": 6,
         "symRefAddress": "m+2.trial?cogs"
        },
        {
         "address": "G9",
         "cellDataType": "OUTPUT",
         "cellType": "DATA",
         "colId": 5,
         "contributingBeanIds": [
          405
         ],
         "data": "-3.74745",
         "format": {
          "autoIndent": false,
          "columnWidth": 48,
          "fill": {
           "color": "#FFFFFF",
           "pattern": null,
           "patternColor": null,
           "patternTintAndShade": null,
           "tintAndShade": null
          },
          "font": {
           "bold": false,
           "color": "#000000",
           "italic": false,
           "name": "Calibri",
           "size": 11,
           "strikethrough": false,
           "subscript": false,
           "superscript": false,
           "tintAndShade": 0,
           "underline": "None"
          },
          "horizontalAlignment": "General",
          "indentLevel": 0,
          "numberFormat": "#,##0.0",
          "numberFormatCategories": "Number",
          "readingOrder": "Context",
          "rowHeight": 14.5,
          "shrinkToFit": false,
          "textOrientation": 0,
          "useStandardHeight": true,
          "useStandardWidth": true,
          "verticalAlignment": "Bottom",
          "wrapText": false
         },
         "formula": "='cogs-per-user'*'m+3.retained?retention'",
         "id": 90,
         "oriFormula": "=$Q$9*G6",
         "rowId": 6,
         "symRefAddress": "m+3.retained?cogs"
        },
        {
         "address": "H9",
         "cellDataType": "OUTPUT",
         "cellType": "DATA",
         "colId": 6,
         "contributingBeanIds": [
          405
         ],
         "data": "-3.74745",
         "format": {
          "autoIndent": false,
          "columnWidth": 48,
          "fill": {
           "color": "#FFFFFF",
           "pattern": null,
           "patternColor": null,
           "patternTintAndShade": null,
           "tintAndShade": null
          },
          "font": {
           "bold": false,
           "color": "#000000",
           "italic": false,
           "name": "Calibri",
           "size": 11,
           "strikethrough": false,
           "subscript": false,
           "superscript": false,
           "tintAndShade": 0,
           "underline": "None"
          },
          "horizontalAlignment": "General",
          "indentLevel": 0,
          "numberFormat": "#,##0.0",
          "numberFormatCategories": "Number",
          "readingOrder": "Context",
          "rowHeight": 14.5,
          "shrinkToFit": false,
          "textOrientation": 0,
          "useStandardHeight": true,
          "useStandardWidth": true,
          "verticalAlignment": "Bottom",
          "wrapText": false
         },
         "formula": "='cogs-per-user'*'m+4.retained?retention'",
         "id": 91,
         "oriFormula": "=$Q$9*H6",
         "rowId": 6,
         "symRefAddress": "m+4.retained?cogs"
        },
        {
         "address": "I9",
         "cellDataType": "OUTPUT",
         "cellType": "DATA",
         "colId": 7,
         "contributingBeanIds": [
          405
         ],
         "data": "-3.74745",
         "format": {
          "autoIndent": false,
          "columnWidth": 48,
          "fill": {
           "color": "#FFFFFF",
           "pattern": null,
           "patternColor": null,
           "patternTintAndShade": null,
           "tintAndShade": null
          },
          "font": {
           "bold": false,
           "color": "#000000",
           "italic": false,
           "name": "Calibri",
           "size": 11,
           "strikethrough": false,
           "subscript": false,
           "superscript": false,
           "tintAndShade": 0,
           "underline": "None"
          },
          "horizontalAlignment": "General",
          "indentLevel": 0,
          "numberFormat": "#,##0.0",
          "numberFormatCategories": "Number",
          "readingOrder": "Context",
          "rowHeight": 14.5,
          "shrinkToFit": false,
          "textOrientation": 0,
          "useStandardHeight": true,
          "useStandardWidth": true,
          "verticalAlignment": "Bottom",
          "wrapText": false
         },
         "formula": "='cogs-per-user'*'m+5.retained?retention'",
         "id": 92,
         "oriFormula": "=$Q$9*I6",
         "rowId": 6,
         "symRefAddress": "m+5.retained?cogs"
        },
        {
         "address": "J9",
         "cellDataType": "OUTPUT",
         "cellType": "DATA",
         "colId": 8,
         "contributingBeanIds": [
          405
         ],
         "data": "-3.74745",
         "format": {
          "autoIndent": false,
          "columnWidth": 48,
          "fill": {
           "color": "#FFFFFF",
           "pattern": null,
           "patternColor": null,
           "patternTintAndShade": null,
           "tintAndShade": null
          },
          "font": {
           "bold": false,
           "color": "#000000",
           "italic": false,
           "name": "Calibri",
           "size": 11,
           "strikethrough": false,
           "subscript": false,
           "superscript": false,
           "tintAndShade": 0,
           "underline": "None"
          },
          "horizontalAlignment": "General",
          "indentLevel": 0,
          "numberFormat": "#,##0.0",
          "numberFormatCategories": "Number",
          "readingOrder": "Context",
          "rowHeight": 14.5,
          "shrinkToFit": false,
          "textOrientation": 0,
          "useStandardHeight": true,
          "useStandardWidth": true,
          "verticalAlignment": "Bottom",
          "wrapText": false
         },
         "formula": "='cogs-per-user'*'m+6.retained?retention'",
         "id": 93,
         "oriFormula": "=$Q$9*J6",
         "rowId": 6,
         "symRefAddress": "m+6.retained?cogs"
        },
        {
         "address": "K9",
         "cellDataType": "OUTPUT",
         "cellType": "DATA",
         "colId": 9,
         "contributingBeanIds": [
          405
         ],
         "data": "-3.74745",
         "format": {
          "autoIndent": false,
          "columnWidth": 48,
          "fill": {
           "color": "#FFFFFF",
           "pattern": null,
           "patternColor": null,
           "patternTintAndShade": null,
           "tintAndShade": null
          },
          "font": {
           "bold": false,
           "color": "#000000",
           "italic": false,
           "name": "Calibri",
           "size": 11,
           "strikethrough": false,
           "subscript": false,
           "superscript": false,
           "tintAndShade": 0,
           "underline": "None"
          },
          "horizontalAlignment": "General",
          "indentLevel": 0,
          "numberFormat": "#,##0.0",
          "numberFormatCategories": "Number",
          "readingOrder": "Context",
          "rowHeight": 14.5,
          "shrinkToFit": false,
          "textOrientation": 0,
          "useStandardHeight": true,
          "useStandardWidth": true,
          "verticalAlignment": "Bottom",
          "wrapText": false
         },
         "formula": "='cogs-per-user'*'m+7.retained?retention'",
         "id": 94,
         "oriFormula": "=$Q$9*K6",
         "rowId": 6,
         "symRefAddress": "m+7.retained?cogs"
        },
        {
         "address": "L9",
         "cellDataType": "OUTPUT",
         "cellType": "DATA",
         "colId": 10,
         "contributingBeanIds": [
          405
         ],
         "data": "-3.74745",
         "format": {
          "autoIndent": false,
          "columnWidth": 48,
          "fill": {
           "color": "#FFFFFF",
           "pattern": null,
           "patternColor": null,
           "patternTintAndShade": null,
           "tintAndShade": null
          },
          "font": {
           "bold": false,
           "color": "#000000",
           "italic": false,
           "name": "Calibri",
           "size": 11,
           "strikethrough": false,
           "subscript": false,
           "superscript": false,
           "tintAndShade": 0,
           "underline": "None"
          },
          "horizontalAlignment": "General",
          "indentLevel": 0,
          "numberFormat": "#,##0.0",
          "numberFormatCategories": "Number",
          "readingOrder": "Context",
          "rowHeight": 14.5,
          "shrinkToFit": false,
          "textOrientation": 0,
          "useStandardHeight": true,
          "useStandardWidth": true,
          "verticalAlignment": "Bottom",
          "wrapText": false
         },
         "formula": "='cogs-per-user'*'m+8.retained?retention'",
         "id": 95,
         "oriFormula": "=$Q$9*L6",
         "rowId": 6,
         "symRefAddress": "m+8.retained?cogs"
        },
        {
         "address": "M9",
         "cellDataType": "OUTPUT",
         "cellType": "DATA",
         "colId": 11,
         "contributingBeanIds": [
          405
         ],
         "data": "-3.74745",
         "format": {
          "autoIndent": false,
          "columnWidth": 48,
          "fill": {
           "color": "#FFFFFF",
           "pattern": null,
           "patternColor": null,
           "patternTintAndShade": null,
           "tintAndShade": null
          },
          "font": {
           "bold": false,
           "color": "#000000",
           "italic": false,
           "name": "Calibri",
           "size": 11,
           "strikethrough": false,
           "subscript": false,
           "superscript": false,
           "tintAndShade": 0,
           "underline": "None"
          },
          "horizontalAlignment": "General",
          "indentLevel": 0,
          "numberFormat": "#,##0.0",
          "numberFormatCategories": "Number",
          "readingOrder": "Context",
          "rowHeight": 14.5,
          "shrinkToFit": false,
          "textOrientation": 0,
          "useStandardHeight": true,
          "useStandardWidth": true,
          "verticalAlignment": "Bottom",
          "wrapText": false
         },
         "formula": "='cogs-per-user'*'m+9.retained?retention'",
         "id": 96,
         "oriFormula": "=$Q$9*M6",
         "rowId": 6,
         "symRefAddress": "m+9.retained?cogs"
        },
        {
         "address": "N9",
         "cellDataType": "OUTPUT",
         "cellType": "DATA",
         "colId": 12,
         "contributingBeanIds": [
          405
         ],
         "data": "-3.74745",
         "format": {
          "autoIndent": false,
          "columnWidth": 48,
          "fill": {
           "color": "#FFFFFF",
           "pattern": null,
           "patternColor": null,
           "patternTintAndShade": null,
           "tintAndShade": null
          },
          "font": {
           "bold": false,
           "color": "#000000",
           "italic": false,
           "name": "Calibri",
           "size": 11,
           "strikethrough": false,
           "subscript": false,
           "superscript": false,
           "tintAndShade": 0,
           "underline": "None"
          },
          "horizontalAlignment": "General",
          "indentLevel": 0,
          "numberFormat": "#,##0.0",
          "numberFormatCategories": "Number",
          "readingOrder": "Context",
          "rowHeight": 14.5,
          "shrinkToFit": false,
          "textOrientation": 0,
          "useStandardHeight": true,
          "useStandardWidth": true,
          "verticalAlignment": "Bottom",
          "wrapText": false
         },
         "formula": "='cogs-per-user'*'m+10.retained?retention'",
         "id": 97,
         "oriFormula": "=$Q$9*N6",
         "rowId": 6,
         "symRefAddress": "m+10.retained?cogs"
        },
        {
         "address": "O9",
         "cellDataType": "OUTPUT",
         "cellType": "DATA",
         "colId": 13,
         "contributingBeanIds": [
          405
         ],
         "data": "-3.74745",
         "format": {
          "autoIndent": false,
          "columnWidth": 48,
          "fill": {
           "color": "#FFFFFF",
           "pattern": null,
           "patternColor": null,
           "patternTintAndShade": null,
           "tintAndShade": null
          },
          "font": {
           "bold": false,
           "color": "#000000",
           "italic": false,
           "name": "Calibri",
           "size": 11,
           "strikethrough": false,
           "subscript": false,
           "superscript": false,
           "tintAndShade": 0,
           "underline": "None"
          },
          "horizontalAlignment": "General",
          "indentLevel": 0,
          "numberFormat": "#,##0.0",
          "numberFormatCategories": "Number",
          "readingOrder": "Context",
          "rowHeight": 14.5,
          "shrinkToFit": false,
          "textOrientation": 0,
          "useStandardHeight": true,
          "useStandardWidth": true,
          "verticalAlignment": "Bottom",
          "wrapText": false
         },
         "formula": "='cogs-per-user'*'m+11.retained?retention'",
         "id": 98,
         "oriFormula": "=$Q$9*O6",
         "rowId": 6,
         "symRefAddress": "m+11.retained?cogs"
        },
        {
         "address": "B10",
         "cellDataType": "INPUT",
         "cellType": "ROW_IND",
         "colId": 0,
         "contributingBeanIds": [
          405
         ],
         "data": "8",
         "format": {
          "autoIndent": false,
          "columnWidth": 48,
          "fill": {
           "color": "#000000",
           "pattern": null,
           "patternColor": null,
           "patternTintAndShade": null,
           "tintAndShade": 0
          },
          "font": {
           "bold": false,
           "color": "#FFFFFF",
           "italic": false,
           "name": "Calibri",
           "size": 11,
           "strikethrough": false,
           "subscript": false,
           "superscript": false,
           "tintAndShade": 0,
           "underline": "None"
          },
          "horizontalAlignment": "Center",
          "indentLevel": 0,
          "readingOrder": "Context",
          "rowHeight": 14.5,
          "shrinkToFit": false,
          "textOrientation": 0,
          "useStandardHeight": true,
          "useStandardWidth": true,
          "verticalAlignment": "Bottom",
          "wrapText": false
         },
         "formula": "",
         "id": 99,
         "oriFormula": "",
         "rowId": 7,
         "symRefAddress": "?contribution"
        },
        {
         "address": "C10",
         "cellDataType": "LABEL",
         "cellType": "ROW_HDR",
         "colId": 1,
         "contributingBeanIds": [
          405
         ],
         "data": "Contribution",
         "format": {
          "autoIndent": false,
          "columnWidth": 107.5,
          "fill": {
           "color": "#FFFFFF",
           "pattern": null,
           "patternColor": null,
           "patternTintAndShade": null,
           "tintAndShade": null
          },
          "font": {
           "bold": true,
           "color": "#000000",
           "italic": false,
           "name": "Calibri",
           "size": 11,
           "strikethrough": false,
           "subscript": false,
           "superscript": false,
           "tintAndShade": 0,
           "underline": "None"
          },
          "horizontalAlignment": "General",
          "indentLevel": 0,
          "readingOrder": "Context",
          "rowHeight": 14.5,
          "shrinkToFit": false,
          "textOrientation": 0,
          "useStandardHeight": true,
          "useStandardWidth": false,
          "verticalAlignment": "Bottom",
          "wrapText": false
         },
         "formula": "",
         "id": 100,
         "measure": {
          "val": "contribution",
          "var": ""
         },
         "oriFormula": "",
         "rowId": 7,
         "symRefAddress": "?contribution"
        },
        {
         "address": "D10",
         "cellDataType": "OUTPUT",
         "cellType": "DATA",
         "colId": 2,
         "contributingBeanIds": [
          405
         ],
         "data": "42.5",
         "format": {
          "autoIndent": false,
          "columnWidth": 58,
          "fill": {
           "color": "#FFFFFF",
           "pattern": null,
           "patternColor": null,
           "patternTintAndShade": null,
           "tintAndShade": null
          },
          "font": {
           "bold": true,
           "color": "#000000",
           "italic": false,
           "name": "Calibri",
           "size": 11,
           "strikethrough": false,
           "subscript": false,
           "superscript": false,
           "tintAndShade": 0,
           "underline": "None"
          },
          "horizontalAlignment": "General",
          "indentLevel": 0,
          "numberFormat": "#,##0.0",
          "numberFormatCategories": "Number",
          "readingOrder": "Context",
          "rowHeight": 14.5,
          "shrinkToFit": false,
          "textOrientation": 0,
          "useStandardHeight": true,
          "useStandardWidth": false,
          "verticalAlignment": "Bottom",
          "wrapText": false
         },
         "formula": "='m+0.new?revenue'+'m+0.new?cogs'",
         "id": 101,
         "oriFormula": "=D8+D9",
         "rowId": 7,
         "symRefAddress": "m+0.new?contribution"
        },
        {
         "address": "E10",
         "cellDataType": "OUTPUT",
         "cellType": "DATA",
         "colId": 3,
         "contributingBeanIds": [
          405
         ],
         "data": "29.75",
         "format": {
          "autoIndent": false,
          "columnWidth": 58,
          "fill": {
           "color": "#FFFFFF",
           "pattern": null,
           "patternColor": null,
           "patternTintAndShade": null,
           "tintAndShade": null
          },
          "font": {
           "bold": true,
           "color": "#000000",
           "italic": false,
           "name": "Calibri",
           "size": 11,
           "strikethrough": false,
           "subscript": false,
           "superscript": false,
           "tintAndShade": 0,
           "underline": "None"
          },
          "horizontalAlignment": "General",
          "indentLevel": 0,
          "numberFormat": "#,##0.0",
          "numberFormatCategories": "Number",
          "readingOrder": "Context",
          "rowHeight": 14.5,
          "shrinkToFit": false,
          "textOrientation": 0,
          "useStandardHeight": true,
          "useStandardWidth": false,
          "verticalAlignment": "Bottom",
          "wrapText": false
         },
         "formula": "='m+1.trial?revenue'+'m+1.trial?cogs'",
         "id": 102,
         "oriFormula": "=E8+E9",
         "rowId": 7,
         "symRefAddress": "m+1.trial?contribution"
        },
        {
         "address": "F10",
         "cellDataType": "OUTPUT",
         "cellType": "DATA",
         "colId": 4,
         "contributingBeanIds": [
          405
         ],
         "data": "25.585",
         "format": {
          "autoIndent": false,
          "columnWidth": 48,
          "fill": {
           "color": "#FFFFFF",
           "pattern": null,
           "patternColor": null,
           "patternTintAndShade": null,
           "tintAndShade": null
          },
          "font": {
           "bold": true,
           "color": "#000000",
           "italic": false,
           "name": "Calibri",
           "size": 11,
           "strikethrough": false,
           "subscript": false,
           "superscript": false,
           "tintAndShade": 0,
           "underline": "None"
          },
          "horizontalAlignment": "General",
          "indentLevel": 0,
          "numberFormat": "#,##0.0",
          "numberFormatCategories": "Number",
          "readingOrder": "Context",
          "rowHeight": 14.5,
          "shrinkToFit": false,
          "textOrientation": 0,
          "useStandardHeight": true,
          "useStandardWidth": true,
          "verticalAlignment": "Bottom",
          "wrapText": false
         },
         "formula": "='m+2.trial?revenue'+'m+2.trial?cogs'",
         "id": 103,
         "oriFormula": "=F8+F9",
         "rowId": 7,
         "symRefAddress": "m+2.trial?contribution"
        },
        {
         "address": "G10",
         "cellDataType": "OUTPUT",
         "cellType": "DATA",
         "colId": 5,
         "contributingBeanIds": [
          405
         ],
         "data": "21.23555",
         "format": {
          "autoIndent": false,
          "columnWidth": 48,
          "fill": {
           "color": "#FFFFFF",
           "pattern": null,
           "patternColor": null,
           "patternTintAndShade": null,
           "tintAndShade": null
          },
          "font": {
           "bold": true,
           "color": "#000000",
           "italic": false,
           "name": "Calibri",
           "size": 11,
           "strikethrough": false,
           "subscript": false,
           "superscript": false,
           "tintAndShade": 0,
           "underline": "None"
          },
          "horizontalAlignment": "General",
          "indentLevel": 0,
          "numberFormat": "#,##0.0",
          "numberFormatCategories": "Number",
          "readingOrder": "Context",
          "rowHeight": 14.5,
          "shrinkToFit": false,
          "textOrientation": 0,
          "useStandardHeight": true,
          "useStandardWidth": true,
          "verticalAlignment": "Bottom",
          "wrapText": false
         },
         "formula": "='m+3.retained?revenue'+'m+3.retained?cogs'",
         "id": 104,
         "oriFormula": "=G8+G9",
         "rowId": 7,
         "symRefAddress": "m+3.retained?contribution"
        },
        {
         "address": "H10",
         "cellDataType": "OUTPUT",
         "cellType": "DATA",
         "colId": 6,
         "contributingBeanIds": [
          405
         ],
         "data": "21.23555",
         "format": {
          "autoIndent": false,
          "columnWidth": 48,
          "fill": {
           "color": "#FFFFFF",
           "pattern": null,
           "patternColor": null,
           "patternTintAndShade": null,
           "tintAndShade": null
          },
          "font": {
           "bold": true,
           "color": "#000000",
           "italic": false,
           "name": "Calibri",
           "size": 11,
           "strikethrough": false,
           "subscript": false,
           "superscript": false,
           "tintAndShade": 0,
           "underline": "None"
          },
          "horizontalAlignment": "General",
          "indentLevel": 0,
          "numberFormat": "#,##0.0",
          "numberFormatCategories": "Number",
          "readingOrder": "Context",
          "rowHeight": 14.5,
          "shrinkToFit": false,
          "textOrientation": 0,
          "useStandardHeight": true,
          "useStandardWidth": true,
          "verticalAlignment": "Bottom",
          "wrapText": false
         },
         "formula": "='m+4.retained?revenue'+'m+4.retained?cogs'",
         "id": 105,
         "oriFormula": "=H8+H9",
         "rowId": 7,
         "symRefAddress": "m+4.retained?contribution"
        },
        {
         "address": "I10",
         "cellDataType": "OUTPUT",
         "cellType": "DATA",
         "colId": 7,
         "contributingBeanIds": [
          405
         ],
         "data": "21.23555",
         "format": {
          "autoIndent": false,
          "columnWidth": 48,
          "fill": {
           "color": "#FFFFFF",
           "pattern": null,
           "patternColor": null,
           "patternTintAndShade": null,
           "tintAndShade": null
          },
          "font": {
           "bold": true,
           "color": "#000000",
           "italic": false,
           "name": "Calibri",
           "size": 11,
           "strikethrough": false,
           "subscript": false,
           "superscript": false,
           "tintAndShade": 0,
           "underline": "None"
          },
          "horizontalAlignment": "General",
          "indentLevel": 0,
          "numberFormat": "#,##0.0",
          "numberFormatCategories": "Number",
          "readingOrder": "Context",
          "rowHeight": 14.5,
          "shrinkToFit": false,
          "textOrientation": 0,
          "useStandardHeight": true,
          "useStandardWidth": true,
          "verticalAlignment": "Bottom",
          "wrapText": false
         },
         "formula": "='m+5.retained?revenue'+'m+5.retained?cogs'",
         "id": 106,
         "oriFormula": "=I8+I9",
         "rowId": 7,
         "symRefAddress": "m+5.retained?contribution"
        },
        {
         "address": "J10",
         "cellDataType": "OUTPUT",
         "cellType": "DATA",
         "colId": 8,
         "contributingBeanIds": [
          405
         ],
         "data": "21.23555",
         "format": {
          "autoIndent": false,
          "columnWidth": 48,
          "fill": {
           "color": "#FFFFFF",
           "pattern": null,
           "patternColor": null,
           "patternTintAndShade": null,
           "tintAndShade": null
          },
          "font": {
           "bold": true,
           "color": "#000000",
           "italic": false,
           "name": "Calibri",
           "size": 11,
           "strikethrough": false,
           "subscript": false,
           "superscript": false,
           "tintAndShade": 0,
           "underline": "None"
          },
          "horizontalAlignment": "General",
          "indentLevel": 0,
          "numberFormat": "#,##0.0",
          "numberFormatCategories": "Number",
          "readingOrder": "Context",
          "rowHeight": 14.5,
          "shrinkToFit": false,
          "textOrientation": 0,
          "useStandardHeight": true,
          "useStandardWidth": true,
          "verticalAlignment": "Bottom",
          "wrapText": false
         },
         "formula": "='m+6.retained?revenue'+'m+6.retained?cogs'",
         "id": 107,
         "oriFormula": "=J8+J9",
         "rowId": 7,
         "symRefAddress": "m+6.retained?contribution"
        },
        {
         "address": "K10",
         "cellDataType": "OUTPUT",
         "cellType": "DATA",
         "colId": 9,
         "contributingBeanIds": [
          405
         ],
         "data": "21.23555",
         "format": {
          "autoIndent": false,
          "columnWidth": 48,
          "fill": {
           "color": "#FFFFFF",
           "pattern": null,
           "patternColor": null,
           "patternTintAndShade": null,
           "tintAndShade": null
          },
          "font": {
           "bold": true,
           "color": "#000000",
           "italic": false,
           "name": "Calibri",
           "size": 11,
           "strikethrough": false,
           "subscript": false,
           "superscript": false,
           "tintAndShade": 0,
           "underline": "None"
          },
          "horizontalAlignment": "General",
          "indentLevel": 0,
          "numberFormat": "#,##0.0",
          "numberFormatCategories": "Number",
          "readingOrder": "Context",
          "rowHeight": 14.5,
          "shrinkToFit": false,
          "textOrientation": 0,
          "useStandardHeight": true,
          "useStandardWidth": true,
          "verticalAlignment": "Bottom",
          "wrapText": false
         },
         "formula": "='m+7.retained?revenue'+'m+7.retained?cogs'",
         "id": 108,
         "oriFormula": "=K8+K9",
         "rowId": 7,
         "symRefAddress": "m+7.retained?contribution"
        },
        {
         "address": "L10",
         "cellDataType": "OUTPUT",
         "cellType": "DATA",
         "colId": 10,
         "contributingBeanIds": [
          405
         ],
         "data": "21.23555",
         "format": {
          "autoIndent": false,
          "columnWidth": 48,
          "fill": {
           "color": "#FFFFFF",
           "pattern": null,
           "patternColor": null,
           "patternTintAndShade": null,
           "tintAndShade": null
          },
          "font": {
           "bold": true,
           "color": "#000000",
           "italic": false,
           "name": "Calibri",
           "size": 11,
           "strikethrough": false,
           "subscript": false,
           "superscript": false,
           "tintAndShade": 0,
           "underline": "None"
          },
          "horizontalAlignment": "General",
          "indentLevel": 0,
          "numberFormat": "#,##0.0",
          "numberFormatCategories": "Number",
          "readingOrder": "Context",
          "rowHeight": 14.5,
          "shrinkToFit": false,
          "textOrientation": 0,
          "useStandardHeight": true,
          "useStandardWidth": true,
          "verticalAlignment": "Bottom",
          "wrapText": false
         },
         "formula": "='m+8.retained?revenue'+'m+8.retained?cogs'",
         "id": 109,
         "oriFormula": "=L8+L9",
         "rowId": 7,
         "symRefAddress": "m+8.retained?contribution"
        },
        {
         "address": "M10",
         "cellDataType": "OUTPUT",
         "cellType": "DATA",
         "colId": 11,
         "contributingBeanIds": [
          405
         ],
         "data": "21.23555",
         "format": {
          "autoIndent": false,
          "columnWidth": 48,
          "fill": {
           "color": "#FFFFFF",
           "pattern": null,
           "patternColor": null,
           "patternTintAndShade": null,
           "tintAndShade": null
          },
          "font": {
           "bold": true,
           "color": "#000000",
           "italic": false,
           "name": "Calibri",
           "size": 11,
           "strikethrough": false,
           "subscript": false,
           "superscript": false,
           "tintAndShade": 0,
           "underline": "None"
          },
          "horizontalAlignment": "General",
          "indentLevel": 0,
          "numberFormat": "#,##0.0",
          "numberFormatCategories": "Number",
          "readingOrder": "Context",
          "rowHeight": 14.5,
          "shrinkToFit": false,
          "textOrientation": 0,
          "useStandardHeight": true,
          "useStandardWidth": true,
          "verticalAlignment": "Bottom",
          "wrapText": false
         },
         "formula": "='m+9.retained?revenue'+'m+9.retained?cogs'",
         "id": 110,
         "oriFormula": "=M8+M9",
         "rowId": 7,
         "symRefAddress": "m+9.retained?contribution"
        },
        {
         "address": "N10",
         "cellDataType": "OUTPUT",
         "cellType": "DATA",
         "colId": 12,
         "contributingBeanIds": [
          405
         ],
         "data": "21.23555",
         "format": {
          "autoIndent": false,
          "columnWidth": 48,
          "fill": {
           "color": "#FFFFFF",
           "pattern": null,
           "patternColor": null,
           "patternTintAndShade": null,
           "tintAndShade": null
          },
          "font": {
           "bold": true,
           "color": "#000000",
           "italic": false,
           "name": "Calibri",
           "size": 11,
           "strikethrough": false,
           "subscript": false,
           "superscript": false,
           "tintAndShade": 0,
           "underline": "None"
          },
          "horizontalAlignment": "General",
          "indentLevel": 0,
          "numberFormat": "#,##0.0",
          "numberFormatCategories": "Number",
          "readingOrder": "Context",
          "rowHeight": 14.5,
          "shrinkToFit": false,
          "textOrientation": 0,
          "useStandardHeight": true,
          "useStandardWidth": true,
          "verticalAlignment": "Bottom",
          "wrapText": false
         },
         "formula": "='m+10.retained?revenue'+'m+10.retained?cogs'",
         "id": 111,
         "oriFormula": "=N8+N9",
         "rowId": 7,
         "symRefAddress": "m+10.retained?contribution"
        },
        {
         "address": "O10",
         "cellDataType": "OUTPUT",
         "cellType": "DATA",
         "colId": 13,
         "contributingBeanIds": [
          405
         ],
         "data": "21.23555",
         "format": {
          "autoIndent": false,
          "columnWidth": 48,
          "fill": {
           "color": "#FFFFFF",
           "pattern": null,
           "patternColor": null,
           "patternTintAndShade": null,
           "tintAndShade": null
          },
          "font": {
           "bold": true,
           "color": "#000000",
           "italic": false,
           "name": "Calibri",
           "size": 11,
           "strikethrough": false,
           "subscript": false,
           "superscript": false,
           "tintAndShade": 0,
           "underline": "None"
          },
          "horizontalAlignment": "General",
          "indentLevel": 0,
          "numberFormat": "#,##0.0",
          "numberFormatCategories": "Number",
          "readingOrder": "Context",
          "rowHeight": 14.5,
          "shrinkToFit": false,
          "textOrientation": 0,
          "useStandardHeight": true,
          "useStandardWidth": true,
          "verticalAlignment": "Bottom",
          "wrapText": false
         },
         "formula": "='m+11.retained?revenue'+'m+11.retained?cogs'",
         "id": 112,
         "oriFormula": "=O8+O9",
         "rowId": 7,
         "symRefAddress": "m+11.retained?contribution"
        },
        {
         "address": "B11",
         "cellDataType": "INPUT",
         "cellType": "ROW_IND",
         "colId": 0,
         "contributingBeanIds": [
          405
         ],
         "data": "9",
         "format": {
          "autoIndent": false,
          "columnWidth": 48,
          "fill": {
           "color": "#000000",
           "pattern": null,
           "patternColor": null,
           "patternTintAndShade": null,
           "tintAndShade": 0
          },
          "font": {
           "bold": false,
           "color": "#FFFFFF",
           "italic": false,
           "name": "Calibri",
           "size": 11,
           "strikethrough": false,
           "subscript": false,
           "superscript": false,
           "tintAndShade": 0,
           "underline": "None"
          },
          "horizontalAlignment": "Center",
          "indentLevel": 0,
          "readingOrder": "Context",
          "rowHeight": 14.5,
          "shrinkToFit": false,
          "textOrientation": 0,
          "useStandardHeight": true,
          "useStandardWidth": true,
          "verticalAlignment": "Bottom",
          "wrapText": false
         },
         "formula": "",
         "id": 113,
         "oriFormula": "",
         "rowId": 8,
         "symRefAddress": "?sales-and-marketing"
        },
        {
         "address": "C11",
         "cellDataType": "LABEL",
         "cellType": "ROW_HDR",
         "colId": 1,
         "contributingBeanIds": [
          405
         ],
         "data": "Sales and Marketing",
         "format": {
          "autoIndent": false,
          "columnWidth": 107.5,
          "fill": {
           "color": "#FFFFFF",
           "pattern": null,
           "patternColor": null,
           "patternTintAndShade": null,
           "tintAndShade": null
          },
          "font": {
           "bold": false,
           "color": "#000000",
           "italic": false,
           "name": "Calibri",
           "size": 11,
           "strikethrough": false,
           "subscript": false,
           "superscript": false,
           "tintAndShade": 0,
           "underline": "None"
          },
          "horizontalAlignment": "General",
          "indentLevel": 0,
          "readingOrder": "Context",
          "rowHeight": 14.5,
          "shrinkToFit": false,
          "textOrientation": 0,
          "useStandardHeight": true,
          "useStandardWidth": false,
          "verticalAlignment": "Bottom",
          "wrapText": false
         },
         "formula": "",
         "id": 114,
         "measure": {
          "val": "sales-and-marketing",
          "var": ""
         },
         "oriFormula": "",
         "rowId": 8,
         "symRefAddress": "?sales-and-marketing"
        },
        {
         "address": "D11",
         "cellDataType": "INPUT",
         "cellType": "DATA",
         "colId": 2,
         "contributingBeanIds": [
          405
         ],
         "data": "-100",
         "format": {
          "autoIndent": false,
          "columnWidth": 58,
          "fill": {
           "color": "#FFF2CC",
           "pattern": null,
           "patternColor": null,
           "patternTintAndShade": null,
           "tintAndShade": 0.799981688894314
          },
          "font": {
           "bold": false,
           "color": "#000000",
           "italic": false,
           "name": "Calibri",
           "size": 11,
           "strikethrough": false,
           "subscript": false,
           "superscript": false,
           "tintAndShade": 0,
           "underline": "None"
          },
          "horizontalAlignment": "General",
          "indentLevel": 0,
          "numberFormat": "#,##0",
          "numberFormatCategories": "Number",
          "readingOrder": "Context",
          "rowHeight": 14.5,
          "shrinkToFit": false,
          "textOrientation": 0,
          "useStandardHeight": true,
          "useStandardWidth": false,
          "verticalAlignment": "Bottom",
          "wrapText": false
         },
         "formula": "",
         "id": 115,
         "oriFormula": "",
         "rowId": 8,
         "symRefAddress": "m+0.new?sales-and-marketing"
        },
        {
         "address": "E11",
         "cellDataType": "INPUT",
         "cellType": "DATA",
         "colId": 3,
         "contributingBeanIds": [
          405
         ],
         "data": "",
         "format": {
          "autoIndent": false,
          "columnWidth": 58,
          "fill": {
           "color": "#FFFFFF",
           "pattern": null,
           "patternColor": null,
           "patternTintAndShade": null,
           "tintAndShade": null
          },
          "font": {
           "bold": false,
           "color": "#000000",
           "italic": false,
           "name": "Calibri",
           "size": 11,
           "strikethrough": false,
           "subscript": false,
           "superscript": false,
           "tintAndShade": 0,
           "underline": "None"
          },
          "horizontalAlignment": "General",
          "indentLevel": 0,
          "numberFormat": "#,##0",
          "numberFormatCategories": "Number",
          "readingOrder": "Context",
          "rowHeight": 14.5,
          "shrinkToFit": false,
          "textOrientation": 0,
          "useStandardHeight": true,
          "useStandardWidth": false,
          "verticalAlignment": "Bottom",
          "wrapText": false
         },
         "formula": "",
         "id": 116,
         "oriFormula": "",
         "rowId": 8,
         "symRefAddress": "m+1.trial?sales-and-marketing"
        },
        {
         "address": "F11",
         "cellDataType": "INPUT",
         "cellType": "DATA",
         "colId": 4,
         "contributingBeanIds": [
          405
         ],
         "data": "",
         "format": {
          "autoIndent": false,
          "columnWidth": 48,
          "fill": {
           "color": "#FFFFFF",
           "pattern": null,
           "patternColor": null,
           "patternTintAndShade": null,
           "tintAndShade": null
          },
          "font": {
           "bold": false,
           "color": "#000000",
           "italic": false,
           "name": "Calibri",
           "size": 11,
           "strikethrough": false,
           "subscript": false,
           "superscript": false,
           "tintAndShade": 0,
           "underline": "None"
          },
          "horizontalAlignment": "General",
          "indentLevel": 0,
          "numberFormat": "#,##0",
          "numberFormatCategories": "Number",
          "readingOrder": "Context",
          "rowHeight": 14.5,
          "shrinkToFit": false,
          "textOrientation": 0,
          "useStandardHeight": true,
          "useStandardWidth": true,
          "verticalAlignment": "Bottom",
          "wrapText": false
         },
         "formula": "",
         "id": 117,
         "oriFormula": "",
         "rowId": 8,
         "symRefAddress": "m+2.trial?sales-and-marketing"
        },
        {
         "address": "G11",
         "cellDataType": "INPUT",
         "cellType": "DATA",
         "colId": 5,
         "contributingBeanIds": [
          405
         ],
         "data": "",
         "format": {
          "autoIndent": false,
          "columnWidth": 48,
          "fill": {
           "color": "#FFFFFF",
           "pattern": null,
           "patternColor": null,
           "patternTintAndShade": null,
           "tintAndShade": null
          },
          "font": {
           "bold": false,
           "color": "#000000",
           "italic": false,
           "name": "Calibri",
           "size": 11,
           "strikethrough": false,
           "subscript": false,
           "superscript": false,
           "tintAndShade": 0,
           "underline": "None"
          },
          "horizontalAlignment": "General",
          "indentLevel": 0,
          "numberFormat": "#,##0",
          "numberFormatCategories": "Number",
          "readingOrder": "Context",
          "rowHeight": 14.5,
          "shrinkToFit": false,
          "textOrientation": 0,
          "useStandardHeight": true,
          "useStandardWidth": true,
          "verticalAlignment": "Bottom",
          "wrapText": false
         },
         "formula": "",
         "id": 118,
         "oriFormula": "",
         "rowId": 8,
         "symRefAddress": "m+3.retained?sales-and-marketing"
        },
        {
         "address": "H11",
         "cellDataType": "INPUT",
         "cellType": "DATA",
         "colId": 6,
         "contributingBeanIds": [
          405
         ],
         "data": "",
         "format": {
          "autoIndent": false,
          "columnWidth": 48,
          "fill": {
           "color": "#FFFFFF",
           "pattern": null,
           "patternColor": null,
           "patternTintAndShade": null,
           "tintAndShade": null
          },
          "font": {
           "bold": false,
           "color": "#000000",
           "italic": false,
           "name": "Calibri",
           "size": 11,
           "strikethrough": false,
           "subscript": false,
           "superscript": false,
           "tintAndShade": 0,
           "underline": "None"
          },
          "horizontalAlignment": "General",
          "indentLevel": 0,
          "numberFormat": "#,##0",
          "numberFormatCategories": "Number",
          "readingOrder": "Context",
          "rowHeight": 14.5,
          "shrinkToFit": false,
          "textOrientation": 0,
          "useStandardHeight": true,
          "useStandardWidth": true,
          "verticalAlignment": "Bottom",
          "wrapText": false
         },
         "formula": "",
         "id": 119,
         "oriFormula": "",
         "rowId": 8,
         "symRefAddress": "m+4.retained?sales-and-marketing"
        },
        {
         "address": "I11",
         "cellDataType": "INPUT",
         "cellType": "DATA",
         "colId": 7,
         "contributingBeanIds": [
          405
         ],
         "data": "",
         "format": {
          "autoIndent": false,
          "columnWidth": 48,
          "fill": {
           "color": "#FFFFFF",
           "pattern": null,
           "patternColor": null,
           "patternTintAndShade": null,
           "tintAndShade": null
          },
          "font": {
           "bold": false,
           "color": "#000000",
           "italic": false,
           "name": "Calibri",
           "size": 11,
           "strikethrough": false,
           "subscript": false,
           "superscript": false,
           "tintAndShade": 0,
           "underline": "None"
          },
          "horizontalAlignment": "General",
          "indentLevel": 0,
          "numberFormat": "#,##0",
          "numberFormatCategories": "Number",
          "readingOrder": "Context",
          "rowHeight": 14.5,
          "shrinkToFit": false,
          "textOrientation": 0,
          "useStandardHeight": true,
          "useStandardWidth": true,
          "verticalAlignment": "Bottom",
          "wrapText": false
         },
         "formula": "",
         "id": 120,
         "oriFormula": "",
         "rowId": 8,
         "symRefAddress": "m+5.retained?sales-and-marketing"
        },
        {
         "address": "J11",
         "cellDataType": "INPUT",
         "cellType": "DATA",
         "colId": 8,
         "contributingBeanIds": [
          405
         ],
         "data": "",
         "format": {
          "autoIndent": false,
          "columnWidth": 48,
          "fill": {
           "color": "#FFFFFF",
           "pattern": null,
           "patternColor": null,
           "patternTintAndShade": null,
           "tintAndShade": null
          },
          "font": {
           "bold": false,
           "color": "#000000",
           "italic": false,
           "name": "Calibri",
           "size": 11,
           "strikethrough": false,
           "subscript": false,
           "superscript": false,
           "tintAndShade": 0,
           "underline": "None"
          },
          "horizontalAlignment": "General",
          "indentLevel": 0,
          "numberFormat": "#,##0",
          "numberFormatCategories": "Number",
          "readingOrder": "Context",
          "rowHeight": 14.5,
          "shrinkToFit": false,
          "textOrientation": 0,
          "useStandardHeight": true,
          "useStandardWidth": true,
          "verticalAlignment": "Bottom",
          "wrapText": false
         },
         "formula": "",
         "id": 121,
         "oriFormula": "",
         "rowId": 8,
         "symRefAddress": "m+6.retained?sales-and-marketing"
        },
        {
         "address": "K11",
         "cellDataType": "INPUT",
         "cellType": "DATA",
         "colId": 9,
         "contributingBeanIds": [
          405
         ],
         "data": "",
         "format": {
          "autoIndent": false,
          "columnWidth": 48,
          "fill": {
           "color": "#FFFFFF",
           "pattern": null,
           "patternColor": null,
           "patternTintAndShade": null,
           "tintAndShade": null
          },
          "font": {
           "bold": false,
           "color": "#000000",
           "italic": false,
           "name": "Calibri",
           "size": 11,
           "strikethrough": false,
           "subscript": false,
           "superscript": false,
           "tintAndShade": 0,
           "underline": "None"
          },
          "horizontalAlignment": "General",
          "indentLevel": 0,
          "numberFormat": "#,##0",
          "numberFormatCategories": "Number",
          "readingOrder": "Context",
          "rowHeight": 14.5,
          "shrinkToFit": false,
          "textOrientation": 0,
          "useStandardHeight": true,
          "useStandardWidth": true,
          "verticalAlignment": "Bottom",
          "wrapText": false
         },
         "formula": "",
         "id": 122,
         "oriFormula": "",
         "rowId": 8,
         "symRefAddress": "m+7.retained?sales-and-marketing"
        },
        {
         "address": "L11",
         "cellDataType": "INPUT",
         "cellType": "DATA",
         "colId": 10,
         "contributingBeanIds": [
          405
         ],
         "data": "",
         "format": {
          "autoIndent": false,
          "columnWidth": 48,
          "fill": {
           "color": "#FFFFFF",
           "pattern": null,
           "patternColor": null,
           "patternTintAndShade": null,
           "tintAndShade": null
          },
          "font": {
           "bold": false,
           "color": "#000000",
           "italic": false,
           "name": "Calibri",
           "size": 11,
           "strikethrough": false,
           "subscript": false,
           "superscript": false,
           "tintAndShade": 0,
           "underline": "None"
          },
          "horizontalAlignment": "General",
          "indentLevel": 0,
          "numberFormat": "#,##0",
          "numberFormatCategories": "Number",
          "readingOrder": "Context",
          "rowHeight": 14.5,
          "shrinkToFit": false,
          "textOrientation": 0,
          "useStandardHeight": true,
          "useStandardWidth": true,
          "verticalAlignment": "Bottom",
          "wrapText": false
         },
         "formula": "",
         "id": 123,
         "oriFormula": "",
         "rowId": 8,
         "symRefAddress": "m+8.retained?sales-and-marketing"
        },
        {
         "address": "M11",
         "cellDataType": "INPUT",
         "cellType": "DATA",
         "colId": 11,
         "contributingBeanIds": [
          405
         ],
         "data": "",
         "format": {
          "autoIndent": false,
          "columnWidth": 48,
          "fill": {
           "color": "#FFFFFF",
           "pattern": null,
           "patternColor": null,
           "patternTintAndShade": null,
           "tintAndShade": null
          },
          "font": {
           "bold": false,
           "color": "#000000",
           "italic": false,
           "name": "Calibri",
           "size": 11,
           "strikethrough": false,
           "subscript": false,
           "superscript": false,
           "tintAndShade": 0,
           "underline": "None"
          },
          "horizontalAlignment": "General",
          "indentLevel": 0,
          "numberFormat": "#,##0",
          "numberFormatCategories": "Number",
          "readingOrder": "Context",
          "rowHeight": 14.5,
          "shrinkToFit": false,
          "textOrientation": 0,
          "useStandardHeight": true,
          "useStandardWidth": true,
          "verticalAlignment": "Bottom",
          "wrapText": false
         },
         "formula": "",
         "id": 124,
         "oriFormula": "",
         "rowId": 8,
         "symRefAddress": "m+9.retained?sales-and-marketing"
        },
        {
         "address": "N11",
         "cellDataType": "INPUT",
         "cellType": "DATA",
         "colId": 12,
         "contributingBeanIds": [
          405
         ],
         "data": "",
         "format": {
          "autoIndent": false,
          "columnWidth": 48,
          "fill": {
           "color": "#FFFFFF",
           "pattern": null,
           "patternColor": null,
           "patternTintAndShade": null,
           "tintAndShade": null
          },
          "font": {
           "bold": false,
           "color": "#000000",
           "italic": false,
           "name": "Calibri",
           "size": 11,
           "strikethrough": false,
           "subscript": false,
           "superscript": false,
           "tintAndShade": 0,
           "underline": "None"
          },
          "horizontalAlignment": "General",
          "indentLevel": 0,
          "numberFormat": "#,##0",
          "numberFormatCategories": "Number",
          "readingOrder": "Context",
          "rowHeight": 14.5,
          "shrinkToFit": false,
          "textOrientation": 0,
          "useStandardHeight": true,
          "useStandardWidth": true,
          "verticalAlignment": "Bottom",
          "wrapText": false
         },
         "formula": "",
         "id": 125,
         "oriFormula": "",
         "rowId": 8,
         "symRefAddress": "m+10.retained?sales-and-marketing"
        },
        {
         "address": "O11",
         "cellDataType": "INPUT",
         "cellType": "DATA",
         "colId": 13,
         "contributingBeanIds": [
          405
         ],
         "data": "",
         "format": {
          "autoIndent": false,
          "columnWidth": 48,
          "fill": {
           "color": "#FFFFFF",
           "pattern": null,
           "patternColor": null,
           "patternTintAndShade": null,
           "tintAndShade": null
          },
          "font": {
           "bold": false,
           "color": "#000000",
           "italic": false,
           "name": "Calibri",
           "size": 11,
           "strikethrough": false,
           "subscript": false,
           "superscript": false,
           "tintAndShade": 0,
           "underline": "None"
          },
          "horizontalAlignment": "General",
          "indentLevel": 0,
          "numberFormat": "#,##0",
          "numberFormatCategories": "Number",
          "readingOrder": "Context",
          "rowHeight": 14.5,
          "shrinkToFit": false,
          "textOrientation": 0,
          "useStandardHeight": true,
          "useStandardWidth": true,
          "verticalAlignment": "Bottom",
          "wrapText": false
         },
         "formula": "",
         "id": 126,
         "oriFormula": "",
         "rowId": 8,
         "symRefAddress": "m+11.retained?sales-and-marketing"
        },
        {
         "address": "B12",
         "cellDataType": "INPUT",
         "cellType": "ROW_IND",
         "colId": 0,
         "contributingBeanIds": [
          405
         ],
         "data": "10",
         "format": {
          "autoIndent": false,
          "columnWidth": 48,
          "fill": {
           "color": "#000000",
           "pattern": null,
           "patternColor": null,
           "patternTintAndShade": null,
           "tintAndShade": 0
          },
          "font": {
           "bold": false,
           "color": "#FFFFFF",
           "italic": false,
           "name": "Calibri",
           "size": 11,
           "strikethrough": false,
           "subscript": false,
           "superscript": false,
           "tintAndShade": 0,
           "underline": "None"
          },
          "horizontalAlignment": "Center",
          "indentLevel": 0,
          "readingOrder": "Context",
          "rowHeight": 14.5,
          "shrinkToFit": false,
          "textOrientation": 0,
          "useStandardHeight": true,
          "useStandardWidth": true,
          "verticalAlignment": "Bottom",
          "wrapText": false
         },
         "formula": "",
         "id": 127,
         "oriFormula": "",
         "rowId": 9,
         "symRefAddress": "?ltv"
        },
        {
         "address": "C12",
         "cellDataType": "LABEL",
         "cellType": "ROW_HDR",
         "colId": 1,
         "contributingBeanIds": [
          405
         ],
         "data": "LTV",
         "format": {
          "autoIndent": false,
          "columnWidth": 107.5,
          "fill": {
           "color": "#FFFFFF",
           "pattern": null,
           "patternColor": null,
           "patternTintAndShade": null,
           "tintAndShade": null
          },
          "font": {
           "bold": true,
           "color": "#000000",
           "italic": false,
           "name": "Calibri",
           "size": 11,
           "strikethrough": false,
           "subscript": false,
           "superscript": false,
           "tintAndShade": 0,
           "underline": "None"
          },
          "horizontalAlignment": "General",
          "indentLevel": 0,
          "readingOrder": "Context",
          "rowHeight": 14.5,
          "shrinkToFit": false,
          "textOrientation": 0,
          "useStandardHeight": true,
          "useStandardWidth": false,
          "verticalAlignment": "Bottom",
          "wrapText": false
         },
         "formula": "",
         "id": 128,
         "measure": {
          "val": "ltv",
          "var": ""
         },
         "oriFormula": "",
         "rowId": 9,
         "symRefAddress": "?ltv"
        },
        {
         "address": "D12",
         "cellDataType": "OUTPUT",
         "cellType": "DATA",
         "colId": 2,
         "contributingBeanIds": [
          405
         ],
         "data": "-57.5",
         "format": {
          "autoIndent": false,
          "columnWidth": 58,
          "fill": {
           "color": "#FFFFFF",
           "pattern": null,
           "patternColor": null,
           "patternTintAndShade": null,
           "tintAndShade": null
          },
          "font": {
           "bold": true,
           "color": "#000000",
           "italic": false,
           "name": "Calibri",
           "size": 11,
           "strikethrough": false,
           "subscript": false,
           "superscript": false,
           "tintAndShade": 0,
           "underline": "None"
          },
          "horizontalAlignment": "General",
          "indentLevel": 0,
          "numberFormat": "#,##0",
          "numberFormatCategories": "Number",
          "readingOrder": "Context",
          "rowHeight": 14.5,
          "shrinkToFit": false,
          "textOrientation": 0,
          "useStandardHeight": true,
          "useStandardWidth": false,
          "verticalAlignment": "Bottom",
          "wrapText": false
         },
         "formula": "=SUM('m+0.new?contribution:m+0.new?contribution')+SUM('m+0.new?sales-and-marketing:m+0.new?sales-and-marketing')",
         "id": 129,
         "oriFormula": "=SUM($D10:D10)+SUM($D11:D11)",
         "rowId": 9,
         "symRefAddress": "m+0.new?ltv"
        },
        {
         "address": "E12",
         "cellDataType": "OUTPUT",
         "cellType": "DATA",
         "colId": 3,
         "contributingBeanIds": [
          405
         ],
         "data": "-27.75",
         "format": {
          "autoIndent": false,
          "columnWidth": 58,
          "fill": {
           "color": "#FFFFFF",
           "pattern": null,
           "patternColor": null,
           "patternTintAndShade": null,
           "tintAndShade": null
          },
          "font": {
           "bold": true,
           "color": "#000000",
           "italic": false,
           "name": "Calibri",
           "size": 11,
           "strikethrough": false,
           "subscript": false,
           "superscript": false,
           "tintAndShade": 0,
           "underline": "None"
          },
          "horizontalAlignment": "General",
          "indentLevel": 0,
          "numberFormat": "#,##0",
          "numberFormatCategories": "Number",
          "readingOrder": "Context",
          "rowHeight": 14.5,
          "shrinkToFit": false,
          "textOrientation": 0,
          "useStandardHeight": true,
          "useStandardWidth": false,
          "verticalAlignment": "Bottom",
          "wrapText": false
         },
         "formula": "=SUM('m+0.new?contribution:m+1.trial?contribution')+SUM('m+0.new?sales-and-marketing:m+1.trial?sales-and-marketing')",
         "id": 130,
         "oriFormula": "=SUM($D10:E10)+SUM($D11:E11)",
         "rowId": 9,
         "symRefAddress": "m+1.trial?ltv"
        },
        {
         "address": "F12",
         "cellDataType": "OUTPUT",
         "cellType": "DATA",
         "colId": 4,
         "contributingBeanIds": [
          405
         ],
         "data": "-2.16500000000001",
         "format": {
          "autoIndent": false,
          "columnWidth": 48,
          "fill": {
           "color": "#FFFFFF",
           "pattern": null,
           "patternColor": null,
           "patternTintAndShade": null,
           "tintAndShade": null
          },
          "font": {
           "bold": true,
           "color": "#000000",
           "italic": false,
           "name": "Calibri",
           "size": 11,
           "strikethrough": false,
           "subscript": false,
           "superscript": false,
           "tintAndShade": 0,
           "underline": "None"
          },
          "horizontalAlignment": "General",
          "indentLevel": 0,
          "numberFormat": "#,##0",
          "numberFormatCategories": "Number",
          "readingOrder": "Context",
          "rowHeight": 14.5,
          "shrinkToFit": false,
          "textOrientation": 0,
          "useStandardHeight": true,
          "useStandardWidth": true,
          "verticalAlignment": "Bottom",
          "wrapText": false
         },
         "formula": "=SUM('m+0.new?contribution:m+2.trial?contribution')+SUM('m+0.new?sales-and-marketing:m+2.trial?sales-and-marketing')",
         "id": 131,
         "oriFormula": "=SUM($D10:F10)+SUM($D11:F11)",
         "rowId": 9,
         "symRefAddress": "m+2.trial?ltv"
        },
        {
         "address": "G12",
         "cellDataType": "OUTPUT",
         "cellType": "DATA",
         "colId": 5,
         "contributingBeanIds": [
          405
         ],
         "data": "19.07055",
         "format": {
          "autoIndent": false,
          "columnWidth": 48,
          "fill": {
           "color": "#FFFFFF",
           "pattern": null,
           "patternColor": null,
           "patternTintAndShade": null,
           "tintAndShade": null
          },
          "font": {
           "bold": true,
           "color": "#000000",
           "italic": false,
           "name": "Calibri",
           "size": 11,
           "strikethrough": false,
           "subscript": false,
           "superscript": false,
           "tintAndShade": 0,
           "underline": "None"
          },
          "horizontalAlignment": "General",
          "indentLevel": 0,
          "numberFormat": "#,##0",
          "numberFormatCategories": "Number",
          "readingOrder": "Context",
          "rowHeight": 14.5,
          "shrinkToFit": false,
          "textOrientation": 0,
          "useStandardHeight": true,
          "useStandardWidth": true,
          "verticalAlignment": "Bottom",
          "wrapText": false
         },
         "formula": "=SUM('m+0.new?contribution:m+3.retained?contribution')+SUM('m+0.new?sales-and-marketing:m+3.retained?sales-and-marketing')",
         "id": 132,
         "oriFormula": "=SUM($D10:G10)+SUM($D11:G11)",
         "rowId": 9,
         "symRefAddress": "m+3.retained?ltv"
        },
        {
         "address": "H12",
         "cellDataType": "OUTPUT",
         "cellType": "DATA",
         "colId": 6,
         "contributingBeanIds": [
          405
         ],
         "data": "40.3061",
         "format": {
          "autoIndent": false,
          "columnWidth": 48,
          "fill": {
           "color": "#FFFFFF",
           "pattern": null,
           "patternColor": null,
           "patternTintAndShade": null,
           "tintAndShade": null
          },
          "font": {
           "bold": true,
           "color": "#000000",
           "italic": false,
           "name": "Calibri",
           "size": 11,
           "strikethrough": false,
           "subscript": false,
           "superscript": false,
           "tintAndShade": 0,
           "underline": "None"
          },
          "horizontalAlignment": "General",
          "indentLevel": 0,
          "numberFormat": "#,##0",
          "numberFormatCategories": "Number",
          "readingOrder": "Context",
          "rowHeight": 14.5,
          "shrinkToFit": false,
          "textOrientation": 0,
          "useStandardHeight": true,
          "useStandardWidth": true,
          "verticalAlignment": "Bottom",
          "wrapText": false
         },
         "formula": "=SUM('m+0.new?contribution:m+4.retained?contribution')+SUM('m+0.new?sales-and-marketing:m+4.retained?sales-and-marketing')",
         "id": 133,
         "oriFormula": "=SUM($D10:H10)+SUM($D11:H11)",
         "rowId": 9,
         "symRefAddress": "m+4.retained?ltv"
        },
        {
         "address": "I12",
         "cellDataType": "OUTPUT",
         "cellType": "DATA",
         "colId": 7,
         "contributingBeanIds": [
          405
         ],
         "data": "61.54165",
         "format": {
          "autoIndent": false,
          "columnWidth": 48,
          "fill": {
           "color": "#FFFFFF",
           "pattern": null,
           "patternColor": null,
           "patternTintAndShade": null,
           "tintAndShade": null
          },
          "font": {
           "bold": true,
           "color": "#000000",
           "italic": false,
           "name": "Calibri",
           "size": 11,
           "strikethrough": false,
           "subscript": false,
           "superscript": false,
           "tintAndShade": 0,
           "underline": "None"
          },
          "horizontalAlignment": "General",
          "indentLevel": 0,
          "numberFormat": "#,##0",
          "numberFormatCategories": "Number",
          "readingOrder": "Context",
          "rowHeight": 14.5,
          "shrinkToFit": false,
          "textOrientation": 0,
          "useStandardHeight": true,
          "useStandardWidth": true,
          "verticalAlignment": "Bottom",
          "wrapText": false
         },
         "formula": "=SUM('m+0.new?contribution:m+5.retained?contribution')+SUM('m+0.new?sales-and-marketing:m+5.retained?sales-and-marketing')",
         "id": 134,
         "oriFormula": "=SUM($D10:I10)+SUM($D11:I11)",
         "rowId": 9,
         "symRefAddress": "m+5.retained?ltv"
        },
        {
         "address": "J12",
         "cellDataType": "OUTPUT",
         "cellType": "DATA",
         "colId": 8,
         "contributingBeanIds": [
          405
         ],
         "data": "82.7772",
         "format": {
          "autoIndent": false,
          "columnWidth": 48,
          "fill": {
           "color": "#FFFFFF",
           "pattern": null,
           "patternColor": null,
           "patternTintAndShade": null,
           "tintAndShade": null
          },
          "font": {
           "bold": true,
           "color": "#000000",
           "italic": false,
           "name": "Calibri",
           "size": 11,
           "strikethrough": false,
           "subscript": false,
           "superscript": false,
           "tintAndShade": 0,
           "underline": "None"
          },
          "horizontalAlignment": "General",
          "indentLevel": 0,
          "numberFormat": "#,##0",
          "numberFormatCategories": "Number",
          "readingOrder": "Context",
          "rowHeight": 14.5,
          "shrinkToFit": false,
          "textOrientation": 0,
          "useStandardHeight": true,
          "useStandardWidth": true,
          "verticalAlignment": "Bottom",
          "wrapText": false
         },
         "formula": "=SUM('m+0.new?contribution:m+6.retained?contribution')+SUM('m+0.new?sales-and-marketing:m+6.retained?sales-and-marketing')",
         "id": 135,
         "oriFormula": "=SUM($D10:J10)+SUM($D11:J11)",
         "rowId": 9,
         "symRefAddress": "m+6.retained?ltv"
        },
        {
         "address": "K12",
         "cellDataType": "OUTPUT",
         "cellType": "DATA",
         "colId": 9,
         "contributingBeanIds": [
          405
         ],
         "data": "104.01275",
         "format": {
          "autoIndent": false,
          "columnWidth": 48,
          "fill": {
           "color": "#FFFFFF",
           "pattern": null,
           "patternColor": null,
           "patternTintAndShade": null,
           "tintAndShade": null
          },
          "font": {
           "bold": true,
           "color": "#000000",
           "italic": false,
           "name": "Calibri",
           "size": 11,
           "strikethrough": false,
           "subscript": false,
           "superscript": false,
           "tintAndShade": 0,
           "underline": "None"
          },
          "horizontalAlignment": "General",
          "indentLevel": 0,
          "numberFormat": "#,##0",
          "numberFormatCategories": "Number",
          "readingOrder": "Context",
          "rowHeight": 14.5,
          "shrinkToFit": false,
          "textOrientation": 0,
          "useStandardHeight": true,
          "useStandardWidth": true,
          "verticalAlignment": "Bottom",
          "wrapText": false
         },
         "formula": "=SUM('m+0.new?contribution:m+7.retained?contribution')+SUM('m+0.new?sales-and-marketing:m+7.retained?sales-and-marketing')",
         "id": 136,
         "oriFormula": "=SUM($D10:K10)+SUM($D11:K11)",
         "rowId": 9,
         "symRefAddress": "m+7.retained?ltv"
        },
        {
         "address": "L12",
         "cellDataType": "OUTPUT",
         "cellType": "DATA",
         "colId": 10,
         "contributingBeanIds": [
          405
         ],
         "data": "125.2483",
         "format": {
          "autoIndent": false,
          "columnWidth": 48,
          "fill": {
           "color": "#FFFFFF",
           "pattern": null,
           "patternColor": null,
           "patternTintAndShade": null,
           "tintAndShade": null
          },
          "font": {
           "bold": true,
           "color": "#000000",
           "italic": false,
           "name": "Calibri",
           "size": 11,
           "strikethrough": false,
           "subscript": false,
           "superscript": false,
           "tintAndShade": 0,
           "underline": "None"
          },
          "horizontalAlignment": "General",
          "indentLevel": 0,
          "numberFormat": "#,##0",
          "numberFormatCategories": "Number",
          "readingOrder": "Context",
          "rowHeight": 14.5,
          "shrinkToFit": false,
          "textOrientation": 0,
          "useStandardHeight": true,
          "useStandardWidth": true,
          "verticalAlignment": "Bottom",
          "wrapText": false
         },
         "formula": "=SUM('m+0.new?contribution:m+8.retained?contribution')+SUM('m+0.new?sales-and-marketing:m+8.retained?sales-and-marketing')",
         "id": 137,
         "oriFormula": "=SUM($D10:L10)+SUM($D11:L11)",
         "rowId": 9,
         "symRefAddress": "m+8.retained?ltv"
        },
        {
         "address": "M12",
         "cellDataType": "OUTPUT",
         "cellType": "DATA",
         "colId": 11,
         "contributingBeanIds": [
          405
         ],
         "data": "146.48385",
         "format": {
          "autoIndent": false,
          "columnWidth": 48,
          "fill": {
           "color": "#FFFFFF",
           "pattern": null,
           "patternColor": null,
           "patternTintAndShade": null,
           "tintAndShade": null
          },
          "font": {
           "bold": true,
           "color": "#000000",
           "italic": false,
           "name": "Calibri",
           "size": 11,
           "strikethrough": false,
           "subscript": false,
           "superscript": false,
           "tintAndShade": 0,
           "underline": "None"
          },
          "horizontalAlignment": "General",
          "indentLevel": 0,
          "numberFormat": "#,##0",
          "numberFormatCategories": "Number",
          "readingOrder": "Context",
          "rowHeight": 14.5,
          "shrinkToFit": false,
          "textOrientation": 0,
          "useStandardHeight": true,
          "useStandardWidth": true,
          "verticalAlignment": "Bottom",
          "wrapText": false
         },
         "formula": "=SUM('m+0.new?contribution:m+9.retained?contribution')+SUM('m+0.new?sales-and-marketing:m+9.retained?sales-and-marketing')",
         "id": 138,
         "oriFormula": "=SUM($D10:M10)+SUM($D11:M11)",
         "rowId": 9,
         "symRefAddress": "m+9.retained?ltv"
        },
        {
         "address": "N12",
         "cellDataType": "OUTPUT",
         "cellType": "DATA",
         "colId": 12,
         "contributingBeanIds": [
          405
         ],
         "data": "167.7194",
         "format": {
          "autoIndent": false,
          "columnWidth": 48,
          "fill": {
           "color": "#FFFFFF",
           "pattern": null,
           "patternColor": null,
           "patternTintAndShade": null,
           "tintAndShade": null
          },
          "font": {
           "bold": true,
           "color": "#000000",
           "italic": false,
           "name": "Calibri",
           "size": 11,
           "strikethrough": false,
           "subscript": false,
           "superscript": false,
           "tintAndShade": 0,
           "underline": "None"
          },
          "horizontalAlignment": "General",
          "indentLevel": 0,
          "numberFormat": "#,##0",
          "numberFormatCategories": "Number",
          "readingOrder": "Context",
          "rowHeight": 14.5,
          "shrinkToFit": false,
          "textOrientation": 0,
          "useStandardHeight": true,
          "useStandardWidth": true,
          "verticalAlignment": "Bottom",
          "wrapText": false
         },
         "formula": "=SUM('m+0.new?contribution:m+10.retained?contribution')+SUM('m+0.new?sales-and-marketing:m+10.retained?sales-and-marketing')",
         "id": 139,
         "oriFormula": "=SUM($D10:N10)+SUM($D11:N11)",
         "rowId": 9,
         "symRefAddress": "m+10.retained?ltv"
        },
        {
         "address": "O12",
         "cellDataType": "OUTPUT",
         "cellType": "DATA",
         "colId": 13,
         "contributingBeanIds": [
          405
         ],
         "data": "188.95495",
         "format": {
          "autoIndent": false,
          "columnWidth": 48,
          "fill": {
           "color": "#FFFFFF",
           "pattern": null,
           "patternColor": null,
           "patternTintAndShade": null,
           "tintAndShade": null
          },
          "font": {
           "bold": true,
           "color": "#000000",
           "italic": false,
           "name": "Calibri",
           "size": 11,
           "strikethrough": false,
           "subscript": false,
           "superscript": false,
           "tintAndShade": 0,
           "underline": "None"
          },
          "horizontalAlignment": "General",
          "indentLevel": 0,
          "numberFormat": "#,##0",
          "numberFormatCategories": "Number",
          "readingOrder": "Context",
          "rowHeight": 14.5,
          "shrinkToFit": false,
          "textOrientation": 0,
          "useStandardHeight": true,
          "useStandardWidth": true,
          "verticalAlignment": "Bottom",
          "wrapText": false
         },
         "formula": "=SUM('m+0.new?contribution:m+11.retained?contribution')+SUM('m+0.new?sales-and-marketing:m+11.retained?sales-and-marketing')",
         "id": 140,
         "oriFormula": "=SUM($D10:O10)+SUM($D11:O11)",
         "rowId": 9,
         "symRefAddress": "m+11.retained?ltv"
        }
       ],
       "colHeaderGroups": [
        {
         "coordinateName": "start-month",
         "coordinateType": "dimension",
         "rowOrColId": 0
        },
        {
         "coordinateName": "cus-stage",
         "coordinateType": "dimension",
         "rowOrColId": 1
        }
       ],
       "contributingBeans": [
        {
         "id": 405,
         "offset": 0,
         "vars": {
          "cogs-per-user": "-7.5",
          "monthly-churn-rate": [
           "-0.3",
           "-0.14",
           "-0.17",
           "0",
           "0",
           "0",
           "0",
           "0",
           "0",
           "0",
           "0"
          ],
          "revenue-per-user": "50"
         }
        }
       ],
       "dependencies": [],
       "locationAddr": "B3",
       "name": "UnitCustomerLTV",
       "rowHeaderGroups": [
        {
         "coordinateName": "ltv-metrics",
         "coordinateType": "measure",
         "rowOrColId": 0
        }
       ],
       "updateDate": "2022-07-09T18:45:39.382Z",
       "vars": {
        "cogs-per-user": "-7.5",
        "monthly-churn-rate": [
         "-0.30",
         "-0.14",
         "-0.17",
         "0.00",
         "0.00",
         "0.00",
         "0.00",
         "0.00",
         "0.00",
         "0.00",
         "0.00"
        ],
        "revenue-per-user": "50"
       },
       "vcsVersion": {
        "major": 0,
        "minor": 13
       }
      },
      "text/plain": [
       "<IPython.core.display.JSON object>"
      ]
     },
     "execution_count": 111,
     "metadata": {
      "application/json": {
       "expanded": false,
       "root": "root"
      }
     },
     "output_type": "execute_result"
    }
   ],
   "source": [
    "\n",
    "#persist var value for monthly churn rate; source of truth is pod UnitCustomerLTV\n",
    "varsDelta = {\"monthly-churn-rate\":customerActualsMonthlyChurnRate}\n",
    "\n",
    "#fetch the associated pod and load the vars object\n",
    "pod = getPod(unitCusLTVPodName);\n",
    "podVars = pod['vars'];\n",
    "#update the loaded pod Vars with vars Delta produced from this notebook operation\n",
    "podVars.update(varsDelta);\n",
    "#prepare payload for pod update\n",
    "podPayload =  {\"_id\":pod['_id'],\"vars\":podVars}\n",
    "savedPod=savePod(podPayload)\n",
    "\n",
    "JSON(savedPod)"
   ]
  },
  {
   "cell_type": "code",
   "execution_count": null,
   "id": "5b4ba502-9423-4920-b7cc-52879317ad95",
   "metadata": {},
   "outputs": [],
   "source": []
  }
 ],
 "metadata": {
  "kernelspec": {
   "display_name": "Python 3 (ipykernel)",
   "language": "python",
   "name": "python3"
  },
  "language_info": {
   "codemirror_mode": {
    "name": "ipython",
    "version": 3
   },
   "file_extension": ".py",
   "mimetype": "text/x-python",
   "name": "python",
   "nbconvert_exporter": "python",
   "pygments_lexer": "ipython3",
   "version": "3.8.13"
  }
 },
 "nbformat": 4,
 "nbformat_minor": 5
}
