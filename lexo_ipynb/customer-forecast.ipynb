{
 "cells": [
  {
   "cell_type": "markdown",
   "id": "ec8dc145-18e8-42a1-be14-eb4ed930d70c",
   "metadata": {},
   "source": [
    "The input to this forecast consists of :\n",
    "1. a csv file (newStartCustomerForecast.csv) that has a series of tuples - start-month and customer-count-forecast for each month In other words: The forecast of customer count for the 1st month for each cohort of customers in an upcoming period \n",
    "    \n",
    "2. The churn rate of actual customer retention count for each month in a past period. The data supplied to test both cases involve a period of 12 months. This data is read from Pod#UnitCustomerLTV\n",
    "\n",
    "The outputs involve calculating the forecast for each subsequent month of a cohort's existence beginning from its (cohort's that is) 1st month to the last month in the period. Each forecast involves the formula: (1+applicable churn rate for the month of existence) * the forecasted customer count for the previous month). This logic is applied for each of the cohorts."
   ]
  },
  {
   "cell_type": "code",
   "execution_count": 1,
   "id": "b2645057-9249-4d58-95cd-069110734142",
   "metadata": {},
   "outputs": [],
   "source": [
    "newStartCustomerForecastInputFile = \"../csv/newStartCustomerForecast.csv\" # input to start notebook operations"
   ]
  },
  {
   "cell_type": "markdown",
   "id": "cfe72cdd-6001-430b-840f-944dab869096",
   "metadata": {},
   "source": [
    "The second input to this notebook operation is the monthly churn rate array variable; read from Pod#UnitCustomerLTV, the source of truth for that data. Here's how it would typically look:\n",
    "monthlyChurnRates =[-0.30, -0.14, -0.17, 0.0, 0.0, 0.0, 0.0, 0.0, 0.0, 0.0, 0.0]"
   ]
  },
  {
   "cell_type": "code",
   "execution_count": 3,
   "id": "9f8c5fa7-4167-4366-9c8a-780ed62b6112",
   "metadata": {},
   "outputs": [
    {
     "name": "stdout",
     "output_type": "stream",
     "text": [
      "[-0.3, -0.14, -0.17, 0.0, 0.0, 0.0, 0.0, 0.0, 0.0, 0.0, 0.0]\n"
     ]
    }
   ],
   "source": [
    "#read in the monthly churn rates from pod\n",
    "unitCusLTVPodName= \"UnitCustomerLTV\";  # name of related pod\n",
    "\n",
    "import sys; sys.path.insert(0, '../pythonLib')\n",
    "from LexoOperations import  getPod, savePod\n",
    "\n",
    "pod = getPod(unitCusLTVPodName)\n",
    "customerActualsMonthlyChurnRate = pod['vars']['monthly-churn-rate']\n",
    "\n",
    "#insure that type is float since we are doing calculations with it and Python raises error if it is type 'str'\n",
    "mcr = []\n",
    "for item in customerActualsMonthlyChurnRate:\n",
    "    #set number of decimal points to 2 and make it a float from string\n",
    "    if (isinstance(item,str)) :\n",
    "        float_item = float('%.2f'%float(item))\n",
    "        mcr.append(float_item) \n",
    "    else:\n",
    "        mcr.append(item)\n",
    "customerActualsMonthlyChurnRate = mcr\n",
    "print(customerActualsMonthlyChurnRate)"
   ]
  },
  {
   "cell_type": "markdown",
   "id": "7cf8f0b4-02e0-4601-9b44-924436ac696f",
   "metadata": {},
   "source": [
    "Read the new starting customer forecast csv, normalize the data read, and convert it to 2 companion arrays - startMonthsForForecast and initialCusCountForecast"
   ]
  },
  {
   "cell_type": "code",
   "execution_count": 4,
   "id": "bc682293-a8ee-4ce6-a9e5-f3618ccc1ac2",
   "metadata": {},
   "outputs": [],
   "source": [
    "import csv\n",
    "def readForecastData(filePath) :\n",
    "\n",
    "    with open(filePath, 'r') as csvfile:\n",
    "        datareader = csv.reader(csvfile);\n",
    "        head = next(datareader); # skip header line\n",
    "\n",
    "        startMonthsForForecast = [];\n",
    "        initialCusCountForecast = [];\n",
    "        for col0, col1 in datareader:\n",
    "            startMonthsForForecast.append(col0);\n",
    "            initialCusCountForecast.append(col1);\n",
    "    return startMonthsForForecast,initialCusCountForecast\n"
   ]
  },
  {
   "cell_type": "code",
   "execution_count": 5,
   "id": "7ec0e8d5-d9b0-4a57-942c-35e979018f02",
   "metadata": {},
   "outputs": [
    {
     "name": "stdout",
     "output_type": "stream",
     "text": [
      "['2021-01-01', '2021-02-01', '2021-03-01', '2021-04-01', '2021-05-01', '2021-06-01', '2021-07-01', '2021-08-01', '2021-09-01', '2021-10-01', '2021-11-01', '2021-12-01'] ['100', '110', '120', '130', '140', '140', '140', '140', '140', '140', '140', '140']\n"
     ]
    }
   ],
   "source": [
    "startMonthsForForecast,initialCusCountForecast = readForecastData(newStartCustomerForecastInputFile);\n",
    "print(startMonthsForForecast,initialCusCountForecast)"
   ]
  },
  {
   "cell_type": "markdown",
   "id": "515bd48e-7803-4d61-83e4-f4225df249c9",
   "metadata": {
    "tags": []
   },
   "source": [
    "Input to this notebook operation : An array of cohort begin dates, and a matching companion array that provides the forecasted customer count for each cohort. In other words, the initial forecast for each cohort."
   ]
  },
  {
   "cell_type": "code",
   "execution_count": 111,
   "id": "7b26f6e6-42c7-4d52-8de9-7b48096e818c",
   "metadata": {},
   "outputs": [],
   "source": [
    "#This is to illustrate how the arrays are set up\n",
    "#startMonthsForForecast=[\"2021-01-01\",\"2021-02-01\",\"2021-03-01\",\"2021-04-01\",\"2021-05-01\",\"2021-06-01\",\n",
    "#                        \"2021-07-01\",\"2021-08-01\",\"2021-09-01\",\"2021-10-01\",\"2021-11-01\",\"2021-12-01\"];\n",
    "#initialCusCountForecast=[100,110,120,130,140,140,140,140,140,140,140,140]"
   ]
  },
  {
   "cell_type": "markdown",
   "id": "18b93fb4-2e31-42dd-89b2-246f2fafad94",
   "metadata": {},
   "source": [
    "The output of this notebook operation is to  generate forecast data that is used to populate an already existing  CustomerForecast table (empty or not)\n",
    "\n",
    "The basic task is to generate the data to populate the CustomerForecast bean. The steps are:\n",
    "\n",
    "    1. Normalize the inception input data provided as input to the notebook\n",
    "    \n",
    "    2. Calculate the monthly forecast for each month of a cohort's existence, encompassing all cohorts; the output generated is normalized (i.e  a table with columns start-month, active-month, and forecast of customer count); the monthly churn rate data us used in this process\n",
    "    \n",
    "    3. Aggregate the two tables from each of the above 2 steps\n",
    "    \n",
    "    4. Sort the aggregated normalized data by start-month, active-month\n",
    "    \n",
    "    5. Data then is prepared for populating the CustomerForecast bean; the normalized data is pivoted to have start-month as the column axis, and active-month as the row axis; the data generated is for each intersection of start-month and active-month\n",
    "    \n",
    "    6. Data generated is an array of  items with each item consisting of the symbolicReference to a cell intersection, and the calculated customer forecast (i.e {'symRef': '2021-01-01?2021-01-01', 'data': 100.0} ; some items include a formula (instead of calculated data when aggregation is involved ) \n",
    "\n",
    "    7. The Customer Forecast pod is assumed to have already exist in the repository \n",
    "    \n",
    "    8. The pod is fetched , and the data generated from step 6 is used to find the cells of a the pod and update it.\n",
    "    \n",
    "    9. The CustomerForecast pod is then saved to the repository"
   ]
  },
  {
   "cell_type": "code",
   "execution_count": 6,
   "id": "7cff5251-eb10-40af-9975-fe13a7453f17",
   "metadata": {},
   "outputs": [],
   "source": [
    "cusForecastPodName = \"CustomerForecast\";\n",
    "import sys; sys.path.insert(0, '../pythonLib')\n",
    "from customerCohortOperations import prepareDataForPopulatingActualsOrForecastPod, updatePodObj\n"
   ]
  },
  {
   "cell_type": "code",
   "execution_count": 7,
   "id": "7602e1bd-a3fe-402c-8576-acf33e84b6cf",
   "metadata": {},
   "outputs": [],
   "source": [
    "#Normalize the input data; the start-month also becomes the active-month; so we have a 1 row table\n",
    "# with columns start-month, active-month,cus-count; jsonify it \n",
    "normalizedForecastDataAtInception =[]\n",
    "\n",
    "def normalizeForecastData (startMonthsForForecast, initialCusCountForecast) :\n",
    "    normalizedCustomerForecastData=[] # ret Value\n",
    "    index = 0;\n",
    "    for startMonth in startMonthsForForecast :\n",
    "        activeMonth = startMonth; #startMonth also becomes the activeMonth\n",
    "        cusCount = initialCusCountForecast[index]\n",
    "        index = index+1;\n",
    "        row = {\"start-month\":startMonth, \"active-month\":activeMonth, \"cus-count\":cusCount}\n",
    "        normalizedCustomerForecastData.append(row);\n",
    "    return   normalizedCustomerForecastData;\n",
    "\n",
    "normalizedForecastDataAtInception = normalizeForecastData(startMonthsForForecast, initialCusCountForecast);"
   ]
  },
  {
   "cell_type": "code",
   "execution_count": 8,
   "id": "7243d32a-60b2-42c3-a328-73a8f4998f5c",
   "metadata": {},
   "outputs": [],
   "source": [
    "#Uncomment for debugging\n",
    "#print(normalizedForecastDataAtInception)"
   ]
  },
  {
   "cell_type": "code",
   "execution_count": 9,
   "id": "dc8f9a8c-73c9-411f-aa23-b5d6da2c8012",
   "metadata": {},
   "outputs": [],
   "source": [
    "from IPython.display import JSON\n",
    "import requests\n",
    "import pandas as pd\n",
    "import  json\n",
    "import numpy as np\n",
    "from datetime import datetime\n",
    "from dateutil.relativedelta import relativedelta"
   ]
  },
  {
   "cell_type": "code",
   "execution_count": 10,
   "id": "cc32f112-f5d7-4d5f-adae-cbae8e53eeec",
   "metadata": {},
   "outputs": [],
   "source": [
    "def getCusCountFromDataFrameGivenActiveMonthAndStartMonth(normalizedDF, activeMonth, startMonth,):\n",
    "    df = normalizedDF;\n",
    "    cusCount = float(\"NAN\");\n",
    "    #print(\"inside getCusCountFromDataFrameGivenActiveMonthAndStartMonth:\", activeMonth, startMonth)\n",
    "    selectedRow = df.loc[(df['active-month'] == activeMonth) & (df['start-month'] == startMonth)]  # returns a dataframe with that one row\n",
    "    if selectedRow.empty :\n",
    "        pass\n",
    "    else:\n",
    "        cusCount =  selectedRow.iloc[0,2]  #1st index is row selector, 2nd index is col selector (cus-count is at index 2\n",
    "    return cusCount"
   ]
  },
  {
   "cell_type": "code",
   "execution_count": 11,
   "id": "5997a7f6-7807-4b58-a196-7995c5eac573",
   "metadata": {},
   "outputs": [],
   "source": [
    "def calculateMonthlyForecast (priorYearchurnRates, normalizedForecastAtInceptionDF,  activeMonths, startMonths ):\n",
    "    #returns normalized forecast info \n",
    "    firstPeriodDate = activeMonths[0];\n",
    "    lastPeriodDate = activeMonths[-1];\n",
    "    normalizedForcastInfo = [];\n",
    "    cohortId = -1;\n",
    "    #print(normalizedDF)\n",
    "    \n",
    "    for startMonth in startMonths:\n",
    "\n",
    "        #For the case where startMonth == start of last period date, the forecast has already been provided\n",
    "        # as input; forecast for subsequent month(s) is not involved, and so case of > is also has\n",
    "        #to be by-passed\n",
    "        if (startMonth >= str(lastPeriodDate)):\n",
    "            continue;  # bypass\n",
    "        prevPeriodCusCount = None;\n",
    "        #assumed that forecast for initial month  is the only data available for each cohort;\n",
    "        # subsequent month forecast values are calculated based on monthly churn rate provided\n",
    "        forecastCusCount = getCusCountFromDataFrameGivenActiveMonthAndStartMonth(normalizedForecastAtInceptionDF,startMonth,startMonth);\n",
    "        #print(startMonth, forecastCusCount)\n",
    "        if pd.isna(forecastCusCount):\n",
    "            continue\n",
    "        else:\n",
    "            prevPeriodCusCount = forecastCusCount;\n",
    "\n",
    "        periodIndex=0;\n",
    "        for activeMonth in activeMonths:\n",
    "                               \n",
    "            if (activeMonth <= startMonth):\n",
    "                continue;\n",
    "            \n",
    "            periodIndex = periodIndex + 1;\n",
    "           \n",
    "            applicableChurnRate = priorYearchurnRates[periodIndex-1];\n",
    "            #print('startMonth:', startMonth, 'activeMonth:', activeMonth, 'prevPeriodCusCount: ',prevPeriodCusCount, ' applicableChurnRate:',applicableChurnRate)\n",
    "            #\n",
    "            forecastCusCount = (1+applicableChurnRate)* float(prevPeriodCusCount);\n",
    "            forecastInfoForPeriod = {\"start-month\": startMonth, \"active-month\":activeMonth,\"cus-count\":forecastCusCount}\n",
    "           \n",
    "            #print(forecastInfoForPeriod)\n",
    "            prevPeriodCusCount = forecastCusCount;\n",
    "            normalizedForcastInfo.append(forecastInfoForPeriod);\n",
    "            \n",
    "\n",
    "    return normalizedForcastInfo;\n"
   ]
  },
  {
   "cell_type": "code",
   "execution_count": 119,
   "id": "a04752ca-094d-4814-b1e5-e0a0add93079",
   "metadata": {},
   "outputs": [],
   "source": [
    "def extractStartMonthsAndActiveMonths(normalizedInitialForecastCustomerCountJsonData):\n",
    "    startMonths=[];\n",
    "    activeMonths=[];\n",
    "    for customerForecastRecord in normalizedInitialForecastCustomerCountJsonData:\n",
    "        startMonth = customerForecastRecord[\"start-month\"]\n",
    "        activeMonth = customerForecastRecord[\"active-month\"]\n",
    "        cusCount=customerForecastRecord[\"cus-count\"]\n",
    "        if startMonth not in startMonths:\n",
    "            startMonths.append(startMonth)\n",
    "        if activeMonth not in activeMonths:\n",
    "            activeMonths.append(activeMonth)\n",
    "                \n",
    "    retVal = { \"startMonths\":startMonths, \"activeMonths\":activeMonths}     \n",
    "    return retVal;"
   ]
  },
  {
   "cell_type": "code",
   "execution_count": 120,
   "id": "b29c01d7-6778-4bda-b74a-a27f10da9c9c",
   "metadata": {},
   "outputs": [],
   "source": [
    "retVal = extractStartMonthsAndActiveMonths(normalizedForecastDataAtInception)\n",
    "startMonths =retVal[\"startMonths\"]\n",
    "activeMonths = retVal[\"activeMonths\"]"
   ]
  },
  {
   "cell_type": "code",
   "execution_count": 121,
   "id": "21375467-33fd-4afe-a381-b313ab14bbdd",
   "metadata": {},
   "outputs": [],
   "source": [
    "normalizedForecastDataAtInceptionDF = pd.DataFrame(normalizedForecastDataAtInception)\n",
    "normalizedForecastData = calculateMonthlyForecast(customerActualsMonthlyChurnRate, normalizedForecastDataAtInceptionDF,startMonths,activeMonths)"
   ]
  },
  {
   "cell_type": "code",
   "execution_count": 122,
   "id": "b211c60a-ce27-4c37-b44c-37d2c02f8cb4",
   "metadata": {},
   "outputs": [
    {
     "name": "stdout",
     "output_type": "stream",
     "text": [
      "   start-month active-month cus-count\n",
      "0   2021-01-01   2021-01-01       100\n",
      "1   2021-01-01   2021-02-01      70.0\n",
      "2   2021-01-01   2021-03-01      60.2\n",
      "3   2021-01-01   2021-04-01    49.966\n",
      "4   2021-01-01   2021-05-01    49.966\n",
      "..         ...          ...       ...\n",
      "73  2021-10-01   2021-11-01      98.0\n",
      "74  2021-10-01   2021-12-01     84.28\n",
      "75  2021-11-01   2021-11-01       140\n",
      "76  2021-11-01   2021-12-01      98.0\n",
      "77  2021-12-01   2021-12-01       140\n",
      "\n",
      "[78 rows x 3 columns]\n"
     ]
    }
   ],
   "source": [
    "for entry in normalizedForecastDataAtInception:\n",
    "    normalizedForecastData.append(entry)\n",
    "normalizedForecastDataDF = pd.DataFrame(normalizedForecastData) ;\n",
    "\n",
    "normalizedForecastDataDF = normalizedForecastDataDF.sort_values(by=['start-month','active-month'])\n",
    "normalizedForecastDataDF = normalizedForecastDataDF.reset_index(drop=True)\n",
    "normalizedForecastDataDF = normalizedForecastDataDF.round(2)\n",
    "print(normalizedForecastDataDF)"
   ]
  },
  {
   "cell_type": "code",
   "execution_count": 123,
   "id": "7d104854-ac68-4829-9633-34daf7a7620c",
   "metadata": {},
   "outputs": [],
   "source": [
    "podDataForForecast = prepareDataForPopulatingActualsOrForecastPod(normalizedForecastDataDF);\n",
    "#print (\"printing podData\")\n",
    "#for item in podDataForForecast :\n",
    "    #print(item)\n",
    "    \n",
    "##sample item: {'symRef': '2021-01-01?2021-01-01', 'data': 100.0}    "
   ]
  },
  {
   "cell_type": "code",
   "execution_count": 124,
   "id": "8d0fa2dd-5e24-4bce-8b3c-aa66470c67f8",
   "metadata": {},
   "outputs": [],
   "source": [
    "forecastPod = getPod(cusForecastPodName)\n"
   ]
  },
  {
   "cell_type": "code",
   "execution_count": 125,
   "id": "0f990676-eca3-483c-8c60-0cfba968024e",
   "metadata": {},
   "outputs": [],
   "source": [
    "updatePodObj(forecastPod,podDataForForecast)\n",
    "#JSON(forecastPod)"
   ]
  },
  {
   "cell_type": "code",
   "execution_count": 126,
   "id": "759ef27e-0254-4634-8689-bb9e4b55e2fd",
   "metadata": {},
   "outputs": [],
   "source": [
    "savedPod = savePod(forecastPod)"
   ]
  },
  {
   "cell_type": "code",
   "execution_count": null,
   "id": "12f4cbf5-786b-46c7-8001-b4f846feb669",
   "metadata": {},
   "outputs": [],
   "source": []
  }
 ],
 "metadata": {
  "kernelspec": {
   "display_name": "Python 3 (ipykernel)",
   "language": "python",
   "name": "python3"
  },
  "language_info": {
   "codemirror_mode": {
    "name": "ipython",
    "version": 3
   },
   "file_extension": ".py",
   "mimetype": "text/x-python",
   "name": "python",
   "nbconvert_exporter": "python",
   "pygments_lexer": "ipython3",
   "version": "3.8.13"
  }
 },
 "nbformat": 4,
 "nbformat_minor": 5
}
